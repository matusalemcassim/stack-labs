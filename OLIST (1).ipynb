{
 "cells": [
  {
   "cell_type": "markdown",
   "metadata": {},
   "source": [
    "# SALES PREDICTION USING ARIMA AND PROPHET FOR BRAZILIAN E-COMMERCE"
   ]
  },
  {
   "cell_type": "markdown",
   "metadata": {},
   "source": [
    "The dataset was generously provided by Olist, the largest department store in Brazilian marketplaces. Olist connects small businesses from all over Brazil to channels without hassle and with a single contract. Those merchants are able to sell their products through the Olist Store and ship them directly to the customers using Olist logistics partners. See more on our website: www.olist.com\n",
    "\n",
    "After a customer purchases the product from Olist Store a seller gets notified to fulfill that order. Once the customer receives the product, or the estimated delivery date is due, the customer gets a satisfaction survey by email where he can give a note for the purchase experience and write down some comments."
   ]
  },
  {
   "cell_type": "markdown",
   "metadata": {},
   "source": [
    "**What is ARIMA model?**\n",
    "\n",
    "A. ARIMA(Auto Regressive Integrated Moving Average) is a combination of 2 models AR(Auto Regressive) & MA(Moving Average). It has 3 hyperparameters - P(auto regressive lags),d(order of differentiation),Q(moving avg.) which respectively comes from the AR, I & MA components. The AR part is correlation between prev & current time periods. To smooth out the noise, the MA part is used. The I part binds together the AR & MA parts."
   ]
  },
  {
   "cell_type": "markdown",
   "metadata": {},
   "source": [
    "# 📤 IMPORT LIBRARIES"
   ]
  },
  {
   "cell_type": "code",
   "execution_count": null,
   "metadata": {},
   "outputs": [],
   "source": [
    "!pip install statsmodels\n",
    "!pip install pmdarima"
   ]
  },
  {
   "cell_type": "code",
   "execution_count": 2,
   "metadata": {},
   "outputs": [],
   "source": [
    "import numpy as np\n",
    "import pandas as pd\n",
    "from pandas.plotting import autocorrelation_plot\n",
    "from scipy import stats\n",
    "import os\n",
    "import itertools\n",
    "\n",
    "import matplotlib.pyplot as plt\n",
    "import seaborn as sns\n",
    "import statsmodels.api as sm\n",
    "\n",
    "from pylab import rcParams\n",
    "\n",
    "from pmdarima import auto_arima\n",
    "from statsmodels.tsa.arima.model import ARIMA\n",
    "\n",
    "from xgboost import  XGBRegressor\n",
    "\n",
    "# elimina os warnings das bibliotecas\n",
    "import warnings\n",
    "warnings.filterwarnings('ignore')\n",
    "%matplotlib inline"
   ]
  },
  {
   "cell_type": "markdown",
   "metadata": {},
   "source": [
    "# 💾 CHECK OUT THE DATA"
   ]
  },
  {
   "cell_type": "code",
   "execution_count": 3,
   "metadata": {},
   "outputs": [],
   "source": [
    "df_item = pd.read_csv(\"dataset/olist_order_items_dataset.csv\")\n",
    "df_reviews = pd.read_csv(\"dataset/olist_order_reviews_dataset.csv\")\n",
    "df_orders = pd.read_csv(\"dataset/olist_orders_dataset.csv\")\n",
    "df_products = pd.read_csv(\"dataset/olist_products_dataset.csv\")\n",
    "df_geolocation = pd.read_csv(\"dataset/olist_geolocation_dataset.csv\")\n",
    "df_sellers = pd.read_csv(\"dataset/olist_sellers_dataset.csv\")\n",
    "df_order_pay = pd.read_csv(\"dataset/olist_order_payments_dataset.csv\")\n",
    "df_customers = pd.read_csv(\"dataset/olist_customers_dataset.csv\")\n",
    "df_category = pd.read_csv(\"dataset/product_category_name_translation.csv\")"
   ]
  },
  {
   "cell_type": "markdown",
   "metadata": {},
   "source": [
    "**ALL IN ONE**"
   ]
  },
  {
   "cell_type": "code",
   "execution_count": 4,
   "metadata": {},
   "outputs": [],
   "source": [
    "# merge all the tables in one dataframe\n",
    "df_train = df_orders.merge(df_item, on='order_id', how='left')\n",
    "df_train = df_train.merge(df_order_pay, on='order_id', how='outer', validate='m:m')\n",
    "df_train = df_train.merge(df_reviews, on='order_id', how='outer')\n",
    "df_train = df_train.merge(df_products, on='product_id', how='outer')\n",
    "df_train = df_train.merge(df_customers, on='customer_id', how='outer')\n",
    "df_train = df_train.merge(df_sellers, on='seller_id', how='outer')"
   ]
  },
  {
   "cell_type": "markdown",
   "metadata": {},
   "source": [
    "**CONVERT DATE COLUMNS TO TIMESTAMP**"
   ]
  },
  {
   "cell_type": "code",
   "execution_count": 5,
   "metadata": {},
   "outputs": [],
   "source": [
    "df_train['order_purchase_time'] = pd.to_datetime(df_train['order_purchase_timestamp']).dt.time"
   ]
  },
  {
   "cell_type": "code",
   "execution_count": 6,
   "metadata": {},
   "outputs": [],
   "source": [
    "# Extracting attributes for purchase date - Date\n",
    "df_train['order_purchase_timestamp'] = pd.to_datetime(df_train['order_purchase_timestamp']).dt.date\n",
    "df_train['order_delivered_customer_date'] = pd.to_datetime(df_train['order_delivered_customer_date']).dt.date\n",
    "df_train['order_estimated_delivery_date'] = pd.to_datetime(df_train['order_estimated_delivery_date']).dt.date\n",
    "df_train['order_approved_at'] = pd.to_datetime(df_train['order_approved_at']).dt.date\n",
    "df_train['order_delivered_carrier_date'] = pd.to_datetime(df_train['order_delivered_carrier_date']).dt.date"
   ]
  },
  {
   "cell_type": "code",
   "execution_count": 7,
   "metadata": {},
   "outputs": [],
   "source": [
    "# Extracting attributes for purchase date - Year and Month\n",
    "df_train['order_purchase_year'] = pd.to_datetime(df_train['order_purchase_timestamp']).dt.year\n",
    "df_train['order_purchase_month'] = pd.to_datetime(df_train['order_purchase_timestamp']).dt.month\n",
    "df_train['order_purchase_month_name'] = df_train['order_purchase_timestamp'].apply(lambda x: x.strftime('%b'))"
   ]
  },
  {
   "cell_type": "code",
   "execution_count": 8,
   "metadata": {},
   "outputs": [],
   "source": [
    "# Extracting attributes for purchase date - Day and Day of Week\n",
    "df_train['order_purchase_day'] = pd.to_datetime(df_train['order_purchase_timestamp']).apply(lambda x: x.day)\n",
    "df_train['order_purchase_dayofweek'] = pd.to_datetime(df_train['order_purchase_timestamp']).apply(lambda x: x.dayofweek)\n",
    "df_train['order_purchase_dayofweek_name'] = pd.to_datetime(df_train['order_purchase_timestamp']).dt.day_name()"
   ]
  },
  {
   "cell_type": "code",
   "execution_count": 9,
   "metadata": {},
   "outputs": [],
   "source": [
    "df_train['order_purchase_timestamp'] = pd.to_datetime(df_train['order_purchase_timestamp'])\n",
    "df_train['order_purchase_time'] = pd.to_datetime(df_train['order_purchase_time'],format='%H:%M:%S').dt.time\n",
    "df_train['order_delivered_customer_date'] = pd.to_datetime(df_train['order_delivered_customer_date'])\n",
    "df_train['order_estimated_delivery_date'] = pd.to_datetime(df_train['order_estimated_delivery_date'])\n"
   ]
  },
  {
   "cell_type": "code",
   "execution_count": 10,
   "metadata": {},
   "outputs": [
    {
     "data": {
      "text/html": [
       "<div>\n",
       "<style scoped>\n",
       "    .dataframe tbody tr th:only-of-type {\n",
       "        vertical-align: middle;\n",
       "    }\n",
       "\n",
       "    .dataframe tbody tr th {\n",
       "        vertical-align: top;\n",
       "    }\n",
       "\n",
       "    .dataframe thead th {\n",
       "        text-align: right;\n",
       "    }\n",
       "</style>\n",
       "<table border=\"1\" class=\"dataframe\">\n",
       "  <thead>\n",
       "    <tr style=\"text-align: right;\">\n",
       "      <th></th>\n",
       "      <th>order_id</th>\n",
       "      <th>customer_id</th>\n",
       "      <th>order_status</th>\n",
       "      <th>order_purchase_timestamp</th>\n",
       "      <th>order_approved_at</th>\n",
       "      <th>order_delivered_carrier_date</th>\n",
       "      <th>order_delivered_customer_date</th>\n",
       "      <th>order_estimated_delivery_date</th>\n",
       "      <th>order_item_id</th>\n",
       "      <th>product_id</th>\n",
       "      <th>...</th>\n",
       "      <th>seller_zip_code_prefix</th>\n",
       "      <th>seller_city</th>\n",
       "      <th>seller_state</th>\n",
       "      <th>order_purchase_time</th>\n",
       "      <th>order_purchase_year</th>\n",
       "      <th>order_purchase_month</th>\n",
       "      <th>order_purchase_month_name</th>\n",
       "      <th>order_purchase_day</th>\n",
       "      <th>order_purchase_dayofweek</th>\n",
       "      <th>order_purchase_dayofweek_name</th>\n",
       "    </tr>\n",
       "  </thead>\n",
       "  <tbody>\n",
       "    <tr>\n",
       "      <th>0</th>\n",
       "      <td>e481f51cbdc54678b7cc49136f2d6af7</td>\n",
       "      <td>9ef432eb6251297304e76186b10a928d</td>\n",
       "      <td>delivered</td>\n",
       "      <td>2017-10-02</td>\n",
       "      <td>2017-10-02</td>\n",
       "      <td>2017-10-04</td>\n",
       "      <td>2017-10-10</td>\n",
       "      <td>2017-10-18</td>\n",
       "      <td>1.0</td>\n",
       "      <td>87285b34884572647811a353c7ac498a</td>\n",
       "      <td>...</td>\n",
       "      <td>9350.0</td>\n",
       "      <td>maua</td>\n",
       "      <td>SP</td>\n",
       "      <td>10:56:00</td>\n",
       "      <td>2017</td>\n",
       "      <td>10</td>\n",
       "      <td>Oct</td>\n",
       "      <td>2</td>\n",
       "      <td>0</td>\n",
       "      <td>Monday</td>\n",
       "    </tr>\n",
       "    <tr>\n",
       "      <th>1</th>\n",
       "      <td>e481f51cbdc54678b7cc49136f2d6af7</td>\n",
       "      <td>9ef432eb6251297304e76186b10a928d</td>\n",
       "      <td>delivered</td>\n",
       "      <td>2017-10-02</td>\n",
       "      <td>2017-10-02</td>\n",
       "      <td>2017-10-04</td>\n",
       "      <td>2017-10-10</td>\n",
       "      <td>2017-10-18</td>\n",
       "      <td>1.0</td>\n",
       "      <td>87285b34884572647811a353c7ac498a</td>\n",
       "      <td>...</td>\n",
       "      <td>9350.0</td>\n",
       "      <td>maua</td>\n",
       "      <td>SP</td>\n",
       "      <td>10:56:00</td>\n",
       "      <td>2017</td>\n",
       "      <td>10</td>\n",
       "      <td>Oct</td>\n",
       "      <td>2</td>\n",
       "      <td>0</td>\n",
       "      <td>Monday</td>\n",
       "    </tr>\n",
       "    <tr>\n",
       "      <th>2</th>\n",
       "      <td>e481f51cbdc54678b7cc49136f2d6af7</td>\n",
       "      <td>9ef432eb6251297304e76186b10a928d</td>\n",
       "      <td>delivered</td>\n",
       "      <td>2017-10-02</td>\n",
       "      <td>2017-10-02</td>\n",
       "      <td>2017-10-04</td>\n",
       "      <td>2017-10-10</td>\n",
       "      <td>2017-10-18</td>\n",
       "      <td>1.0</td>\n",
       "      <td>87285b34884572647811a353c7ac498a</td>\n",
       "      <td>...</td>\n",
       "      <td>9350.0</td>\n",
       "      <td>maua</td>\n",
       "      <td>SP</td>\n",
       "      <td>10:56:00</td>\n",
       "      <td>2017</td>\n",
       "      <td>10</td>\n",
       "      <td>Oct</td>\n",
       "      <td>2</td>\n",
       "      <td>0</td>\n",
       "      <td>Monday</td>\n",
       "    </tr>\n",
       "    <tr>\n",
       "      <th>3</th>\n",
       "      <td>128e10d95713541c87cd1a2e48201934</td>\n",
       "      <td>a20e8105f23924cd00833fd87daa0831</td>\n",
       "      <td>delivered</td>\n",
       "      <td>2017-08-15</td>\n",
       "      <td>2017-08-15</td>\n",
       "      <td>2017-08-17</td>\n",
       "      <td>2017-08-18</td>\n",
       "      <td>2017-08-28</td>\n",
       "      <td>1.0</td>\n",
       "      <td>87285b34884572647811a353c7ac498a</td>\n",
       "      <td>...</td>\n",
       "      <td>9350.0</td>\n",
       "      <td>maua</td>\n",
       "      <td>SP</td>\n",
       "      <td>18:29:00</td>\n",
       "      <td>2017</td>\n",
       "      <td>8</td>\n",
       "      <td>Aug</td>\n",
       "      <td>15</td>\n",
       "      <td>1</td>\n",
       "      <td>Tuesday</td>\n",
       "    </tr>\n",
       "    <tr>\n",
       "      <th>4</th>\n",
       "      <td>0e7e841ddf8f8f2de2bad69267ecfbcf</td>\n",
       "      <td>26c7ac168e1433912a51b924fbd34d34</td>\n",
       "      <td>delivered</td>\n",
       "      <td>2017-08-02</td>\n",
       "      <td>2017-08-02</td>\n",
       "      <td>2017-08-04</td>\n",
       "      <td>2017-08-07</td>\n",
       "      <td>2017-08-15</td>\n",
       "      <td>1.0</td>\n",
       "      <td>87285b34884572647811a353c7ac498a</td>\n",
       "      <td>...</td>\n",
       "      <td>9350.0</td>\n",
       "      <td>maua</td>\n",
       "      <td>SP</td>\n",
       "      <td>18:24:00</td>\n",
       "      <td>2017</td>\n",
       "      <td>8</td>\n",
       "      <td>Aug</td>\n",
       "      <td>2</td>\n",
       "      <td>2</td>\n",
       "      <td>Wednesday</td>\n",
       "    </tr>\n",
       "  </tbody>\n",
       "</table>\n",
       "<p>5 rows × 46 columns</p>\n",
       "</div>"
      ],
      "text/plain": [
       "                           order_id                       customer_id  \\\n",
       "0  e481f51cbdc54678b7cc49136f2d6af7  9ef432eb6251297304e76186b10a928d   \n",
       "1  e481f51cbdc54678b7cc49136f2d6af7  9ef432eb6251297304e76186b10a928d   \n",
       "2  e481f51cbdc54678b7cc49136f2d6af7  9ef432eb6251297304e76186b10a928d   \n",
       "3  128e10d95713541c87cd1a2e48201934  a20e8105f23924cd00833fd87daa0831   \n",
       "4  0e7e841ddf8f8f2de2bad69267ecfbcf  26c7ac168e1433912a51b924fbd34d34   \n",
       "\n",
       "  order_status order_purchase_timestamp order_approved_at  \\\n",
       "0    delivered               2017-10-02        2017-10-02   \n",
       "1    delivered               2017-10-02        2017-10-02   \n",
       "2    delivered               2017-10-02        2017-10-02   \n",
       "3    delivered               2017-08-15        2017-08-15   \n",
       "4    delivered               2017-08-02        2017-08-02   \n",
       "\n",
       "  order_delivered_carrier_date order_delivered_customer_date  \\\n",
       "0                   2017-10-04                    2017-10-10   \n",
       "1                   2017-10-04                    2017-10-10   \n",
       "2                   2017-10-04                    2017-10-10   \n",
       "3                   2017-08-17                    2017-08-18   \n",
       "4                   2017-08-04                    2017-08-07   \n",
       "\n",
       "  order_estimated_delivery_date  order_item_id  \\\n",
       "0                    2017-10-18            1.0   \n",
       "1                    2017-10-18            1.0   \n",
       "2                    2017-10-18            1.0   \n",
       "3                    2017-08-28            1.0   \n",
       "4                    2017-08-15            1.0   \n",
       "\n",
       "                         product_id  ... seller_zip_code_prefix seller_city  \\\n",
       "0  87285b34884572647811a353c7ac498a  ...                 9350.0        maua   \n",
       "1  87285b34884572647811a353c7ac498a  ...                 9350.0        maua   \n",
       "2  87285b34884572647811a353c7ac498a  ...                 9350.0        maua   \n",
       "3  87285b34884572647811a353c7ac498a  ...                 9350.0        maua   \n",
       "4  87285b34884572647811a353c7ac498a  ...                 9350.0        maua   \n",
       "\n",
       "   seller_state  order_purchase_time  order_purchase_year  \\\n",
       "0            SP             10:56:00                 2017   \n",
       "1            SP             10:56:00                 2017   \n",
       "2            SP             10:56:00                 2017   \n",
       "3            SP             18:29:00                 2017   \n",
       "4            SP             18:24:00                 2017   \n",
       "\n",
       "  order_purchase_month  order_purchase_month_name  order_purchase_day  \\\n",
       "0                   10                        Oct                   2   \n",
       "1                   10                        Oct                   2   \n",
       "2                   10                        Oct                   2   \n",
       "3                    8                        Aug                  15   \n",
       "4                    8                        Aug                   2   \n",
       "\n",
       "  order_purchase_dayofweek  order_purchase_dayofweek_name  \n",
       "0                        0                         Monday  \n",
       "1                        0                         Monday  \n",
       "2                        0                         Monday  \n",
       "3                        1                        Tuesday  \n",
       "4                        2                      Wednesday  \n",
       "\n",
       "[5 rows x 46 columns]"
      ]
     },
     "execution_count": 10,
     "metadata": {},
     "output_type": "execute_result"
    }
   ],
   "source": [
    "df_train.head()"
   ]
  },
  {
   "cell_type": "code",
   "execution_count": 11,
   "metadata": {},
   "outputs": [],
   "source": [
    "df_train_state=df_train"
   ]
  },
  {
   "cell_type": "code",
   "execution_count": 12,
   "metadata": {},
   "outputs": [
    {
     "name": "stdout",
     "output_type": "stream",
     "text": [
      "<class 'pandas.core.frame.DataFrame'>\n",
      "Int64Index: 119143 entries, 0 to 119142\n",
      "Data columns (total 46 columns):\n",
      " #   Column                         Non-Null Count   Dtype         \n",
      "---  ------                         --------------   -----         \n",
      " 0   order_id                       119143 non-null  object        \n",
      " 1   customer_id                    119143 non-null  object        \n",
      " 2   order_status                   119143 non-null  object        \n",
      " 3   order_purchase_timestamp       119143 non-null  datetime64[ns]\n",
      " 4   order_approved_at              118966 non-null  object        \n",
      " 5   order_delivered_carrier_date   117057 non-null  object        \n",
      " 6   order_delivered_customer_date  115722 non-null  datetime64[ns]\n",
      " 7   order_estimated_delivery_date  119143 non-null  datetime64[ns]\n",
      " 8   order_item_id                  118310 non-null  float64       \n",
      " 9   product_id                     118310 non-null  object        \n",
      " 10  seller_id                      118310 non-null  object        \n",
      " 11  shipping_limit_date            118310 non-null  object        \n",
      " 12  price                          118310 non-null  float64       \n",
      " 13  freight_value                  118310 non-null  float64       \n",
      " 14  payment_sequential             119140 non-null  float64       \n",
      " 15  payment_type                   119140 non-null  object        \n",
      " 16  payment_installments           119140 non-null  float64       \n",
      " 17  payment_value                  119140 non-null  float64       \n",
      " 18  review_id                      118146 non-null  object        \n",
      " 19  review_score                   118146 non-null  float64       \n",
      " 20  review_comment_title           13989 non-null   object        \n",
      " 21  review_comment_message         50245 non-null   object        \n",
      " 22  review_creation_date           118146 non-null  object        \n",
      " 23  review_answer_timestamp        118146 non-null  object        \n",
      " 24  product_category_name          116601 non-null  object        \n",
      " 25  product_name_lenght            116601 non-null  float64       \n",
      " 26  product_description_lenght     116601 non-null  float64       \n",
      " 27  product_photos_qty             116601 non-null  float64       \n",
      " 28  product_weight_g               118290 non-null  float64       \n",
      " 29  product_length_cm              118290 non-null  float64       \n",
      " 30  product_height_cm              118290 non-null  float64       \n",
      " 31  product_width_cm               118290 non-null  float64       \n",
      " 32  customer_unique_id             119143 non-null  object        \n",
      " 33  customer_zip_code_prefix       119143 non-null  int64         \n",
      " 34  customer_city                  119143 non-null  object        \n",
      " 35  customer_state                 119143 non-null  object        \n",
      " 36  seller_zip_code_prefix         118310 non-null  float64       \n",
      " 37  seller_city                    118310 non-null  object        \n",
      " 38  seller_state                   118310 non-null  object        \n",
      " 39  order_purchase_time            119143 non-null  object        \n",
      " 40  order_purchase_year            119143 non-null  int64         \n",
      " 41  order_purchase_month           119143 non-null  int64         \n",
      " 42  order_purchase_month_name      119143 non-null  object        \n",
      " 43  order_purchase_day             119143 non-null  int64         \n",
      " 44  order_purchase_dayofweek       119143 non-null  int64         \n",
      " 45  order_purchase_dayofweek_name  119143 non-null  object        \n",
      "dtypes: datetime64[ns](3), float64(15), int64(5), object(23)\n",
      "memory usage: 42.7+ MB\n"
     ]
    }
   ],
   "source": [
    "df_train.info()"
   ]
  },
  {
   "cell_type": "markdown",
   "metadata": {},
   "source": [
    "CLEAN DATA"
   ]
  },
  {
   "cell_type": "code",
   "execution_count": null,
   "metadata": {},
   "outputs": [],
   "source": [
    "df_train.shape"
   ]
  },
  {
   "cell_type": "markdown",
   "metadata": {},
   "source": [
    "<iframe src=\"https://www.kaggle.com/embed/fekmea/preparation-olist-dataset/notebook?cellIds=10&kernelSessionId=80861728\" height=\"300\" style=\"margin: 0 auto; width: 100%; max-width: 950px;\" frameborder=\"0\" scrolling=\"auto\" title=\"Preparation Olist dataset\"></iframe>"
   ]
  },
  {
   "cell_type": "code",
   "execution_count": 13,
   "metadata": {},
   "outputs": [
    {
     "data": {
      "text/plain": [
       "review_comment_title             105154\n",
       "review_comment_message            68898\n",
       "order_delivered_customer_date      3421\n",
       "product_photos_qty                 2542\n",
       "product_description_lenght         2542\n",
       "dtype: int64"
      ]
     },
     "execution_count": 13,
     "metadata": {},
     "output_type": "execute_result"
    }
   ],
   "source": [
    "df_train.isnull().sum().sort_values(ascending = False).head()"
   ]
  },
  {
   "cell_type": "code",
   "execution_count": 14,
   "metadata": {},
   "outputs": [],
   "source": [
    "# We may drop the review_comment_title column, as all values are null\n",
    "df_train.drop(['review_comment_title'], axis=1, inplace=True)"
   ]
  },
  {
   "cell_type": "markdown",
   "metadata": {},
   "source": [
    "Default review comment message"
   ]
  },
  {
   "cell_type": "code",
   "execution_count": 15,
   "metadata": {},
   "outputs": [],
   "source": [
    "df_train['review_comment_message'] = df_train['review_comment_message'].fillna('No message')"
   ]
  },
  {
   "cell_type": "code",
   "execution_count": 16,
   "metadata": {},
   "outputs": [
    {
     "data": {
      "text/plain": [
       "order_delivered_customer_date    3421\n",
       "product_photos_qty               2542\n",
       "product_description_lenght       2542\n",
       "product_name_lenght              2542\n",
       "product_category_name            2542\n",
       "order_delivered_carrier_date     2086\n",
       "review_answer_timestamp           997\n",
       "review_creation_date              997\n",
       "review_score                      997\n",
       "review_id                         997\n",
       "product_width_cm                  853\n",
       "product_height_cm                 853\n",
       "product_length_cm                 853\n",
       "product_weight_g                  853\n",
       "seller_zip_code_prefix            833\n",
       "seller_state                      833\n",
       "seller_city                       833\n",
       "seller_id                         833\n",
       "order_item_id                     833\n",
       "freight_value                     833\n",
       "product_id                        833\n",
       "price                             833\n",
       "shipping_limit_date               833\n",
       "order_approved_at                 177\n",
       "payment_type                        3\n",
       "payment_installments                3\n",
       "payment_sequential                  3\n",
       "payment_value                       3\n",
       "order_purchase_year                 0\n",
       "order_purchase_month                0\n",
       "order_purchase_month_name           0\n",
       "order_purchase_day                  0\n",
       "order_purchase_time                 0\n",
       "order_purchase_dayofweek            0\n",
       "order_id                            0\n",
       "customer_state                      0\n",
       "customer_city                       0\n",
       "customer_zip_code_prefix            0\n",
       "customer_unique_id                  0\n",
       "customer_id                         0\n",
       "review_comment_message              0\n",
       "order_estimated_delivery_date       0\n",
       "order_purchase_timestamp            0\n",
       "order_status                        0\n",
       "order_purchase_dayofweek_name       0\n",
       "dtype: int64"
      ]
     },
     "execution_count": 16,
     "metadata": {},
     "output_type": "execute_result"
    }
   ],
   "source": [
    "df_train.isnull().sum().sort_values(ascending = False)"
   ]
  },
  {
   "cell_type": "markdown",
   "metadata": {},
   "source": [
    "Drop nan values"
   ]
  },
  {
   "cell_type": "code",
   "execution_count": 17,
   "metadata": {},
   "outputs": [
    {
     "name": "stdout",
     "output_type": "stream",
     "text": [
      "5.24% nan values points were eliminated\n"
     ]
    }
   ],
   "source": [
    "df_train_0 = df_train.shape[0]\n",
    "#Remove missing values with dropna\n",
    "df_train= df_train.dropna()\n",
    "df_train_1 = df_train.shape[0]\n",
    "print(f'{round(((df_train_0-df_train_1)/df_train_1)*100,2)}% nan values points were eliminated')"
   ]
  },
  {
   "cell_type": "markdown",
   "metadata": {},
   "source": [
    "# VISUALIZATION"
   ]
  },
  {
   "cell_type": "markdown",
   "metadata": {},
   "source": [
    "# Price Distribution"
   ]
  },
  {
   "cell_type": "code",
   "execution_count": 18,
   "metadata": {
    "scrolled": true
   },
   "outputs": [
    {
     "data": {
      "image/png": "[encoded data removed]",
      "text/plain": [
       "<Figure size 1152x864 with 2 Axes>"
      ]
     },
     "metadata": {
      "needs_background": "light"
     },
     "output_type": "display_data"
    },
    {
     "data": {
      "image/png": "[encoded data removed]",
      "text/plain": [
       "<Figure size 1152x864 with 2 Axes>"
      ]
     },
     "metadata": {
      "needs_background": "light"
     },
     "output_type": "display_data"
    }
   ],
   "source": [
    "# Getting the histogram and normal probability plot\n",
    "plt.figure(figsize=(16,12))\n",
    "plt.suptitle('Price Distributions', fontsize=22)\n",
    "plt.subplot(221)\n",
    "g = sns.histplot(df_train['price'], kde=True)\n",
    "g.set_title(\"Price Distributions\", fontsize=18)\n",
    "g.set_xlabel(\"Price Values\", fontsize=15)\n",
    "g.set_ylabel(\"Probability\", fontsize=15)\n",
    "\n",
    "plt.subplot(222)\n",
    "g1 = sns.histplot(np.log(df_train['price']), kde=True)\n",
    "g1.set_title(\"Price(LOG) Distributions\", fontsize=18)\n",
    "g1.set_xlabel(\"Price Values\", fontsize=15)\n",
    "g1.set_ylabel(\"Probability\", fontsize=15)\n",
    "\n",
    "plt.show()\n",
    "\n",
    "plt.figure(figsize=(16,12))\n",
    "\n",
    "plt.suptitle('Price Distribution Probability Plot', fontsize=22)\n",
    "\n",
    "plt.subplot(221)\n",
    "res = stats.probplot(df_train['price'], plot=plt, fit=True, rvalue=True);\n",
    "\n",
    "\n",
    "plt.subplot(222)\n",
    "res = stats.probplot(np.log(df_train['price']), plot=plt, fit=True, rvalue=True);\n",
    "\n",
    "plt.show()"
   ]
  },
  {
   "cell_type": "markdown",
   "metadata": {},
   "source": [
    "**Price Distribution:**\n",
    "Histogram of a sample from a right-skewed distribution – it looks unimodal and skewed right.\n",
    "\n",
    "**Price Log Distribution:**\n",
    "Histogram of a sample from a normal distribution – it looks fairly symmetric and unimodal.\n",
    "\n",
    "**Probability Plot - Price Distribution:**\n",
    "Normal probability plot of a sample from a right-skewed distribution – it has an inverted C shape.\n",
    "\n",
    "**Probability Plot - Price Log Distribution:**\n",
    "Normal probability plot of a sample from a normal distribution – it looks fairly straight, at least when the few large and small values are ignored."
   ]
  },
  {
   "cell_type": "markdown",
   "metadata": {},
   "source": [
    "Let's Check the Features Through the Time"
   ]
  },
  {
   "cell_type": "markdown",
   "metadata": {},
   "source": [
    "Our current timestamps can be tricky to work with, so we'll be using the average daily price amount for that month, and we're using the start of each month as the timestamp."
   ]
  },
  {
   "cell_type": "code",
   "execution_count": 19,
   "metadata": {},
   "outputs": [
    {
     "data": {
      "text/plain": [
       "(Timestamp('2016-10-03 00:00:00'), Timestamp('2018-08-29 00:00:00'))"
      ]
     },
     "execution_count": 19,
     "metadata": {},
     "output_type": "execute_result"
    }
   ],
   "source": [
    "df_train['order_purchase_timestamp'].min(), df_train['order_purchase_timestamp'].max()"
   ]
  },
  {
   "cell_type": "code",
   "execution_count": 20,
   "metadata": {},
   "outputs": [
    {
     "data": {
      "text/html": [
       "<div>\n",
       "<style scoped>\n",
       "    .dataframe tbody tr th:only-of-type {\n",
       "        vertical-align: middle;\n",
       "    }\n",
       "\n",
       "    .dataframe tbody tr th {\n",
       "        vertical-align: top;\n",
       "    }\n",
       "\n",
       "    .dataframe thead th {\n",
       "        text-align: right;\n",
       "    }\n",
       "</style>\n",
       "<table border=\"1\" class=\"dataframe\">\n",
       "  <thead>\n",
       "    <tr style=\"text-align: right;\">\n",
       "      <th></th>\n",
       "      <th>order_purchase_timestamp</th>\n",
       "      <th>price</th>\n",
       "    </tr>\n",
       "  </thead>\n",
       "  <tbody>\n",
       "    <tr>\n",
       "      <th>0</th>\n",
       "      <td>2016-10-03</td>\n",
       "      <td>463.48</td>\n",
       "    </tr>\n",
       "    <tr>\n",
       "      <th>1</th>\n",
       "      <td>2016-10-04</td>\n",
       "      <td>9093.20</td>\n",
       "    </tr>\n",
       "    <tr>\n",
       "      <th>2</th>\n",
       "      <td>2016-10-05</td>\n",
       "      <td>6329.57</td>\n",
       "    </tr>\n",
       "    <tr>\n",
       "      <th>3</th>\n",
       "      <td>2016-10-06</td>\n",
       "      <td>5889.96</td>\n",
       "    </tr>\n",
       "    <tr>\n",
       "      <th>4</th>\n",
       "      <td>2016-10-07</td>\n",
       "      <td>6205.25</td>\n",
       "    </tr>\n",
       "    <tr>\n",
       "      <th>...</th>\n",
       "      <td>...</td>\n",
       "      <td>...</td>\n",
       "    </tr>\n",
       "    <tr>\n",
       "      <th>606</th>\n",
       "      <td>2018-08-25</td>\n",
       "      <td>10711.93</td>\n",
       "    </tr>\n",
       "    <tr>\n",
       "      <th>607</th>\n",
       "      <td>2018-08-26</td>\n",
       "      <td>8235.71</td>\n",
       "    </tr>\n",
       "    <tr>\n",
       "      <th>608</th>\n",
       "      <td>2018-08-27</td>\n",
       "      <td>5343.67</td>\n",
       "    </tr>\n",
       "    <tr>\n",
       "      <th>609</th>\n",
       "      <td>2018-08-28</td>\n",
       "      <td>3757.51</td>\n",
       "    </tr>\n",
       "    <tr>\n",
       "      <th>610</th>\n",
       "      <td>2018-08-29</td>\n",
       "      <td>1546.04</td>\n",
       "    </tr>\n",
       "  </tbody>\n",
       "</table>\n",
       "<p>611 rows × 2 columns</p>\n",
       "</div>"
      ],
      "text/plain": [
       "    order_purchase_timestamp     price\n",
       "0                 2016-10-03    463.48\n",
       "1                 2016-10-04   9093.20\n",
       "2                 2016-10-05   6329.57\n",
       "3                 2016-10-06   5889.96\n",
       "4                 2016-10-07   6205.25\n",
       "..                       ...       ...\n",
       "606               2018-08-25  10711.93\n",
       "607               2018-08-26   8235.71\n",
       "608               2018-08-27   5343.67\n",
       "609               2018-08-28   3757.51\n",
       "610               2018-08-29   1546.04\n",
       "\n",
       "[611 rows x 2 columns]"
      ]
     },
     "execution_count": 20,
     "metadata": {},
     "output_type": "execute_result"
    }
   ],
   "source": [
    "df_train = df_train.groupby('order_purchase_timestamp')['price'].sum().reset_index()\n",
    "df_train"
   ]
  },
  {
   "cell_type": "markdown",
   "metadata": {},
   "source": [
    "**Indexing with Time Series of Data**"
   ]
  },
  {
   "cell_type": "code",
   "execution_count": 21,
   "metadata": {},
   "outputs": [
    {
     "data": {
      "text/plain": [
       "DatetimeIndex(['2016-10-03', '2016-10-04', '2016-10-05', '2016-10-06',\n",
       "               '2016-10-07', '2016-10-08', '2016-10-09', '2016-10-10',\n",
       "               '2016-12-23', '2017-01-05',\n",
       "               ...\n",
       "               '2018-08-20', '2018-08-21', '2018-08-22', '2018-08-23',\n",
       "               '2018-08-24', '2018-08-25', '2018-08-26', '2018-08-27',\n",
       "               '2018-08-28', '2018-08-29'],\n",
       "              dtype='datetime64[ns]', name='order_purchase_timestamp', length=611, freq=None)"
      ]
     },
     "execution_count": 21,
     "metadata": {},
     "output_type": "execute_result"
    }
   ],
   "source": [
    "df_train=df_train.set_index('order_purchase_timestamp')\n",
    "df_train.index"
   ]
  },
  {
   "cell_type": "code",
   "execution_count": 22,
   "metadata": {},
   "outputs": [
    {
     "data": {
      "text/plain": [
       "order_purchase_timestamp\n",
       "2016-10-01     5207.490000\n",
       "2016-11-01             NaN\n",
       "2016-12-01       10.900000\n",
       "2017-01-01     4315.034074\n",
       "2017-02-01     8377.728571\n",
       "2017-03-01    11936.762581\n",
       "2017-04-01    11666.186000\n",
       "2017-05-01    16652.321935\n",
       "2017-06-01    14596.793667\n",
       "2017-07-01    16454.247742\n",
       "2017-08-01    18475.442258\n",
       "2017-09-01    21188.403333\n",
       "2017-10-01    21160.312903\n",
       "2017-11-01    33600.196667\n",
       "2017-12-01    23486.290000\n",
       "2018-01-01    30148.913548\n",
       "2018-02-01    30374.145714\n",
       "2018-03-01    31326.676774\n",
       "2018-04-01    33160.559000\n",
       "2018-05-01    32363.670968\n",
       "2018-06-01    29863.889667\n",
       "2018-07-01    28464.616774\n",
       "2018-08-01    29693.637586\n",
       "Freq: MS, Name: price, dtype: float64"
      ]
     },
     "execution_count": 22,
     "metadata": {},
     "output_type": "execute_result"
    }
   ],
   "source": [
    "sales = df_train['price'].resample('MS').mean()\n",
    "sales2=sales[3:]\n",
    "sales"
   ]
  },
  {
   "cell_type": "markdown",
   "metadata": {},
   "source": [
    "# **Viewing Furniture Sales Time Series Data**"
   ]
  },
  {
   "cell_type": "code",
   "execution_count": 23,
   "metadata": {},
   "outputs": [
    {
     "data": {
      "image/png": "[encoded data removed]",
      "text/plain": [
       "<Figure size 1080x432 with 1 Axes>"
      ]
     },
     "metadata": {
      "needs_background": "light"
     },
     "output_type": "display_data"
    }
   ],
   "source": [
    "sales.plot(figsize=(15, 6))\n",
    "plt.xlabel('Date')\n",
    "plt.ylabel('Sell per month')\n",
    "plt.show()"
   ]
  },
  {
   "cell_type": "code",
   "execution_count": 24,
   "metadata": {},
   "outputs": [
    {
     "name": "stdout",
     "output_type": "stream",
     "text": [
      "order_purchase_timestamp\n",
      "2016-10-01             NaN\n",
      "2016-11-01             NaN\n",
      "2016-12-01             NaN\n",
      "2017-01-01             NaN\n",
      "2017-02-01             NaN\n",
      "2017-03-01             NaN\n",
      "2017-04-01             NaN\n",
      "2017-05-01             NaN\n",
      "2017-06-01             NaN\n",
      "2017-07-01             NaN\n",
      "2017-08-01             NaN\n",
      "2017-09-01             NaN\n",
      "2017-10-01             NaN\n",
      "2017-11-01    14869.527478\n",
      "2017-12-01    16825.809978\n",
      "2018-01-01    18978.633267\n",
      "2018-02-01    20811.668029\n",
      "2018-03-01    22427.494212\n",
      "2018-04-01    24218.691962\n",
      "2018-05-01    25527.971048\n",
      "2018-06-01    26800.229048\n",
      "2018-07-01    27801.093134\n",
      "2018-08-01    28735.942745\n",
      "Freq: MS, Name: price, dtype: float64 order_purchase_timestamp\n",
      "2016-10-01            NaN\n",
      "2016-11-01            NaN\n",
      "2016-12-01            NaN\n",
      "2017-01-01            NaN\n",
      "2017-02-01            NaN\n",
      "2017-03-01            NaN\n",
      "2017-04-01            NaN\n",
      "2017-05-01            NaN\n",
      "2017-06-01            NaN\n",
      "2017-07-01            NaN\n",
      "2017-08-01            NaN\n",
      "2017-09-01            NaN\n",
      "2017-10-01            NaN\n",
      "2017-11-01    8750.526957\n",
      "2017-12-01    7686.080887\n",
      "2018-01-01    7478.478401\n",
      "2018-02-01    7338.332468\n",
      "2018-03-01    7341.247656\n",
      "2018-04-01    7094.974799\n",
      "2018-05-01    7021.043229\n",
      "2018-06-01    6194.802767\n",
      "2018-07-01    5272.928330\n",
      "2018-08-01    4389.741550\n",
      "Freq: MS, Name: price, dtype: float64\n"
     ]
    }
   ],
   "source": [
    "#Determine rolling statistics\n",
    "sales_mean = sales.rolling(window=12).mean() #window size 12 denotes 12 months, giving rolling mean at yearly level\n",
    "sales_std = sales.rolling(window=12).std()\n",
    "print(sales_mean,sales_std)"
   ]
  },
  {
   "cell_type": "code",
   "execution_count": 25,
   "metadata": {},
   "outputs": [
    {
     "data": {
      "image/png": "[encoded data removed]",
      "text/plain": [
       "<Figure size 1440x720 with 1 Axes>"
      ]
     },
     "metadata": {
      "needs_background": "light"
     },
     "output_type": "display_data"
    }
   ],
   "source": [
    "#Plot rolling statistics\n",
    "plt.figure(figsize=(20,10))\n",
    "orig = plt.plot(sales, color='blue', label='Original')\n",
    "sales_mean = plt.plot(sales_mean, color='red', label='Rolling Mean')\n",
    "sales_std = plt.plot(sales_std, color='black', label='Rolling Std')\n",
    "plt.legend(loc='best')\n",
    "plt.title('Rolling Mean & Standard Deviation')\n",
    "plt.show(block=False)"
   ]
  },
  {
   "cell_type": "code",
   "execution_count": 26,
   "metadata": {},
   "outputs": [
    {
     "ename": "ValueError",
     "evalue": "You must specify a period or x must be a pandas object with a PeriodIndex or a DatetimeIndex with a freq not set to None",
     "output_type": "error",
     "traceback": [
      "\u001b[1;31m---------------------------------------------------------------------------\u001b[0m",
      "\u001b[1;31mValueError\u001b[0m                                Traceback (most recent call last)",
      "\u001b[1;32m~\\AppData\\Local\\Temp/ipykernel_13412/2445206595.py\u001b[0m in \u001b[0;36m<module>\u001b[1;34m\u001b[0m\n\u001b[0;32m      3\u001b[0m \u001b[1;32mfrom\u001b[0m \u001b[0mstatsmodels\u001b[0m\u001b[1;33m.\u001b[0m\u001b[0mtsa\u001b[0m\u001b[1;33m.\u001b[0m\u001b[0mseasonal\u001b[0m \u001b[1;32mimport\u001b[0m \u001b[0mseasonal_decompose\u001b[0m\u001b[1;33m\u001b[0m\u001b[1;33m\u001b[0m\u001b[0m\n\u001b[0;32m      4\u001b[0m \u001b[1;33m\u001b[0m\u001b[0m\n\u001b[1;32m----> 5\u001b[1;33m \u001b[0mresultado\u001b[0m \u001b[1;33m=\u001b[0m \u001b[0mseasonal_decompose\u001b[0m\u001b[1;33m(\u001b[0m\u001b[0mdf_train\u001b[0m\u001b[1;33m)\u001b[0m\u001b[1;33m\u001b[0m\u001b[1;33m\u001b[0m\u001b[0m\n\u001b[0m\u001b[0;32m      6\u001b[0m \u001b[1;33m\u001b[0m\u001b[0m\n\u001b[0;32m      7\u001b[0m \u001b[0mfig\u001b[0m \u001b[1;33m=\u001b[0m \u001b[0mplt\u001b[0m\u001b[1;33m.\u001b[0m\u001b[0mfigure\u001b[0m\u001b[1;33m(\u001b[0m\u001b[0mfigsize\u001b[0m\u001b[1;33m=\u001b[0m\u001b[1;33m(\u001b[0m\u001b[1;36m8\u001b[0m\u001b[1;33m,\u001b[0m \u001b[1;36m6\u001b[0m\u001b[1;33m)\u001b[0m\u001b[1;33m)\u001b[0m\u001b[1;33m\u001b[0m\u001b[1;33m\u001b[0m\u001b[0m\n",
      "\u001b[1;32m~\\AppData\\Local\\Programs\\Python\\Python39\\lib\\site-packages\\statsmodels\\tsa\\seasonal.py\u001b[0m in \u001b[0;36mseasonal_decompose\u001b[1;34m(x, model, filt, period, two_sided, extrapolate_trend)\u001b[0m\n\u001b[0;32m    157\u001b[0m             \u001b[0mperiod\u001b[0m \u001b[1;33m=\u001b[0m \u001b[0mpfreq\u001b[0m\u001b[1;33m\u001b[0m\u001b[1;33m\u001b[0m\u001b[0m\n\u001b[0;32m    158\u001b[0m         \u001b[1;32melse\u001b[0m\u001b[1;33m:\u001b[0m\u001b[1;33m\u001b[0m\u001b[1;33m\u001b[0m\u001b[0m\n\u001b[1;32m--> 159\u001b[1;33m             raise ValueError(\n\u001b[0m\u001b[0;32m    160\u001b[0m                 \u001b[1;34m\"You must specify a period or x must be a pandas object with \"\u001b[0m\u001b[1;33m\u001b[0m\u001b[1;33m\u001b[0m\u001b[0m\n\u001b[0;32m    161\u001b[0m                 \u001b[1;34m\"a PeriodIndex or a DatetimeIndex with a freq not set to None\"\u001b[0m\u001b[1;33m\u001b[0m\u001b[1;33m\u001b[0m\u001b[0m\n",
      "\u001b[1;31mValueError\u001b[0m: You must specify a period or x must be a pandas object with a PeriodIndex or a DatetimeIndex with a freq not set to None"
     ]
    }
   ],
   "source": [
    "# Primeiro, vamos decompor a série pra avaliar tendência\n",
    "# Sazonalidade e resíduo\n",
    "from statsmodels.tsa.seasonal import seasonal_decompose\n",
    "\n",
    "resultado = seasonal_decompose(df_train)\n",
    "\n",
    "fig = plt.figure(figsize=(8, 6))  \n",
    "fig = resultado.plot()"
   ]
  },
  {
   "cell_type": "markdown",
   "metadata": {},
   "source": [
    "Teste de estacionariedade"
   ]
  },
  {
   "cell_type": "code",
   "execution_count": 27,
   "metadata": {},
   "outputs": [
    {
     "ename": "NameError",
     "evalue": "name 'df' is not defined",
     "output_type": "error",
     "traceback": [
      "\u001b[1;31m---------------------------------------------------------------------------\u001b[0m",
      "\u001b[1;31mNameError\u001b[0m                                 Traceback (most recent call last)",
      "\u001b[1;32m~\\AppData\\Local\\Temp/ipykernel_13412/967110716.py\u001b[0m in \u001b[0;36m<module>\u001b[1;34m\u001b[0m\n\u001b[0;32m      6\u001b[0m \u001b[1;32mfrom\u001b[0m \u001b[0mstatsmodels\u001b[0m\u001b[1;33m.\u001b[0m\u001b[0mtsa\u001b[0m\u001b[1;33m.\u001b[0m\u001b[0mstattools\u001b[0m \u001b[1;32mimport\u001b[0m \u001b[0madfuller\u001b[0m\u001b[1;33m\u001b[0m\u001b[1;33m\u001b[0m\u001b[0m\n\u001b[0;32m      7\u001b[0m \u001b[1;33m\u001b[0m\u001b[0m\n\u001b[1;32m----> 8\u001b[1;33m \u001b[0mresult\u001b[0m\u001b[1;33m=\u001b[0m\u001b[0madfuller\u001b[0m\u001b[1;33m(\u001b[0m\u001b[0mdf\u001b[0m\u001b[1;33m[\u001b[0m\u001b[1;34m'producao'\u001b[0m\u001b[1;33m]\u001b[0m\u001b[1;33m.\u001b[0m\u001b[0mdropna\u001b[0m\u001b[1;33m(\u001b[0m\u001b[1;33m)\u001b[0m\u001b[1;33m)\u001b[0m\u001b[1;33m\u001b[0m\u001b[1;33m\u001b[0m\u001b[0m\n\u001b[0m\u001b[0;32m      9\u001b[0m \u001b[0mprint\u001b[0m\u001b[1;33m(\u001b[0m\u001b[1;34mf'Teste ADF:{result[0]}'\u001b[0m\u001b[1;33m)\u001b[0m\u001b[1;33m\u001b[0m\u001b[1;33m\u001b[0m\u001b[0m\n\u001b[0;32m     10\u001b[0m \u001b[0mprint\u001b[0m\u001b[1;33m(\u001b[0m\u001b[1;34mf'p-valor:{result[1]}'\u001b[0m\u001b[1;33m)\u001b[0m\u001b[1;33m\u001b[0m\u001b[1;33m\u001b[0m\u001b[0m\n",
      "\u001b[1;31mNameError\u001b[0m: name 'df' is not defined"
     ]
    }
   ],
   "source": [
    "# Teste de estacionariedade. \n",
    "# A hipótese nula é que a série não é estacionária\n",
    "# Ou seja, se o p-valor for menor que 0,05, rejeitamos\n",
    "# que a série não é estacionária. Caso seja maior, não podemos\n",
    "# descartar que a série não é estacionária\n",
    "from statsmodels.tsa.stattools import adfuller\n",
    "\n",
    "result=adfuller(df['producao'].dropna())\n",
    "print(f'Teste ADF:{result[0]}')\n",
    "print(f'p-valor:{result[1]}')"
   ]
  },
  {
   "cell_type": "markdown",
   "metadata": {},
   "source": [
    "# ARIMA Model for Time Series Forecasting"
   ]
  },
  {
   "cell_type": "markdown",
   "metadata": {},
   "source": [
    "Let's apply one of the most used methods for forecasting time series, known as ARIMA, which stands Autoregressive Integrated Moving Average.\n",
    "\n",
    "ARIMA models are denoted with the ARIMA notation (p, d, q). These three parameters are responsible for the seasonality, trend and noise in the data:"
   ]
  },
  {
   "cell_type": "code",
   "execution_count": 28,
   "metadata": {},
   "outputs": [
    {
     "name": "stdout",
     "output_type": "stream",
     "text": [
      "Examples of parameter combinations for Seasonal ARIMA...\n",
      "SARIMAX: (0, 0, 1) x (0, 0, 1, 12)\n",
      "SARIMAX: (0, 0, 1) x (0, 1, 0, 12)\n",
      "SARIMAX: (0, 1, 0) x (0, 1, 1, 12)\n",
      "SARIMAX: (0, 1, 0) x (1, 0, 0, 12)\n"
     ]
    }
   ],
   "source": [
    "p = d = q = range(0, 2)\n",
    "pdq = list(itertools.product(p, d, q))\n",
    "seasonal_pdq = [(x[0], x[1], x[2], 12) for x in list(itertools.product(p, d, q))]\n",
    "print('Examples of parameter combinations for Seasonal ARIMA...')\n",
    "print('SARIMAX: {} x {}'.format(pdq[1], seasonal_pdq[1]))\n",
    "print('SARIMAX: {} x {}'.format(pdq[1], seasonal_pdq[2]))\n",
    "print('SARIMAX: {} x {}'.format(pdq[2], seasonal_pdq[3]))\n",
    "print('SARIMAX: {} x {}'.format(pdq[2], seasonal_pdq[4]))"
   ]
  },
  {
   "cell_type": "code",
   "execution_count": 29,
   "metadata": {},
   "outputs": [
    {
     "name": "stdout",
     "output_type": "stream",
     "text": [
      "ARIMA(0, 0, 0)x(0, 0, 0, 12)12 - AIC:506.32045986199176\n",
      "ARIMA(0, 0, 0)x(0, 0, 1, 12)12 - AIC:504.1005389052709\n",
      "ARIMA(0, 0, 0)x(0, 1, 0, 12)12 - AIC:251.4520073310609\n",
      "ARIMA(0, 0, 0)x(0, 1, 1, 12)12 - AIC:250.50841193365721\n",
      "ARIMA(0, 0, 0)x(1, 0, 0, 12)12 - AIC:504.50902233318914\n",
      "ARIMA(0, 0, 0)x(1, 0, 1, 12)12 - AIC:504.8661721339813\n",
      "ARIMA(0, 0, 0)x(1, 1, 1, 12)12 - AIC:247.38349262635393\n",
      "ARIMA(0, 0, 1)x(0, 0, 0, 12)12 - AIC:498.49760028938954\n",
      "ARIMA(0, 0, 1)x(0, 0, 1, 12)12 - AIC:500.1865988080026\n",
      "ARIMA(0, 0, 1)x(0, 1, 0, 12)12 - AIC:244.57740416532073\n",
      "ARIMA(0, 0, 1)x(0, 1, 1, 12)12 - AIC:245.74020159316444\n",
      "ARIMA(0, 0, 1)x(1, 0, 0, 12)12 - AIC:500.17465771258554\n",
      "ARIMA(0, 0, 1)x(1, 0, 1, 12)12 - AIC:502.17465222195983\n",
      "ARIMA(0, 0, 1)x(1, 1, 0, 12)12 - AIC:245.34663082821467\n",
      "ARIMA(0, 0, 1)x(1, 1, 1, 12)12 - AIC:247.34663022480711\n",
      "ARIMA(0, 1, 0)x(0, 0, 0, 12)12 - AIC:415.3940556818162\n",
      "ARIMA(0, 1, 0)x(0, 0, 1, 12)12 - AIC:416.10228858687935\n",
      "ARIMA(0, 1, 0)x(0, 1, 0, 12)12 - AIC:200.59506092247062\n",
      "ARIMA(0, 1, 0)x(0, 1, 1, 12)12 - AIC:202.68003654109702\n",
      "ARIMA(0, 1, 0)x(1, 0, 0, 12)12 - AIC:415.2285191135466\n",
      "ARIMA(0, 1, 0)x(1, 0, 1, 12)12 - AIC:417.72516636355994\n",
      "ARIMA(0, 1, 0)x(1, 1, 0, 12)12 - AIC:202.43014405387908\n",
      "ARIMA(0, 1, 0)x(1, 1, 1, 12)12 - AIC:204.43014405402664\n",
      "ARIMA(0, 1, 1)x(0, 0, 0, 12)12 - AIC:414.5541728346014\n",
      "ARIMA(0, 1, 1)x(0, 0, 1, 12)12 - AIC:415.3260744670247\n",
      "ARIMA(0, 1, 1)x(0, 1, 0, 12)12 - AIC:200.9090288443707\n",
      "ARIMA(0, 1, 1)x(0, 1, 1, 12)12 - AIC:201.6041656850179\n",
      "ARIMA(0, 1, 1)x(1, 0, 0, 12)12 - AIC:415.1411865441019\n",
      "ARIMA(0, 1, 1)x(1, 0, 1, 12)12 - AIC:417.14118105723503\n",
      "ARIMA(0, 1, 1)x(1, 1, 0, 12)12 - AIC:201.59342213841825\n",
      "ARIMA(0, 1, 1)x(1, 1, 1, 12)12 - AIC:203.59342214525105\n",
      "ARIMA(1, 0, 0)x(0, 0, 0, 12)12 - AIC:439.9603522359914\n",
      "ARIMA(1, 0, 0)x(0, 0, 1, 12)12 - AIC:441.10322632882884\n",
      "ARIMA(1, 0, 0)x(0, 1, 0, 12)12 - AIC:221.405688374496\n",
      "ARIMA(1, 0, 0)x(0, 1, 1, 12)12 - AIC:223.3694688125431\n",
      "ARIMA(1, 0, 0)x(1, 0, 0, 12)12 - AIC:439.85760681240225\n",
      "ARIMA(1, 0, 0)x(1, 0, 1, 12)12 - AIC:442.99076754516693\n",
      "ARIMA(1, 0, 0)x(1, 1, 0, 12)12 - AIC:223.368847740477\n",
      "ARIMA(1, 0, 0)x(1, 1, 1, 12)12 - AIC:225.4928394311881\n",
      "ARIMA(1, 0, 1)x(0, 0, 0, 12)12 - AIC:439.5237153234826\n",
      "ARIMA(1, 0, 1)x(0, 0, 1, 12)12 - AIC:440.48303647526393\n",
      "ARIMA(1, 0, 1)x(0, 1, 0, 12)12 - AIC:220.70814617829245\n",
      "ARIMA(1, 0, 1)x(0, 1, 1, 12)12 - AIC:220.61458705103556\n",
      "ARIMA(1, 0, 1)x(1, 0, 0, 12)12 - AIC:440.5621081498001\n",
      "ARIMA(1, 0, 1)x(1, 0, 1, 12)12 - AIC:442.45838513938827\n",
      "ARIMA(1, 0, 1)x(1, 1, 0, 12)12 - AIC:221.12090914826982\n",
      "ARIMA(1, 0, 1)x(1, 1, 1, 12)12 - AIC:225.71386737836497\n",
      "ARIMA(1, 1, 0)x(0, 0, 0, 12)12 - AIC:413.11686806492355\n",
      "ARIMA(1, 1, 0)x(0, 0, 1, 12)12 - AIC:414.01033892266975\n",
      "ARIMA(1, 1, 0)x(0, 1, 0, 12)12 - AIC:200.2739296951471\n",
      "ARIMA(1, 1, 0)x(0, 1, 1, 12)12 - AIC:200.6102619678974\n",
      "ARIMA(1, 1, 0)x(1, 0, 0, 12)12 - AIC:413.87651127942536\n",
      "ARIMA(1, 1, 0)x(1, 0, 1, 12)12 - AIC:415.8764289605528\n",
      "ARIMA(1, 1, 0)x(1, 1, 0, 12)12 - AIC:200.61616066361074\n",
      "ARIMA(1, 1, 0)x(1, 1, 1, 12)12 - AIC:202.60815775888756\n",
      "ARIMA(1, 1, 1)x(0, 0, 0, 12)12 - AIC:414.94684217327915\n",
      "ARIMA(1, 1, 1)x(0, 0, 1, 12)12 - AIC:415.6626371382594\n",
      "ARIMA(1, 1, 1)x(0, 1, 0, 12)12 - AIC:202.30805239554033\n",
      "ARIMA(1, 1, 1)x(0, 1, 1, 12)12 - AIC:204.01756190307358\n",
      "ARIMA(1, 1, 1)x(1, 0, 0, 12)12 - AIC:415.4959323550038\n",
      "ARIMA(1, 1, 1)x(1, 0, 1, 12)12 - AIC:417.03769021012533\n",
      "ARIMA(1, 1, 1)x(1, 1, 0, 12)12 - AIC:203.59830259897223\n",
      "ARIMA(1, 1, 1)x(1, 1, 1, 12)12 - AIC:204.5207601219098\n"
     ]
    }
   ],
   "source": [
    "warnings.filterwarnings(\"ignore\") # specify to ignore warning messages\n",
    "\n",
    "for param in pdq:\n",
    "    for param_seasonal in seasonal_pdq:\n",
    "        try:\n",
    "            mod = sm.tsa.statespace.SARIMAX(sales,\n",
    "                                            order=param,\n",
    "                                            seasonal_order=param_seasonal,\n",
    "                                            #enforce_stationarity=False,\n",
    "                                            enforce_invertibility=False)\n",
    "\n",
    "            results = mod.fit()\n",
    "\n",
    "            print('ARIMA{}x{}12 - AIC:{}'.format(param, param_seasonal, results.aic))\n",
    "        except:\n",
    "            continue           \n"
   ]
  },
  {
   "cell_type": "code",
   "execution_count": 30,
   "metadata": {},
   "outputs": [
    {
     "name": "stdout",
     "output_type": "stream",
     "text": [
      "==============================================================================\n",
      "                 coef    std err          z      P>|z|      [0.025      0.975]\n",
      "------------------------------------------------------------------------------\n",
      "ar.L1         -0.1534      0.525     -0.292      0.770      -1.183       0.876\n",
      "sigma2      9.347e+06   8.86e+06      1.055      0.291   -8.01e+06    2.67e+07\n",
      "==============================================================================\n"
     ]
    }
   ],
   "source": [
    "mod = sm.tsa.statespace.SARIMAX(sales2,\n",
    "                                order=(1, 1, 0),\n",
    "                                seasonal_order=(0, 1, 0, 12),\n",
    "                                enforce_invertibility=False)\n",
    "results = mod.fit(disp=False)\n",
    "print(results.summary().tables[1])\n"
   ]
  },
  {
   "cell_type": "code",
   "execution_count": 31,
   "metadata": {},
   "outputs": [
    {
     "ename": "TypeError",
     "evalue": "Value after * must be an iterable, not int",
     "output_type": "error",
     "traceback": [
      "\u001b[1;31m---------------------------------------------------------------------------\u001b[0m",
      "\u001b[1;31mTypeError\u001b[0m                                 Traceback (most recent call last)",
      "\u001b[1;32m~\\AppData\\Local\\Temp/ipykernel_13412/712647723.py\u001b[0m in \u001b[0;36m<module>\u001b[1;34m\u001b[0m\n\u001b[1;32m----> 1\u001b[1;33m \u001b[0mresults\u001b[0m\u001b[1;33m.\u001b[0m\u001b[0mplot_diagnostics\u001b[0m\u001b[1;33m(\u001b[0m\u001b[0mvariable\u001b[0m\u001b[1;33m=\u001b[0m\u001b[1;36m0\u001b[0m\u001b[1;33m,\u001b[0m \u001b[0mlags\u001b[0m\u001b[1;33m=\u001b[0m\u001b[1;36m2\u001b[0m\u001b[1;33m,\u001b[0m \u001b[0mfigsize\u001b[0m\u001b[1;33m=\u001b[0m\u001b[1;36m10\u001b[0m\u001b[1;33m)\u001b[0m\u001b[1;33m\u001b[0m\u001b[1;33m\u001b[0m\u001b[0m\n\u001b[0m\u001b[0;32m      2\u001b[0m \u001b[0mplt\u001b[0m\u001b[1;33m.\u001b[0m\u001b[0mshow\u001b[0m\u001b[1;33m(\u001b[0m\u001b[1;33m)\u001b[0m\u001b[1;33m\u001b[0m\u001b[1;33m\u001b[0m\u001b[0m\n",
      "\u001b[1;32m~\\AppData\\Local\\Programs\\Python\\Python39\\lib\\site-packages\\statsmodels\\tsa\\statespace\\mlemodel.py\u001b[0m in \u001b[0;36mplot_diagnostics\u001b[1;34m(self, variable, lags, fig, figsize, truncate_endog_names, auto_ylims, bartlett_confint, acf_kwargs)\u001b[0m\n\u001b[0;32m   4275\u001b[0m         \u001b[1;32mfrom\u001b[0m \u001b[0mstatsmodels\u001b[0m\u001b[1;33m.\u001b[0m\u001b[0mgraphics\u001b[0m\u001b[1;33m.\u001b[0m\u001b[0mutils\u001b[0m \u001b[1;32mimport\u001b[0m \u001b[0m_import_mpl\u001b[0m\u001b[1;33m,\u001b[0m \u001b[0mcreate_mpl_fig\u001b[0m\u001b[1;33m\u001b[0m\u001b[1;33m\u001b[0m\u001b[0m\n\u001b[0;32m   4276\u001b[0m         \u001b[0m_import_mpl\u001b[0m\u001b[1;33m(\u001b[0m\u001b[1;33m)\u001b[0m\u001b[1;33m\u001b[0m\u001b[1;33m\u001b[0m\u001b[0m\n\u001b[1;32m-> 4277\u001b[1;33m         \u001b[0mfig\u001b[0m \u001b[1;33m=\u001b[0m \u001b[0mcreate_mpl_fig\u001b[0m\u001b[1;33m(\u001b[0m\u001b[0mfig\u001b[0m\u001b[1;33m,\u001b[0m \u001b[0mfigsize\u001b[0m\u001b[1;33m)\u001b[0m\u001b[1;33m\u001b[0m\u001b[1;33m\u001b[0m\u001b[0m\n\u001b[0m\u001b[0;32m   4278\u001b[0m         \u001b[1;31m# Eliminate residuals associated with burned or diffuse likelihoods\u001b[0m\u001b[1;33m\u001b[0m\u001b[1;33m\u001b[0m\u001b[1;33m\u001b[0m\u001b[0m\n\u001b[0;32m   4279\u001b[0m         \u001b[0md\u001b[0m \u001b[1;33m=\u001b[0m \u001b[0mnp\u001b[0m\u001b[1;33m.\u001b[0m\u001b[0mmaximum\u001b[0m\u001b[1;33m(\u001b[0m\u001b[0mself\u001b[0m\u001b[1;33m.\u001b[0m\u001b[0mloglikelihood_burn\u001b[0m\u001b[1;33m,\u001b[0m \u001b[0mself\u001b[0m\u001b[1;33m.\u001b[0m\u001b[0mnobs_diffuse\u001b[0m\u001b[1;33m)\u001b[0m\u001b[1;33m\u001b[0m\u001b[1;33m\u001b[0m\u001b[0m\n",
      "\u001b[1;32m~\\AppData\\Local\\Programs\\Python\\Python39\\lib\\site-packages\\statsmodels\\graphics\\utils.py\u001b[0m in \u001b[0;36mcreate_mpl_fig\u001b[1;34m(fig, figsize)\u001b[0m\n\u001b[0;32m     85\u001b[0m     \u001b[1;32mif\u001b[0m \u001b[0mfig\u001b[0m \u001b[1;32mis\u001b[0m \u001b[1;32mNone\u001b[0m\u001b[1;33m:\u001b[0m\u001b[1;33m\u001b[0m\u001b[1;33m\u001b[0m\u001b[0m\n\u001b[0;32m     86\u001b[0m         \u001b[0mplt\u001b[0m \u001b[1;33m=\u001b[0m \u001b[0m_import_mpl\u001b[0m\u001b[1;33m(\u001b[0m\u001b[1;33m)\u001b[0m\u001b[1;33m\u001b[0m\u001b[1;33m\u001b[0m\u001b[0m\n\u001b[1;32m---> 87\u001b[1;33m         \u001b[0mfig\u001b[0m \u001b[1;33m=\u001b[0m \u001b[0mplt\u001b[0m\u001b[1;33m.\u001b[0m\u001b[0mfigure\u001b[0m\u001b[1;33m(\u001b[0m\u001b[0mfigsize\u001b[0m\u001b[1;33m=\u001b[0m\u001b[0mfigsize\u001b[0m\u001b[1;33m)\u001b[0m\u001b[1;33m\u001b[0m\u001b[1;33m\u001b[0m\u001b[0m\n\u001b[0m\u001b[0;32m     88\u001b[0m \u001b[1;33m\u001b[0m\u001b[0m\n\u001b[0;32m     89\u001b[0m     \u001b[1;32mreturn\u001b[0m \u001b[0mfig\u001b[0m\u001b[1;33m\u001b[0m\u001b[1;33m\u001b[0m\u001b[0m\n",
      "\u001b[1;32m~\\AppData\\Local\\Programs\\Python\\Python39\\lib\\site-packages\\matplotlib\\pyplot.py\u001b[0m in \u001b[0;36mfigure\u001b[1;34m(num, figsize, dpi, facecolor, edgecolor, frameon, FigureClass, clear, **kwargs)\u001b[0m\n\u001b[0;32m    785\u001b[0m                 RuntimeWarning)\n\u001b[0;32m    786\u001b[0m \u001b[1;33m\u001b[0m\u001b[0m\n\u001b[1;32m--> 787\u001b[1;33m         manager = new_figure_manager(\n\u001b[0m\u001b[0;32m    788\u001b[0m             \u001b[0mnum\u001b[0m\u001b[1;33m,\u001b[0m \u001b[0mfigsize\u001b[0m\u001b[1;33m=\u001b[0m\u001b[0mfigsize\u001b[0m\u001b[1;33m,\u001b[0m \u001b[0mdpi\u001b[0m\u001b[1;33m=\u001b[0m\u001b[0mdpi\u001b[0m\u001b[1;33m,\u001b[0m\u001b[1;33m\u001b[0m\u001b[1;33m\u001b[0m\u001b[0m\n\u001b[0;32m    789\u001b[0m             \u001b[0mfacecolor\u001b[0m\u001b[1;33m=\u001b[0m\u001b[0mfacecolor\u001b[0m\u001b[1;33m,\u001b[0m \u001b[0medgecolor\u001b[0m\u001b[1;33m=\u001b[0m\u001b[0medgecolor\u001b[0m\u001b[1;33m,\u001b[0m \u001b[0mframeon\u001b[0m\u001b[1;33m=\u001b[0m\u001b[0mframeon\u001b[0m\u001b[1;33m,\u001b[0m\u001b[1;33m\u001b[0m\u001b[1;33m\u001b[0m\u001b[0m\n",
      "\u001b[1;32m~\\AppData\\Local\\Programs\\Python\\Python39\\lib\\site-packages\\matplotlib\\pyplot.py\u001b[0m in \u001b[0;36mnew_figure_manager\u001b[1;34m(*args, **kwargs)\u001b[0m\n\u001b[0;32m    304\u001b[0m     \u001b[1;34m\"\"\"Create a new figure manager instance.\"\"\"\u001b[0m\u001b[1;33m\u001b[0m\u001b[1;33m\u001b[0m\u001b[0m\n\u001b[0;32m    305\u001b[0m     \u001b[0m_warn_if_gui_out_of_main_thread\u001b[0m\u001b[1;33m(\u001b[0m\u001b[1;33m)\u001b[0m\u001b[1;33m\u001b[0m\u001b[1;33m\u001b[0m\u001b[0m\n\u001b[1;32m--> 306\u001b[1;33m     \u001b[1;32mreturn\u001b[0m \u001b[0m_backend_mod\u001b[0m\u001b[1;33m.\u001b[0m\u001b[0mnew_figure_manager\u001b[0m\u001b[1;33m(\u001b[0m\u001b[1;33m*\u001b[0m\u001b[0margs\u001b[0m\u001b[1;33m,\u001b[0m \u001b[1;33m**\u001b[0m\u001b[0mkwargs\u001b[0m\u001b[1;33m)\u001b[0m\u001b[1;33m\u001b[0m\u001b[1;33m\u001b[0m\u001b[0m\n\u001b[0m\u001b[0;32m    307\u001b[0m \u001b[1;33m\u001b[0m\u001b[0m\n\u001b[0;32m    308\u001b[0m \u001b[1;33m\u001b[0m\u001b[0m\n",
      "\u001b[1;32m~\\AppData\\Local\\Programs\\Python\\Python39\\lib\\site-packages\\matplotlib\\backend_bases.py\u001b[0m in \u001b[0;36mnew_figure_manager\u001b[1;34m(cls, num, *args, **kwargs)\u001b[0m\n\u001b[0;32m   3471\u001b[0m         \u001b[1;32mfrom\u001b[0m \u001b[0mmatplotlib\u001b[0m\u001b[1;33m.\u001b[0m\u001b[0mfigure\u001b[0m \u001b[1;32mimport\u001b[0m \u001b[0mFigure\u001b[0m\u001b[1;33m\u001b[0m\u001b[1;33m\u001b[0m\u001b[0m\n\u001b[0;32m   3472\u001b[0m         \u001b[0mfig_cls\u001b[0m \u001b[1;33m=\u001b[0m \u001b[0mkwargs\u001b[0m\u001b[1;33m.\u001b[0m\u001b[0mpop\u001b[0m\u001b[1;33m(\u001b[0m\u001b[1;34m'FigureClass'\u001b[0m\u001b[1;33m,\u001b[0m \u001b[0mFigure\u001b[0m\u001b[1;33m)\u001b[0m\u001b[1;33m\u001b[0m\u001b[1;33m\u001b[0m\u001b[0m\n\u001b[1;32m-> 3473\u001b[1;33m         \u001b[0mfig\u001b[0m \u001b[1;33m=\u001b[0m \u001b[0mfig_cls\u001b[0m\u001b[1;33m(\u001b[0m\u001b[1;33m*\u001b[0m\u001b[0margs\u001b[0m\u001b[1;33m,\u001b[0m \u001b[1;33m**\u001b[0m\u001b[0mkwargs\u001b[0m\u001b[1;33m)\u001b[0m\u001b[1;33m\u001b[0m\u001b[1;33m\u001b[0m\u001b[0m\n\u001b[0m\u001b[0;32m   3474\u001b[0m         \u001b[1;32mreturn\u001b[0m \u001b[0mcls\u001b[0m\u001b[1;33m.\u001b[0m\u001b[0mnew_figure_manager_given_figure\u001b[0m\u001b[1;33m(\u001b[0m\u001b[0mnum\u001b[0m\u001b[1;33m,\u001b[0m \u001b[0mfig\u001b[0m\u001b[1;33m)\u001b[0m\u001b[1;33m\u001b[0m\u001b[1;33m\u001b[0m\u001b[0m\n\u001b[0;32m   3475\u001b[0m \u001b[1;33m\u001b[0m\u001b[0m\n",
      "\u001b[1;32m~\\AppData\\Local\\Programs\\Python\\Python39\\lib\\site-packages\\matplotlib\\figure.py\u001b[0m in \u001b[0;36m__init__\u001b[1;34m(self, figsize, dpi, facecolor, edgecolor, linewidth, frameon, subplotpars, tight_layout, constrained_layout, layout, **kwargs)\u001b[0m\n\u001b[0;32m   2273\u001b[0m             raise ValueError('figure size must be positive finite not '\n\u001b[0;32m   2274\u001b[0m                              f'{figsize}')\n\u001b[1;32m-> 2275\u001b[1;33m         \u001b[0mself\u001b[0m\u001b[1;33m.\u001b[0m\u001b[0mbbox_inches\u001b[0m \u001b[1;33m=\u001b[0m \u001b[0mBbox\u001b[0m\u001b[1;33m.\u001b[0m\u001b[0mfrom_bounds\u001b[0m\u001b[1;33m(\u001b[0m\u001b[1;36m0\u001b[0m\u001b[1;33m,\u001b[0m \u001b[1;36m0\u001b[0m\u001b[1;33m,\u001b[0m \u001b[1;33m*\u001b[0m\u001b[0mfigsize\u001b[0m\u001b[1;33m)\u001b[0m\u001b[1;33m\u001b[0m\u001b[1;33m\u001b[0m\u001b[0m\n\u001b[0m\u001b[0;32m   2276\u001b[0m \u001b[1;33m\u001b[0m\u001b[0m\n\u001b[0;32m   2277\u001b[0m         \u001b[0mself\u001b[0m\u001b[1;33m.\u001b[0m\u001b[0mdpi_scale_trans\u001b[0m \u001b[1;33m=\u001b[0m \u001b[0mAffine2D\u001b[0m\u001b[1;33m(\u001b[0m\u001b[1;33m)\u001b[0m\u001b[1;33m.\u001b[0m\u001b[0mscale\u001b[0m\u001b[1;33m(\u001b[0m\u001b[0mdpi\u001b[0m\u001b[1;33m)\u001b[0m\u001b[1;33m\u001b[0m\u001b[1;33m\u001b[0m\u001b[0m\n",
      "\u001b[1;31mTypeError\u001b[0m: Value after * must be an iterable, not int"
     ]
    }
   ],
   "source": [
    "results.plot_diagnostics(variable=0, lags=2, figsize=10)\n",
    "plt.show()"
   ]
  },
  {
   "cell_type": "markdown",
   "metadata": {},
   "source": [
    "A saída acima sugere que o SARIMAX (0, 1, 0) x (1, 1, 0, 12) produz o menor valor de AIC de 4.0. Portanto, devemos considerar isso como a melhor opção."
   ]
  },
  {
   "cell_type": "markdown",
   "metadata": {},
   "source": [
    "# Adjusting the ARIMA model"
   ]
  },
  {
   "cell_type": "code",
   "execution_count": 32,
   "metadata": {},
   "outputs": [
    {
     "name": "stdout",
     "output_type": "stream",
     "text": [
      "                               SARIMAX Results                                \n",
      "==============================================================================\n",
      "Dep. Variable:                  price   No. Observations:                   23\n",
      "Model:                 ARIMA(1, 1, 1)   Log Likelihood                -204.473\n",
      "Date:                Wed, 05 Jan 2022   AIC                            414.947\n",
      "Time:                        17:45:44   BIC                            418.220\n",
      "Sample:                    10-01-2016   HQIC                           415.718\n",
      "                         - 08-01-2018                                         \n",
      "Covariance Type:                  opg                                         \n",
      "==============================================================================\n",
      "                 coef    std err          z      P>|z|      [0.025      0.975]\n",
      "------------------------------------------------------------------------------\n",
      "ar.L1         -0.5389      0.577     -0.934      0.351      -1.670       0.593\n",
      "ma.L1          0.1526      0.624      0.245      0.807      -1.070       1.375\n",
      "sigma2       1.59e+07   3.73e+06      4.263      0.000    8.59e+06    2.32e+07\n",
      "===================================================================================\n",
      "Ljung-Box (L1) (Q):                   0.66   Jarque-Bera (JB):                 4.15\n",
      "Prob(Q):                              0.42   Prob(JB):                         0.13\n",
      "Heteroskedasticity (H):               0.30   Skew:                             0.72\n",
      "Prob(H) (two-sided):                  0.13   Kurtosis:                         4.57\n",
      "===================================================================================\n",
      "\n",
      "Warnings:\n",
      "[1] Covariance matrix calculated using the outer product of gradients (complex-step).\n"
     ]
    },
    {
     "data": {
      "image/png": "[encoded data removed]",
      "text/plain": [
       "<Figure size 432x288 with 1 Axes>"
      ]
     },
     "metadata": {
      "needs_background": "light"
     },
     "output_type": "display_data"
    },
    {
     "data": {
      "image/png": "[encoded data removed]",
      "text/plain": [
       "<Figure size 432x288 with 1 Axes>"
      ]
     },
     "metadata": {
      "needs_background": "light"
     },
     "output_type": "display_data"
    },
    {
     "name": "stdout",
     "output_type": "stream",
     "text": [
      "                  0\n",
      "count     22.000000\n",
      "mean    1819.018375\n",
      "std     3818.095158\n",
      "min    -5284.767390\n",
      "25%       70.065219\n",
      "50%     1470.019200\n",
      "75%     3956.642081\n",
      "max    12284.127095\n"
     ]
    }
   ],
   "source": [
    "from statsmodels.tsa.arima.model import ARIMA\n",
    "from pandas import DataFrame\n",
    "# fit model\n",
    "model = ARIMA(sales, order=(1,1,1))\n",
    "model_fit = model.fit()\n",
    "# summary of fit model\n",
    "print(model_fit.summary())\n",
    "# line plot of residuals\n",
    "residuals = DataFrame(model_fit.resid)\n",
    "residuals.plot()\n",
    "plt.show()\n",
    "# density plot of residuals\n",
    "residuals.plot(kind='kde')\n",
    "plt.show()\n",
    "# summary stats of residuals\n",
    "print(residuals.describe())"
   ]
  },
  {
   "cell_type": "markdown",
   "metadata": {},
   "source": [
    "**Customer's State Distribution**"
   ]
  },
  {
   "cell_type": "code",
   "execution_count": 33,
   "metadata": {},
   "outputs": [
    {
     "data": {
      "text/html": [
       "<div>\n",
       "<style scoped>\n",
       "    .dataframe tbody tr th:only-of-type {\n",
       "        vertical-align: middle;\n",
       "    }\n",
       "\n",
       "    .dataframe tbody tr th {\n",
       "        vertical-align: top;\n",
       "    }\n",
       "\n",
       "    .dataframe thead th {\n",
       "        text-align: right;\n",
       "    }\n",
       "</style>\n",
       "<table border=\"1\" class=\"dataframe\">\n",
       "  <thead>\n",
       "    <tr style=\"text-align: right;\">\n",
       "      <th></th>\n",
       "      <th>order_id</th>\n",
       "      <th>customer_id</th>\n",
       "      <th>order_status</th>\n",
       "      <th>order_purchase_timestamp</th>\n",
       "      <th>order_approved_at</th>\n",
       "      <th>order_delivered_carrier_date</th>\n",
       "      <th>order_delivered_customer_date</th>\n",
       "      <th>order_estimated_delivery_date</th>\n",
       "      <th>order_item_id</th>\n",
       "      <th>product_id</th>\n",
       "      <th>...</th>\n",
       "      <th>seller_zip_code_prefix</th>\n",
       "      <th>seller_city</th>\n",
       "      <th>seller_state</th>\n",
       "      <th>order_purchase_time</th>\n",
       "      <th>order_purchase_year</th>\n",
       "      <th>order_purchase_month</th>\n",
       "      <th>order_purchase_month_name</th>\n",
       "      <th>order_purchase_day</th>\n",
       "      <th>order_purchase_dayofweek</th>\n",
       "      <th>order_purchase_dayofweek_name</th>\n",
       "    </tr>\n",
       "  </thead>\n",
       "  <tbody>\n",
       "    <tr>\n",
       "      <th>0</th>\n",
       "      <td>e481f51cbdc54678b7cc49136f2d6af7</td>\n",
       "      <td>9ef432eb6251297304e76186b10a928d</td>\n",
       "      <td>delivered</td>\n",
       "      <td>2017-10-02</td>\n",
       "      <td>2017-10-02</td>\n",
       "      <td>2017-10-04</td>\n",
       "      <td>2017-10-10</td>\n",
       "      <td>2017-10-18</td>\n",
       "      <td>1.0</td>\n",
       "      <td>87285b34884572647811a353c7ac498a</td>\n",
       "      <td>...</td>\n",
       "      <td>9350.0</td>\n",
       "      <td>maua</td>\n",
       "      <td>SP</td>\n",
       "      <td>10:56:00</td>\n",
       "      <td>2017</td>\n",
       "      <td>10</td>\n",
       "      <td>Oct</td>\n",
       "      <td>2</td>\n",
       "      <td>0</td>\n",
       "      <td>Monday</td>\n",
       "    </tr>\n",
       "    <tr>\n",
       "      <th>1</th>\n",
       "      <td>e481f51cbdc54678b7cc49136f2d6af7</td>\n",
       "      <td>9ef432eb6251297304e76186b10a928d</td>\n",
       "      <td>delivered</td>\n",
       "      <td>2017-10-02</td>\n",
       "      <td>2017-10-02</td>\n",
       "      <td>2017-10-04</td>\n",
       "      <td>2017-10-10</td>\n",
       "      <td>2017-10-18</td>\n",
       "      <td>1.0</td>\n",
       "      <td>87285b34884572647811a353c7ac498a</td>\n",
       "      <td>...</td>\n",
       "      <td>9350.0</td>\n",
       "      <td>maua</td>\n",
       "      <td>SP</td>\n",
       "      <td>10:56:00</td>\n",
       "      <td>2017</td>\n",
       "      <td>10</td>\n",
       "      <td>Oct</td>\n",
       "      <td>2</td>\n",
       "      <td>0</td>\n",
       "      <td>Monday</td>\n",
       "    </tr>\n",
       "    <tr>\n",
       "      <th>2</th>\n",
       "      <td>e481f51cbdc54678b7cc49136f2d6af7</td>\n",
       "      <td>9ef432eb6251297304e76186b10a928d</td>\n",
       "      <td>delivered</td>\n",
       "      <td>2017-10-02</td>\n",
       "      <td>2017-10-02</td>\n",
       "      <td>2017-10-04</td>\n",
       "      <td>2017-10-10</td>\n",
       "      <td>2017-10-18</td>\n",
       "      <td>1.0</td>\n",
       "      <td>87285b34884572647811a353c7ac498a</td>\n",
       "      <td>...</td>\n",
       "      <td>9350.0</td>\n",
       "      <td>maua</td>\n",
       "      <td>SP</td>\n",
       "      <td>10:56:00</td>\n",
       "      <td>2017</td>\n",
       "      <td>10</td>\n",
       "      <td>Oct</td>\n",
       "      <td>2</td>\n",
       "      <td>0</td>\n",
       "      <td>Monday</td>\n",
       "    </tr>\n",
       "    <tr>\n",
       "      <th>3</th>\n",
       "      <td>128e10d95713541c87cd1a2e48201934</td>\n",
       "      <td>a20e8105f23924cd00833fd87daa0831</td>\n",
       "      <td>delivered</td>\n",
       "      <td>2017-08-15</td>\n",
       "      <td>2017-08-15</td>\n",
       "      <td>2017-08-17</td>\n",
       "      <td>2017-08-18</td>\n",
       "      <td>2017-08-28</td>\n",
       "      <td>1.0</td>\n",
       "      <td>87285b34884572647811a353c7ac498a</td>\n",
       "      <td>...</td>\n",
       "      <td>9350.0</td>\n",
       "      <td>maua</td>\n",
       "      <td>SP</td>\n",
       "      <td>18:29:00</td>\n",
       "      <td>2017</td>\n",
       "      <td>8</td>\n",
       "      <td>Aug</td>\n",
       "      <td>15</td>\n",
       "      <td>1</td>\n",
       "      <td>Tuesday</td>\n",
       "    </tr>\n",
       "    <tr>\n",
       "      <th>4</th>\n",
       "      <td>0e7e841ddf8f8f2de2bad69267ecfbcf</td>\n",
       "      <td>26c7ac168e1433912a51b924fbd34d34</td>\n",
       "      <td>delivered</td>\n",
       "      <td>2017-08-02</td>\n",
       "      <td>2017-08-02</td>\n",
       "      <td>2017-08-04</td>\n",
       "      <td>2017-08-07</td>\n",
       "      <td>2017-08-15</td>\n",
       "      <td>1.0</td>\n",
       "      <td>87285b34884572647811a353c7ac498a</td>\n",
       "      <td>...</td>\n",
       "      <td>9350.0</td>\n",
       "      <td>maua</td>\n",
       "      <td>SP</td>\n",
       "      <td>18:24:00</td>\n",
       "      <td>2017</td>\n",
       "      <td>8</td>\n",
       "      <td>Aug</td>\n",
       "      <td>2</td>\n",
       "      <td>2</td>\n",
       "      <td>Wednesday</td>\n",
       "    </tr>\n",
       "    <tr>\n",
       "      <th>...</th>\n",
       "      <td>...</td>\n",
       "      <td>...</td>\n",
       "      <td>...</td>\n",
       "      <td>...</td>\n",
       "      <td>...</td>\n",
       "      <td>...</td>\n",
       "      <td>...</td>\n",
       "      <td>...</td>\n",
       "      <td>...</td>\n",
       "      <td>...</td>\n",
       "      <td>...</td>\n",
       "      <td>...</td>\n",
       "      <td>...</td>\n",
       "      <td>...</td>\n",
       "      <td>...</td>\n",
       "      <td>...</td>\n",
       "      <td>...</td>\n",
       "      <td>...</td>\n",
       "      <td>...</td>\n",
       "      <td>...</td>\n",
       "      <td>...</td>\n",
       "    </tr>\n",
       "    <tr>\n",
       "      <th>119138</th>\n",
       "      <td>1ab38815794efa43d269d62b98dae815</td>\n",
       "      <td>a0b67404d84a70ef420a7f99ad6b190a</td>\n",
       "      <td>delivered</td>\n",
       "      <td>2018-07-01</td>\n",
       "      <td>2018-07-05</td>\n",
       "      <td>2018-07-04</td>\n",
       "      <td>2018-07-09</td>\n",
       "      <td>2018-07-20</td>\n",
       "      <td>1.0</td>\n",
       "      <td>31ec3a565e06de4bdf9d2a511b822b4d</td>\n",
       "      <td>...</td>\n",
       "      <td>13660.0</td>\n",
       "      <td>porto ferreira</td>\n",
       "      <td>SP</td>\n",
       "      <td>10:23:00</td>\n",
       "      <td>2018</td>\n",
       "      <td>7</td>\n",
       "      <td>Jul</td>\n",
       "      <td>1</td>\n",
       "      <td>6</td>\n",
       "      <td>Sunday</td>\n",
       "    </tr>\n",
       "    <tr>\n",
       "      <th>119139</th>\n",
       "      <td>b159d0ce7cd881052da94fa165617b05</td>\n",
       "      <td>e0c3bc5ce0836b975d6b2a8ce7bb0e3e</td>\n",
       "      <td>canceled</td>\n",
       "      <td>2017-03-11</td>\n",
       "      <td>2017-03-11</td>\n",
       "      <td>NaT</td>\n",
       "      <td>NaT</td>\n",
       "      <td>2017-03-30</td>\n",
       "      <td>1.0</td>\n",
       "      <td>241a1ffc9cf969b27de6e72301020268</td>\n",
       "      <td>...</td>\n",
       "      <td>89031.0</td>\n",
       "      <td>blumenau</td>\n",
       "      <td>SC</td>\n",
       "      <td>19:51:00</td>\n",
       "      <td>2017</td>\n",
       "      <td>3</td>\n",
       "      <td>Mar</td>\n",
       "      <td>11</td>\n",
       "      <td>5</td>\n",
       "      <td>Saturday</td>\n",
       "    </tr>\n",
       "    <tr>\n",
       "      <th>119140</th>\n",
       "      <td>735dce2d574afe8eb87e80a3d6229c48</td>\n",
       "      <td>d531d01affc2c55769f6b9ed410d8d3c</td>\n",
       "      <td>delivered</td>\n",
       "      <td>2018-07-24</td>\n",
       "      <td>2018-07-24</td>\n",
       "      <td>2018-07-24</td>\n",
       "      <td>2018-08-02</td>\n",
       "      <td>2018-08-16</td>\n",
       "      <td>1.0</td>\n",
       "      <td>1d187e8e7a30417fda31e85679d96f0f</td>\n",
       "      <td>...</td>\n",
       "      <td>13478.0</td>\n",
       "      <td>americana</td>\n",
       "      <td>SP</td>\n",
       "      <td>09:46:00</td>\n",
       "      <td>2018</td>\n",
       "      <td>7</td>\n",
       "      <td>Jul</td>\n",
       "      <td>24</td>\n",
       "      <td>1</td>\n",
       "      <td>Tuesday</td>\n",
       "    </tr>\n",
       "    <tr>\n",
       "      <th>119141</th>\n",
       "      <td>25d2bfa43663a23586afd12f15b542e7</td>\n",
       "      <td>9d8c06734fde9823ace11a4b5929b5a7</td>\n",
       "      <td>delivered</td>\n",
       "      <td>2018-05-22</td>\n",
       "      <td>2018-05-22</td>\n",
       "      <td>2018-05-24</td>\n",
       "      <td>2018-06-12</td>\n",
       "      <td>2018-06-08</td>\n",
       "      <td>1.0</td>\n",
       "      <td>6e1c2008dea1929b9b6c27fa01381e90</td>\n",
       "      <td>...</td>\n",
       "      <td>8320.0</td>\n",
       "      <td>sao paulo</td>\n",
       "      <td>SP</td>\n",
       "      <td>21:13:00</td>\n",
       "      <td>2018</td>\n",
       "      <td>5</td>\n",
       "      <td>May</td>\n",
       "      <td>22</td>\n",
       "      <td>1</td>\n",
       "      <td>Tuesday</td>\n",
       "    </tr>\n",
       "    <tr>\n",
       "      <th>119142</th>\n",
       "      <td>1565f22aa9452ff278638e87cc895678</td>\n",
       "      <td>56772dfbcbe7df908a284ff0d53adf7d</td>\n",
       "      <td>delivered</td>\n",
       "      <td>2018-05-15</td>\n",
       "      <td>2018-05-16</td>\n",
       "      <td>2018-05-16</td>\n",
       "      <td>2018-05-21</td>\n",
       "      <td>2018-05-29</td>\n",
       "      <td>1.0</td>\n",
       "      <td>9c1e194db1d35a79d962ea610bfe0868</td>\n",
       "      <td>...</td>\n",
       "      <td>14092.0</td>\n",
       "      <td>ribeirao preto</td>\n",
       "      <td>SP</td>\n",
       "      <td>17:41:00</td>\n",
       "      <td>2018</td>\n",
       "      <td>5</td>\n",
       "      <td>May</td>\n",
       "      <td>15</td>\n",
       "      <td>1</td>\n",
       "      <td>Tuesday</td>\n",
       "    </tr>\n",
       "  </tbody>\n",
       "</table>\n",
       "<p>119143 rows × 45 columns</p>\n",
       "</div>"
      ],
      "text/plain": [
       "                                order_id                       customer_id  \\\n",
       "0       e481f51cbdc54678b7cc49136f2d6af7  9ef432eb6251297304e76186b10a928d   \n",
       "1       e481f51cbdc54678b7cc49136f2d6af7  9ef432eb6251297304e76186b10a928d   \n",
       "2       e481f51cbdc54678b7cc49136f2d6af7  9ef432eb6251297304e76186b10a928d   \n",
       "3       128e10d95713541c87cd1a2e48201934  a20e8105f23924cd00833fd87daa0831   \n",
       "4       0e7e841ddf8f8f2de2bad69267ecfbcf  26c7ac168e1433912a51b924fbd34d34   \n",
       "...                                  ...                               ...   \n",
       "119138  1ab38815794efa43d269d62b98dae815  a0b67404d84a70ef420a7f99ad6b190a   \n",
       "119139  b159d0ce7cd881052da94fa165617b05  e0c3bc5ce0836b975d6b2a8ce7bb0e3e   \n",
       "119140  735dce2d574afe8eb87e80a3d6229c48  d531d01affc2c55769f6b9ed410d8d3c   \n",
       "119141  25d2bfa43663a23586afd12f15b542e7  9d8c06734fde9823ace11a4b5929b5a7   \n",
       "119142  1565f22aa9452ff278638e87cc895678  56772dfbcbe7df908a284ff0d53adf7d   \n",
       "\n",
       "       order_status order_purchase_timestamp order_approved_at  \\\n",
       "0         delivered               2017-10-02        2017-10-02   \n",
       "1         delivered               2017-10-02        2017-10-02   \n",
       "2         delivered               2017-10-02        2017-10-02   \n",
       "3         delivered               2017-08-15        2017-08-15   \n",
       "4         delivered               2017-08-02        2017-08-02   \n",
       "...             ...                      ...               ...   \n",
       "119138    delivered               2018-07-01        2018-07-05   \n",
       "119139     canceled               2017-03-11        2017-03-11   \n",
       "119140    delivered               2018-07-24        2018-07-24   \n",
       "119141    delivered               2018-05-22        2018-05-22   \n",
       "119142    delivered               2018-05-15        2018-05-16   \n",
       "\n",
       "       order_delivered_carrier_date order_delivered_customer_date  \\\n",
       "0                        2017-10-04                    2017-10-10   \n",
       "1                        2017-10-04                    2017-10-10   \n",
       "2                        2017-10-04                    2017-10-10   \n",
       "3                        2017-08-17                    2017-08-18   \n",
       "4                        2017-08-04                    2017-08-07   \n",
       "...                             ...                           ...   \n",
       "119138                   2018-07-04                    2018-07-09   \n",
       "119139                          NaT                           NaT   \n",
       "119140                   2018-07-24                    2018-08-02   \n",
       "119141                   2018-05-24                    2018-06-12   \n",
       "119142                   2018-05-16                    2018-05-21   \n",
       "\n",
       "       order_estimated_delivery_date  order_item_id  \\\n",
       "0                         2017-10-18            1.0   \n",
       "1                         2017-10-18            1.0   \n",
       "2                         2017-10-18            1.0   \n",
       "3                         2017-08-28            1.0   \n",
       "4                         2017-08-15            1.0   \n",
       "...                              ...            ...   \n",
       "119138                    2018-07-20            1.0   \n",
       "119139                    2017-03-30            1.0   \n",
       "119140                    2018-08-16            1.0   \n",
       "119141                    2018-06-08            1.0   \n",
       "119142                    2018-05-29            1.0   \n",
       "\n",
       "                              product_id  ... seller_zip_code_prefix  \\\n",
       "0       87285b34884572647811a353c7ac498a  ...                 9350.0   \n",
       "1       87285b34884572647811a353c7ac498a  ...                 9350.0   \n",
       "2       87285b34884572647811a353c7ac498a  ...                 9350.0   \n",
       "3       87285b34884572647811a353c7ac498a  ...                 9350.0   \n",
       "4       87285b34884572647811a353c7ac498a  ...                 9350.0   \n",
       "...                                  ...  ...                    ...   \n",
       "119138  31ec3a565e06de4bdf9d2a511b822b4d  ...                13660.0   \n",
       "119139  241a1ffc9cf969b27de6e72301020268  ...                89031.0   \n",
       "119140  1d187e8e7a30417fda31e85679d96f0f  ...                13478.0   \n",
       "119141  6e1c2008dea1929b9b6c27fa01381e90  ...                 8320.0   \n",
       "119142  9c1e194db1d35a79d962ea610bfe0868  ...                14092.0   \n",
       "\n",
       "           seller_city  seller_state  order_purchase_time  \\\n",
       "0                 maua            SP             10:56:00   \n",
       "1                 maua            SP             10:56:00   \n",
       "2                 maua            SP             10:56:00   \n",
       "3                 maua            SP             18:29:00   \n",
       "4                 maua            SP             18:24:00   \n",
       "...                ...           ...                  ...   \n",
       "119138  porto ferreira            SP             10:23:00   \n",
       "119139        blumenau            SC             19:51:00   \n",
       "119140       americana            SP             09:46:00   \n",
       "119141       sao paulo            SP             21:13:00   \n",
       "119142  ribeirao preto            SP             17:41:00   \n",
       "\n",
       "        order_purchase_year order_purchase_month  order_purchase_month_name  \\\n",
       "0                      2017                   10                        Oct   \n",
       "1                      2017                   10                        Oct   \n",
       "2                      2017                   10                        Oct   \n",
       "3                      2017                    8                        Aug   \n",
       "4                      2017                    8                        Aug   \n",
       "...                     ...                  ...                        ...   \n",
       "119138                 2018                    7                        Jul   \n",
       "119139                 2017                    3                        Mar   \n",
       "119140                 2018                    7                        Jul   \n",
       "119141                 2018                    5                        May   \n",
       "119142                 2018                    5                        May   \n",
       "\n",
       "        order_purchase_day order_purchase_dayofweek  \\\n",
       "0                        2                        0   \n",
       "1                        2                        0   \n",
       "2                        2                        0   \n",
       "3                       15                        1   \n",
       "4                        2                        2   \n",
       "...                    ...                      ...   \n",
       "119138                   1                        6   \n",
       "119139                  11                        5   \n",
       "119140                  24                        1   \n",
       "119141                  22                        1   \n",
       "119142                  15                        1   \n",
       "\n",
       "        order_purchase_dayofweek_name  \n",
       "0                              Monday  \n",
       "1                              Monday  \n",
       "2                              Monday  \n",
       "3                             Tuesday  \n",
       "4                           Wednesday  \n",
       "...                               ...  \n",
       "119138                         Sunday  \n",
       "119139                       Saturday  \n",
       "119140                        Tuesday  \n",
       "119141                        Tuesday  \n",
       "119142                        Tuesday  \n",
       "\n",
       "[119143 rows x 45 columns]"
      ]
     },
     "execution_count": 33,
     "metadata": {},
     "output_type": "execute_result"
    }
   ],
   "source": [
    "df_train_state"
   ]
  },
  {
   "cell_type": "code",
   "execution_count": 34,
   "metadata": {},
   "outputs": [
    {
     "data": {
      "image/png": "[encoded data removed]",
      "text/plain": [
       "<Figure size 2520x1008 with 1 Axes>"
      ]
     },
     "metadata": {
      "needs_background": "light"
     },
     "output_type": "display_data"
    }
   ],
   "source": [
    "plt.figure(figsize=(35,14))\n",
    "\n",
    "plt.subplot(221)\n",
    "sns.set(font_scale=1.5) \n",
    "g2 = sns.boxplot(x='customer_state', y='price', \n",
    "                 data=df_train_state[df_train_state['price'] != -1])\n",
    "g2.set_title(\"Customer's State by Price\", fontsize=20)\n",
    "g2.set_xlabel(\"State\", fontsize=20)\n",
    "g2.set_ylabel(\"Price\", fontsize=20)\n",
    "g2.set_xticklabels(g2.get_xticklabels(),rotation=45)\n",
    "\n",
    "plt.show()"
   ]
  },
  {
   "cell_type": "code",
   "execution_count": 35,
   "metadata": {},
   "outputs": [
    {
     "data": {
      "image/png": "[encoded data removed]",
      "text/plain": [
       "<Figure size 2160x1008 with 1 Axes>"
      ]
     },
     "metadata": {},
     "output_type": "display_data"
    }
   ],
   "source": [
    "plt.figure(figsize=(30,14))\n",
    "df_train_state['price_log'] = np.log(df_train_state['price'])\n",
    "\n",
    "plt.subplot(221)\n",
    "sns.set(font_scale=1.5) \n",
    "g2 = sns.boxplot(x='customer_state', y='price_log', \n",
    "                 data=df_train_state[df_train_state['price'] != -1])\n",
    "g2.set_title(\"Customer's State by Price Log\", fontsize=20)\n",
    "g2.set_xlabel(\"State\", fontsize=20)\n",
    "g2.set_ylabel(\"Price Log\", fontsize=20)\n",
    "g2.set_xticklabels(g2.get_xticklabels(),rotation=45)\n",
    "\n",
    "plt.show()"
   ]
  },
  {
   "cell_type": "code",
   "execution_count": 36,
   "metadata": {},
   "outputs": [
    {
     "ename": "KeyError",
     "evalue": "'customer_state'",
     "output_type": "error",
     "traceback": [
      "\u001b[1;31m---------------------------------------------------------------------------\u001b[0m",
      "\u001b[1;31mKeyError\u001b[0m                                  Traceback (most recent call last)",
      "\u001b[1;32m~\\AppData\\Local\\Programs\\Python\\Python39\\lib\\site-packages\\pandas\\core\\indexes\\base.py\u001b[0m in \u001b[0;36mget_loc\u001b[1;34m(self, key, method, tolerance)\u001b[0m\n\u001b[0;32m   3360\u001b[0m             \u001b[1;32mtry\u001b[0m\u001b[1;33m:\u001b[0m\u001b[1;33m\u001b[0m\u001b[1;33m\u001b[0m\u001b[0m\n\u001b[1;32m-> 3361\u001b[1;33m                 \u001b[1;32mreturn\u001b[0m \u001b[0mself\u001b[0m\u001b[1;33m.\u001b[0m\u001b[0m_engine\u001b[0m\u001b[1;33m.\u001b[0m\u001b[0mget_loc\u001b[0m\u001b[1;33m(\u001b[0m\u001b[0mcasted_key\u001b[0m\u001b[1;33m)\u001b[0m\u001b[1;33m\u001b[0m\u001b[1;33m\u001b[0m\u001b[0m\n\u001b[0m\u001b[0;32m   3362\u001b[0m             \u001b[1;32mexcept\u001b[0m \u001b[0mKeyError\u001b[0m \u001b[1;32mas\u001b[0m \u001b[0merr\u001b[0m\u001b[1;33m:\u001b[0m\u001b[1;33m\u001b[0m\u001b[1;33m\u001b[0m\u001b[0m\n",
      "\u001b[1;32m~\\AppData\\Local\\Programs\\Python\\Python39\\lib\\site-packages\\pandas\\_libs\\index.pyx\u001b[0m in \u001b[0;36mpandas._libs.index.IndexEngine.get_loc\u001b[1;34m()\u001b[0m\n",
      "\u001b[1;32m~\\AppData\\Local\\Programs\\Python\\Python39\\lib\\site-packages\\pandas\\_libs\\index.pyx\u001b[0m in \u001b[0;36mpandas._libs.index.IndexEngine.get_loc\u001b[1;34m()\u001b[0m\n",
      "\u001b[1;32mpandas\\_libs\\hashtable_class_helper.pxi\u001b[0m in \u001b[0;36mpandas._libs.hashtable.PyObjectHashTable.get_item\u001b[1;34m()\u001b[0m\n",
      "\u001b[1;32mpandas\\_libs\\hashtable_class_helper.pxi\u001b[0m in \u001b[0;36mpandas._libs.hashtable.PyObjectHashTable.get_item\u001b[1;34m()\u001b[0m\n",
      "\u001b[1;31mKeyError\u001b[0m: 'customer_state'",
      "\nThe above exception was the direct cause of the following exception:\n",
      "\u001b[1;31mKeyError\u001b[0m                                  Traceback (most recent call last)",
      "\u001b[1;32m~\\AppData\\Local\\Temp/ipykernel_13412/1357413539.py\u001b[0m in \u001b[0;36m<module>\u001b[1;34m\u001b[0m\n\u001b[0;32m      1\u001b[0m \u001b[0mplt\u001b[0m\u001b[1;33m.\u001b[0m\u001b[0mfigure\u001b[0m\u001b[1;33m(\u001b[0m\u001b[0mfigsize\u001b[0m\u001b[1;33m=\u001b[0m\u001b[1;33m(\u001b[0m\u001b[1;36m16\u001b[0m\u001b[1;33m,\u001b[0m\u001b[1;36m12\u001b[0m\u001b[1;33m)\u001b[0m\u001b[1;33m)\u001b[0m\u001b[1;33m\u001b[0m\u001b[1;33m\u001b[0m\u001b[0m\n\u001b[0;32m      2\u001b[0m \u001b[1;33m\u001b[0m\u001b[0m\n\u001b[1;32m----> 3\u001b[1;33m \u001b[0mg\u001b[0m \u001b[1;33m=\u001b[0m \u001b[0msns\u001b[0m\u001b[1;33m.\u001b[0m\u001b[0mcountplot\u001b[0m\u001b[1;33m(\u001b[0m\u001b[0mx\u001b[0m\u001b[1;33m=\u001b[0m\u001b[1;34m'customer_state'\u001b[0m\u001b[1;33m,\u001b[0m \u001b[0mdata\u001b[0m\u001b[1;33m=\u001b[0m\u001b[0mdf_train_state\u001b[0m\u001b[1;33m,\u001b[0m \u001b[0morient\u001b[0m\u001b[1;33m=\u001b[0m\u001b[1;34m'h'\u001b[0m\u001b[1;33m,\u001b[0m \u001b[0morder\u001b[0m\u001b[1;33m=\u001b[0m\u001b[0mdf_train\u001b[0m\u001b[1;33m[\u001b[0m\u001b[1;34m'customer_state'\u001b[0m\u001b[1;33m]\u001b[0m\u001b[1;33m.\u001b[0m\u001b[0mvalue_counts\u001b[0m\u001b[1;33m(\u001b[0m\u001b[1;33m)\u001b[0m\u001b[1;33m.\u001b[0m\u001b[0mindex\u001b[0m\u001b[1;33m)\u001b[0m\u001b[1;33m\u001b[0m\u001b[1;33m\u001b[0m\u001b[0m\n\u001b[0m\u001b[0;32m      4\u001b[0m \u001b[0mg\u001b[0m\u001b[1;33m.\u001b[0m\u001b[0mset_title\u001b[0m\u001b[1;33m(\u001b[0m\u001b[1;34m\"DISTRIBUIÇÃO DE CLIENTES POR ESTADO\"\u001b[0m\u001b[1;33m,\u001b[0m \u001b[0mfontsize\u001b[0m\u001b[1;33m=\u001b[0m\u001b[1;36m20\u001b[0m\u001b[1;33m)\u001b[0m\u001b[1;33m\u001b[0m\u001b[1;33m\u001b[0m\u001b[0m\n\u001b[0;32m      5\u001b[0m \u001b[0mg\u001b[0m\u001b[1;33m.\u001b[0m\u001b[0mset_xlabel\u001b[0m\u001b[1;33m(\u001b[0m\u001b[1;34m\"Estado\"\u001b[0m\u001b[1;33m,\u001b[0m \u001b[0mfontsize\u001b[0m\u001b[1;33m=\u001b[0m\u001b[1;36m17\u001b[0m\u001b[1;33m)\u001b[0m\u001b[1;33m\u001b[0m\u001b[1;33m\u001b[0m\u001b[0m\n",
      "\u001b[1;32m~\\AppData\\Local\\Programs\\Python\\Python39\\lib\\site-packages\\pandas\\core\\frame.py\u001b[0m in \u001b[0;36m__getitem__\u001b[1;34m(self, key)\u001b[0m\n\u001b[0;32m   3456\u001b[0m             \u001b[1;32mif\u001b[0m \u001b[0mself\u001b[0m\u001b[1;33m.\u001b[0m\u001b[0mcolumns\u001b[0m\u001b[1;33m.\u001b[0m\u001b[0mnlevels\u001b[0m \u001b[1;33m>\u001b[0m \u001b[1;36m1\u001b[0m\u001b[1;33m:\u001b[0m\u001b[1;33m\u001b[0m\u001b[1;33m\u001b[0m\u001b[0m\n\u001b[0;32m   3457\u001b[0m                 \u001b[1;32mreturn\u001b[0m \u001b[0mself\u001b[0m\u001b[1;33m.\u001b[0m\u001b[0m_getitem_multilevel\u001b[0m\u001b[1;33m(\u001b[0m\u001b[0mkey\u001b[0m\u001b[1;33m)\u001b[0m\u001b[1;33m\u001b[0m\u001b[1;33m\u001b[0m\u001b[0m\n\u001b[1;32m-> 3458\u001b[1;33m             \u001b[0mindexer\u001b[0m \u001b[1;33m=\u001b[0m \u001b[0mself\u001b[0m\u001b[1;33m.\u001b[0m\u001b[0mcolumns\u001b[0m\u001b[1;33m.\u001b[0m\u001b[0mget_loc\u001b[0m\u001b[1;33m(\u001b[0m\u001b[0mkey\u001b[0m\u001b[1;33m)\u001b[0m\u001b[1;33m\u001b[0m\u001b[1;33m\u001b[0m\u001b[0m\n\u001b[0m\u001b[0;32m   3459\u001b[0m             \u001b[1;32mif\u001b[0m \u001b[0mis_integer\u001b[0m\u001b[1;33m(\u001b[0m\u001b[0mindexer\u001b[0m\u001b[1;33m)\u001b[0m\u001b[1;33m:\u001b[0m\u001b[1;33m\u001b[0m\u001b[1;33m\u001b[0m\u001b[0m\n\u001b[0;32m   3460\u001b[0m                 \u001b[0mindexer\u001b[0m \u001b[1;33m=\u001b[0m \u001b[1;33m[\u001b[0m\u001b[0mindexer\u001b[0m\u001b[1;33m]\u001b[0m\u001b[1;33m\u001b[0m\u001b[1;33m\u001b[0m\u001b[0m\n",
      "\u001b[1;32m~\\AppData\\Local\\Programs\\Python\\Python39\\lib\\site-packages\\pandas\\core\\indexes\\base.py\u001b[0m in \u001b[0;36mget_loc\u001b[1;34m(self, key, method, tolerance)\u001b[0m\n\u001b[0;32m   3361\u001b[0m                 \u001b[1;32mreturn\u001b[0m \u001b[0mself\u001b[0m\u001b[1;33m.\u001b[0m\u001b[0m_engine\u001b[0m\u001b[1;33m.\u001b[0m\u001b[0mget_loc\u001b[0m\u001b[1;33m(\u001b[0m\u001b[0mcasted_key\u001b[0m\u001b[1;33m)\u001b[0m\u001b[1;33m\u001b[0m\u001b[1;33m\u001b[0m\u001b[0m\n\u001b[0;32m   3362\u001b[0m             \u001b[1;32mexcept\u001b[0m \u001b[0mKeyError\u001b[0m \u001b[1;32mas\u001b[0m \u001b[0merr\u001b[0m\u001b[1;33m:\u001b[0m\u001b[1;33m\u001b[0m\u001b[1;33m\u001b[0m\u001b[0m\n\u001b[1;32m-> 3363\u001b[1;33m                 \u001b[1;32mraise\u001b[0m \u001b[0mKeyError\u001b[0m\u001b[1;33m(\u001b[0m\u001b[0mkey\u001b[0m\u001b[1;33m)\u001b[0m \u001b[1;32mfrom\u001b[0m \u001b[0merr\u001b[0m\u001b[1;33m\u001b[0m\u001b[1;33m\u001b[0m\u001b[0m\n\u001b[0m\u001b[0;32m   3364\u001b[0m \u001b[1;33m\u001b[0m\u001b[0m\n\u001b[0;32m   3365\u001b[0m         \u001b[1;32mif\u001b[0m \u001b[0mis_scalar\u001b[0m\u001b[1;33m(\u001b[0m\u001b[0mkey\u001b[0m\u001b[1;33m)\u001b[0m \u001b[1;32mand\u001b[0m \u001b[0misna\u001b[0m\u001b[1;33m(\u001b[0m\u001b[0mkey\u001b[0m\u001b[1;33m)\u001b[0m \u001b[1;32mand\u001b[0m \u001b[1;32mnot\u001b[0m \u001b[0mself\u001b[0m\u001b[1;33m.\u001b[0m\u001b[0mhasnans\u001b[0m\u001b[1;33m:\u001b[0m\u001b[1;33m\u001b[0m\u001b[1;33m\u001b[0m\u001b[0m\n",
      "\u001b[1;31mKeyError\u001b[0m: 'customer_state'"
     ]
    },
    {
     "data": {
      "text/plain": [
       "<Figure size 1152x864 with 0 Axes>"
      ]
     },
     "metadata": {},
     "output_type": "display_data"
    }
   ],
   "source": [
    "plt.figure(figsize=(16,12))\n",
    "\n",
    "g = sns.countplot(x='customer_state', data=df_train_state, orient='h', order=df_train['customer_state'].value_counts().index)\n",
    "g.set_title(\"DISTRIBUIÇÃO DE CLIENTES POR ESTADO\", fontsize=20)\n",
    "g.set_xlabel(\"Estado\", fontsize=17)\n",
    "g.set_ylabel(\"Quantidade (%)\", fontsize=17)\n",
    "g.set_xticklabels(g.get_xticklabels(),rotation=90)\n",
    "sizes = []\n",
    "total=len(df_train_state)\n",
    "\n",
    "for p in g.patches:\n",
    "    height = p.get_height()\n",
    "    sizes.append(height)\n",
    "    g.text(p.get_x()+p.get_width()/2.,\n",
    "            height + 3,\n",
    "            '{:1.2f}%'.format(height/total*100),\n",
    "            ha=\"center\", fontsize=14) \n",
    "g.set_ylim(0, max(sizes) * 1.1)\n",
    "\n",
    "plt.show()\n"
   ]
  },
  {
   "cell_type": "code",
   "execution_count": null,
   "metadata": {},
   "outputs": [],
   "source": []
  },
  {
   "cell_type": "code",
   "execution_count": null,
   "metadata": {},
   "outputs": [],
   "source": []
  },
  {
   "cell_type": "code",
   "execution_count": null,
   "metadata": {},
   "outputs": [],
   "source": []
  },
  {
   "cell_type": "markdown",
   "metadata": {},
   "source": [
    "https://github.com/letsdata/series-temporais-python/blob/main/series-temporais-python.ipynb"
   ]
  }
 ],
 "metadata": {
  "interpreter": {
   "hash": "6c4b2e2b177025e3781112894bf8739cf5d0336ec369f5ec6c6310b21f5f1c4f"
  },
  "kernelspec": {
   "display_name": "Python 3 (ipykernel)",
   "language": "python",
   "name": "python3"
  },
  "language_info": {
   "codemirror_mode": {
    "name": "ipython",
    "version": 3
   },
   "file_extension": ".py",
   "mimetype": "text/x-python",
   "name": "python",
   "nbconvert_exporter": "python",
   "pygments_lexer": "ipython3",
   "version": "3.9.6"
  }
 },
 "nbformat": 4,
 "nbformat_minor": 2
}
