{
 "cells": [
  {
   "cell_type": "markdown",
   "metadata": {},
   "source": [
    "# SALES PREDICTION USING ARIMA AND PROPHET FOR BRAZILIAN E-COMMERCE"
   ]
  },
  {
   "cell_type": "markdown",
   "metadata": {},
   "source": [
    "The dataset was generously provided by Olist, the largest department store in Brazilian marketplaces. Olist connects small businesses from all over Brazil to channels without hassle and with a single contract. Those merchants are able to sell their products through the Olist Store and ship them directly to the customers using Olist logistics partners. See more on our website: www.olist.com\n",
    "\n",
    "After a customer purchases the product from Olist Store a seller gets notified to fulfill that order. Once the customer receives the product, or the estimated delivery date is due, the customer gets a satisfaction survey by email where he can give a note for the purchase experience and write down some comments."
   ]
  },
  {
   "cell_type": "markdown",
   "metadata": {},
   "source": [
    "**What is ARIMA model?**\n",
    "\n",
    "A. ARIMA(Auto Regressive Integrated Moving Average) is a combination of 2 models AR(Auto Regressive) & MA(Moving Average). It has 3 hyperparameters - P(auto regressive lags),d(order of differentiation),Q(moving avg.) which respectively comes from the AR, I & MA components. The AR part is correlation between prev & current time periods. To smooth out the noise, the MA part is used. The I part binds together the AR & MA parts."
   ]
  },
  {
   "cell_type": "markdown",
   "metadata": {},
   "source": [
    "# 📤 IMPORT LIBRARIES"
   ]
  },
  {
   "cell_type": "code",
   "execution_count": 1,
   "metadata": {},
   "outputs": [
    {
     "name": "stdout",
     "output_type": "stream",
     "text": [
      "Requirement already satisfied: statsmodels in c:\\users\\p22.vivian\\anaconda3\\lib\\site-packages (0.12.2)\n",
      "Requirement already satisfied: numpy>=1.15 in c:\\users\\p22.vivian\\anaconda3\\lib\\site-packages (from statsmodels) (1.20.3)\n",
      "Requirement already satisfied: scipy>=1.1 in c:\\users\\p22.vivian\\anaconda3\\lib\\site-packages (from statsmodels) (1.7.1)\n",
      "Requirement already satisfied: pandas>=0.21 in c:\\users\\p22.vivian\\anaconda3\\lib\\site-packages (from statsmodels) (1.3.4)\n",
      "Requirement already satisfied: patsy>=0.5 in c:\\users\\p22.vivian\\anaconda3\\lib\\site-packages (from statsmodels) (0.5.2)\n",
      "Requirement already satisfied: pytz>=2017.3 in c:\\users\\p22.vivian\\anaconda3\\lib\\site-packages (from pandas>=0.21->statsmodels) (2021.3)\n",
      "Requirement already satisfied: python-dateutil>=2.7.3 in c:\\users\\p22.vivian\\anaconda3\\lib\\site-packages (from pandas>=0.21->statsmodels) (2.8.2)\n",
      "Requirement already satisfied: six in c:\\users\\p22.vivian\\anaconda3\\lib\\site-packages (from patsy>=0.5->statsmodels) (1.16.0)\n",
      "Requirement already satisfied: pmdarima in c:\\users\\p22.vivian\\anaconda3\\lib\\site-packages (1.8.4)\n",
      "Requirement already satisfied: numpy>=1.19.3 in c:\\users\\p22.vivian\\anaconda3\\lib\\site-packages (from pmdarima) (1.20.3)\n",
      "Requirement already satisfied: statsmodels!=0.12.0,>=0.11 in c:\\users\\p22.vivian\\anaconda3\\lib\\site-packages (from pmdarima) (0.12.2)\n",
      "Requirement already satisfied: joblib>=0.11 in c:\\users\\p22.vivian\\anaconda3\\lib\\site-packages (from pmdarima) (1.1.0)\n",
      "Requirement already satisfied: urllib3 in c:\\users\\p22.vivian\\anaconda3\\lib\\site-packages (from pmdarima) (1.26.7)\n",
      "Requirement already satisfied: scipy>=1.3.2 in c:\\users\\p22.vivian\\anaconda3\\lib\\site-packages (from pmdarima) (1.7.1)\n",
      "Requirement already satisfied: setuptools!=50.0.0,>=38.6.0 in c:\\users\\p22.vivian\\anaconda3\\lib\\site-packages (from pmdarima) (58.0.4)\n",
      "Requirement already satisfied: Cython!=0.29.18,>=0.29 in c:\\users\\p22.vivian\\anaconda3\\lib\\site-packages (from pmdarima) (0.29.24)\n",
      "Requirement already satisfied: scikit-learn>=0.22 in c:\\users\\p22.vivian\\anaconda3\\lib\\site-packages (from pmdarima) (0.24.2)\n",
      "Requirement already satisfied: pandas>=0.19 in c:\\users\\p22.vivian\\anaconda3\\lib\\site-packages (from pmdarima) (1.3.4)\n",
      "Requirement already satisfied: python-dateutil>=2.7.3 in c:\\users\\p22.vivian\\anaconda3\\lib\\site-packages (from pandas>=0.19->pmdarima) (2.8.2)\n",
      "Requirement already satisfied: pytz>=2017.3 in c:\\users\\p22.vivian\\anaconda3\\lib\\site-packages (from pandas>=0.19->pmdarima) (2021.3)\n",
      "Requirement already satisfied: six>=1.5 in c:\\users\\p22.vivian\\anaconda3\\lib\\site-packages (from python-dateutil>=2.7.3->pandas>=0.19->pmdarima) (1.16.0)\n",
      "Requirement already satisfied: threadpoolctl>=2.0.0 in c:\\users\\p22.vivian\\anaconda3\\lib\\site-packages (from scikit-learn>=0.22->pmdarima) (2.2.0)\n",
      "Requirement already satisfied: patsy>=0.5 in c:\\users\\p22.vivian\\anaconda3\\lib\\site-packages (from statsmodels!=0.12.0,>=0.11->pmdarima) (0.5.2)\n"
     ]
    }
   ],
   "source": [
    "!pip install statsmodels\n",
    "!pip install pmdarima"
   ]
  },
  {
   "cell_type": "code",
   "execution_count": 9,
   "metadata": {},
   "outputs": [],
   "source": [
    "import numpy as np\n",
    "import pandas as pd\n",
    "from pandas.plotting import autocorrelation_plot\n",
    "from scipy import stats\n",
    "import os\n",
    "import itertools\n",
    "\n",
    "import matplotlib.pyplot as plt\n",
    "from matplotlib.gridspec import GridSpec\n",
    "%matplotlib inline\n",
    "pd.set_option('display.max_columns', 100)\n",
    "from viz_utils import *\n",
    "\n",
    "import seaborn as sns\n",
    "import statsmodels.api as sm\n",
    "\n",
    "from pylab import rcParams\n",
    "\n",
    "from pmdarima import auto_arima\n",
    "from statsmodels.tsa.arima.model import ARIMA\n",
    "from statsmodels.tsa.api import SARIMAX, AutoReg\n",
    "from sklearn.metrics import mean_squared_error\n",
    "from math import sqrt\n",
    "\n",
    "# elimina os warnings das bibliotecas\n",
    "import warnings\n",
    "warnings.filterwarnings('ignore')\n"
   ]
  },
  {
   "cell_type": "markdown",
   "metadata": {},
   "source": [
    "# 💾 CHECK OUT THE DATA"
   ]
  },
  {
   "cell_type": "markdown",
   "metadata": {},
   "source": [
    "**IMPORTING AWS S3 BUCKET FILES**"
   ]
  },
  {
   "cell_type": "code",
   "execution_count": 3,
   "metadata": {},
   "outputs": [],
   "source": [
    "orders = \"https://stack-labs-landing.s3.amazonaws.com/datasets/olist_orders_dataset.csv\"\n",
    "customer = \"https://stack-labs-landing.s3.amazonaws.com/datasets/olist_customers_dataset.csv\"\n",
    "item = \"https://stack-labs-landing.s3.amazonaws.com/datasets/olist_order_items_dataset.csv\"\n",
    "products = \"https://stack-labs-landing.s3.amazonaws.com/datasets/olist_products_dataset.csv\"\n",
    "sellers = \"https://stack-labs-landing.s3.amazonaws.com/datasets/olist_sellers_dataset.csv\"\n",
    "order_pay = \"https://stack-labs-landing.s3.amazonaws.com/datasets/olist_order_payments_dataset.csv\"\n",
    "category =\"https://stack-labs-landing.s3.amazonaws.com/datasets/product_category_name_translation.csv\""
   ]
  },
  {
   "cell_type": "code",
   "execution_count": 4,
   "metadata": {},
   "outputs": [],
   "source": [
    "df_orders = pd.read_csv(orders)\n",
    "df_customers = pd.read_csv(customer)\n",
    "df_item = pd.read_csv(item)\n",
    "df_products = pd.read_csv(products)\n",
    "df_sellers = pd.read_csv(sellers)\n",
    "df_order_pay = pd.read_csv(order_pay)\n",
    "df_category = pd.read_csv(category)"
   ]
  },
  {
   "cell_type": "markdown",
   "metadata": {},
   "source": [
    "**MERGE DF_ORDERS WITH DF_CUSTOMERS**"
   ]
  },
  {
   "cell_type": "code",
   "execution_count": 5,
   "metadata": {},
   "outputs": [],
   "source": [
    "df_orders = df_orders.merge(df_customers, on='customer_id', how='outer')"
   ]
  },
  {
   "cell_type": "markdown",
   "metadata": {},
   "source": [
    "**ALL IN ONE**"
   ]
  },
  {
   "cell_type": "code",
   "execution_count": 6,
   "metadata": {},
   "outputs": [
    {
     "name": "stdout",
     "output_type": "stream",
     "text": [
      "(118434, 33)\n"
     ]
    }
   ],
   "source": [
    "# merge all the tables in one dataframe\n",
    "df_train = df_orders.merge(df_item, on='order_id', how='left')\n",
    "df_train = df_train.merge(df_order_pay, on='order_id', how='outer', validate='m:m')\n",
    "df_train = df_train.merge(df_products, on='product_id', how='outer')\n",
    "df_train = df_train.merge(df_sellers, on='seller_id', how='outer')\n",
    "\n",
    "print(df_train.shape)"
   ]
  },
  {
   "cell_type": "code",
   "execution_count": 7,
   "metadata": {},
   "outputs": [
    {
     "name": "stdout",
     "output_type": "stream",
     "text": [
      "<class 'pandas.core.frame.DataFrame'>\n",
      "Int64Index: 118434 entries, 0 to 118433\n",
      "Data columns (total 33 columns):\n",
      " #   Column                         Non-Null Count   Dtype  \n",
      "---  ------                         --------------   -----  \n",
      " 0   order_id                       118434 non-null  object \n",
      " 1   customer_id                    118434 non-null  object \n",
      " 2   order_status                   118434 non-null  object \n",
      " 3   order_purchase_timestamp       118434 non-null  object \n",
      " 4   order_approved_at              118258 non-null  object \n",
      " 5   order_delivered_carrier_date   116360 non-null  object \n",
      " 6   order_delivered_customer_date  115037 non-null  object \n",
      " 7   order_estimated_delivery_date  118434 non-null  object \n",
      " 8   customer_unique_id             118434 non-null  object \n",
      " 9   customer_zip_code_prefix       118434 non-null  int64  \n",
      " 10  customer_city                  118434 non-null  object \n",
      " 11  customer_state                 118434 non-null  object \n",
      " 12  order_item_id                  117604 non-null  float64\n",
      " 13  product_id                     117604 non-null  object \n",
      " 14  seller_id                      117604 non-null  object \n",
      " 15  shipping_limit_date            117604 non-null  object \n",
      " 16  price                          117604 non-null  float64\n",
      " 17  freight_value                  117604 non-null  float64\n",
      " 18  payment_sequential             118431 non-null  float64\n",
      " 19  payment_type                   118431 non-null  object \n",
      " 20  payment_installments           118431 non-null  float64\n",
      " 21  payment_value                  118431 non-null  float64\n",
      " 22  product_category_name          115906 non-null  object \n",
      " 23  product_name_lenght            115906 non-null  float64\n",
      " 24  product_description_lenght     115906 non-null  float64\n",
      " 25  product_photos_qty             115906 non-null  float64\n",
      " 26  product_weight_g               117584 non-null  float64\n",
      " 27  product_length_cm              117584 non-null  float64\n",
      " 28  product_height_cm              117584 non-null  float64\n",
      " 29  product_width_cm               117584 non-null  float64\n",
      " 30  seller_zip_code_prefix         117604 non-null  float64\n",
      " 31  seller_city                    117604 non-null  object \n",
      " 32  seller_state                   117604 non-null  object \n",
      "dtypes: float64(14), int64(1), object(18)\n",
      "memory usage: 30.7+ MB\n"
     ]
    }
   ],
   "source": [
    "#This data from the train table will be used for the prediction of the price, which here we will call as total sales.\n",
    "df_train.info()"
   ]
  },
  {
   "cell_type": "markdown",
   "metadata": {},
   "source": [
    "**CONVERT DATE COLUMNS TO TIMESTAMP**"
   ]
  },
  {
   "cell_type": "code",
   "execution_count": 11,
   "metadata": {},
   "outputs": [
    {
     "data": {
      "text/html": [
       "<div>\n",
       "<style scoped>\n",
       "    .dataframe tbody tr th:only-of-type {\n",
       "        vertical-align: middle;\n",
       "    }\n",
       "\n",
       "    .dataframe tbody tr th {\n",
       "        vertical-align: top;\n",
       "    }\n",
       "\n",
       "    .dataframe thead th {\n",
       "        text-align: right;\n",
       "    }\n",
       "</style>\n",
       "<table border=\"1\" class=\"dataframe\">\n",
       "  <thead>\n",
       "    <tr style=\"text-align: right;\">\n",
       "      <th></th>\n",
       "      <th>order_id</th>\n",
       "      <th>customer_id</th>\n",
       "      <th>order_status</th>\n",
       "      <th>order_purchase_timestamp</th>\n",
       "      <th>order_approved_at</th>\n",
       "      <th>order_delivered_carrier_date</th>\n",
       "      <th>order_delivered_customer_date</th>\n",
       "      <th>order_estimated_delivery_date</th>\n",
       "      <th>customer_unique_id</th>\n",
       "      <th>customer_zip_code_prefix</th>\n",
       "      <th>customer_city</th>\n",
       "      <th>customer_state</th>\n",
       "      <th>order_purchase_year</th>\n",
       "      <th>order_purchase_month</th>\n",
       "      <th>order_purchase_year_month</th>\n",
       "      <th>order_purchase_date</th>\n",
       "      <th>order_purchase_week</th>\n",
       "      <th>order_purchase_year_week</th>\n",
       "      <th>order_purchase_day</th>\n",
       "      <th>order_purchase_dayofweek</th>\n",
       "      <th>order_purchase_dayofweek_name</th>\n",
       "      <th>order_purchase_hour</th>\n",
       "      <th>order_purchase_time_day</th>\n",
       "    </tr>\n",
       "  </thead>\n",
       "  <tbody>\n",
       "    <tr>\n",
       "      <th>0</th>\n",
       "      <td>e481f51cbdc54678b7cc49136f2d6af7</td>\n",
       "      <td>9ef432eb6251297304e76186b10a928d</td>\n",
       "      <td>delivered</td>\n",
       "      <td>2017-10-02 10:56:00</td>\n",
       "      <td>2017-10-02 11:07:00</td>\n",
       "      <td>2017-10-04 19:55:00</td>\n",
       "      <td>2017-10-10 21:25:00</td>\n",
       "      <td>2017-10-18</td>\n",
       "      <td>7c396fd4830fd04220f754e42b4e5bff</td>\n",
       "      <td>3149</td>\n",
       "      <td>sao paulo</td>\n",
       "      <td>SP</td>\n",
       "      <td>2017</td>\n",
       "      <td>10</td>\n",
       "      <td>2017-10</td>\n",
       "      <td>2017-10-02</td>\n",
       "      <td>40</td>\n",
       "      <td>2017-40</td>\n",
       "      <td>2</td>\n",
       "      <td>0</td>\n",
       "      <td>Mon</td>\n",
       "      <td>10</td>\n",
       "      <td>Morning</td>\n",
       "    </tr>\n",
       "    <tr>\n",
       "      <th>1</th>\n",
       "      <td>53cdb2fc8bc7dce0b6741e2150273451</td>\n",
       "      <td>b0830fb4747a6c6d20dea0b8c802d7ef</td>\n",
       "      <td>delivered</td>\n",
       "      <td>2018-07-24 20:41:00</td>\n",
       "      <td>2018-07-26 03:24:00</td>\n",
       "      <td>2018-07-26 14:31:00</td>\n",
       "      <td>2018-08-07 15:27:00</td>\n",
       "      <td>2018-08-13</td>\n",
       "      <td>af07308b275d755c9edb36a90c618231</td>\n",
       "      <td>47813</td>\n",
       "      <td>barreiras</td>\n",
       "      <td>BA</td>\n",
       "      <td>2018</td>\n",
       "      <td>7</td>\n",
       "      <td>2018-07</td>\n",
       "      <td>2018-07-24</td>\n",
       "      <td>30</td>\n",
       "      <td>2018-29</td>\n",
       "      <td>24</td>\n",
       "      <td>1</td>\n",
       "      <td>Tue</td>\n",
       "      <td>20</td>\n",
       "      <td>Night</td>\n",
       "    </tr>\n",
       "    <tr>\n",
       "      <th>2</th>\n",
       "      <td>47770eb9100c2d0c44946d9cf07ec65d</td>\n",
       "      <td>41ce2a54c0b03bf3443c3d931a367089</td>\n",
       "      <td>delivered</td>\n",
       "      <td>2018-08-08 08:38:00</td>\n",
       "      <td>2018-08-08 08:55:00</td>\n",
       "      <td>2018-08-08 13:50:00</td>\n",
       "      <td>2018-08-17 18:06:00</td>\n",
       "      <td>2018-09-04</td>\n",
       "      <td>3a653a41f6f9fc3d2a113cf8398680e8</td>\n",
       "      <td>75265</td>\n",
       "      <td>vianopolis</td>\n",
       "      <td>GO</td>\n",
       "      <td>2018</td>\n",
       "      <td>8</td>\n",
       "      <td>2018-08</td>\n",
       "      <td>2018-08-08</td>\n",
       "      <td>32</td>\n",
       "      <td>2018-31</td>\n",
       "      <td>8</td>\n",
       "      <td>2</td>\n",
       "      <td>Wed</td>\n",
       "      <td>8</td>\n",
       "      <td>Morning</td>\n",
       "    </tr>\n",
       "    <tr>\n",
       "      <th>3</th>\n",
       "      <td>949d5b44dbf5de918fe9c16f97b45f8a</td>\n",
       "      <td>f88197465ea7920adcdbec7375364d82</td>\n",
       "      <td>delivered</td>\n",
       "      <td>2017-11-18 19:28:00</td>\n",
       "      <td>2017-11-18 19:45:00</td>\n",
       "      <td>2017-11-22 13:39:00</td>\n",
       "      <td>2017-12-02 00:28:00</td>\n",
       "      <td>2017-12-15</td>\n",
       "      <td>7c142cf63193a1473d2e66489a9ae977</td>\n",
       "      <td>59296</td>\n",
       "      <td>sao goncalo do amarante</td>\n",
       "      <td>RN</td>\n",
       "      <td>2017</td>\n",
       "      <td>11</td>\n",
       "      <td>2017-11</td>\n",
       "      <td>2017-11-18</td>\n",
       "      <td>46</td>\n",
       "      <td>2017-46</td>\n",
       "      <td>18</td>\n",
       "      <td>5</td>\n",
       "      <td>Sat</td>\n",
       "      <td>19</td>\n",
       "      <td>Night</td>\n",
       "    </tr>\n",
       "    <tr>\n",
       "      <th>4</th>\n",
       "      <td>ad21c59c0840e6cb83a9ceb5573f8159</td>\n",
       "      <td>8ab97904e6daea8866dbdbc4fb7aad2c</td>\n",
       "      <td>delivered</td>\n",
       "      <td>2018-02-13 21:18:00</td>\n",
       "      <td>2018-02-13 22:20:00</td>\n",
       "      <td>2018-02-14 19:46:00</td>\n",
       "      <td>2018-02-16 18:17:00</td>\n",
       "      <td>2018-02-26</td>\n",
       "      <td>72632f0f9dd73dfee390c9b22eb56dd6</td>\n",
       "      <td>9195</td>\n",
       "      <td>santo andre</td>\n",
       "      <td>SP</td>\n",
       "      <td>2018</td>\n",
       "      <td>2</td>\n",
       "      <td>2018-02</td>\n",
       "      <td>2018-02-13</td>\n",
       "      <td>7</td>\n",
       "      <td>2018-06</td>\n",
       "      <td>13</td>\n",
       "      <td>1</td>\n",
       "      <td>Tue</td>\n",
       "      <td>21</td>\n",
       "      <td>Night</td>\n",
       "    </tr>\n",
       "  </tbody>\n",
       "</table>\n",
       "</div>"
      ],
      "text/plain": [
       "                           order_id                       customer_id  \\\n",
       "0  e481f51cbdc54678b7cc49136f2d6af7  9ef432eb6251297304e76186b10a928d   \n",
       "1  53cdb2fc8bc7dce0b6741e2150273451  b0830fb4747a6c6d20dea0b8c802d7ef   \n",
       "2  47770eb9100c2d0c44946d9cf07ec65d  41ce2a54c0b03bf3443c3d931a367089   \n",
       "3  949d5b44dbf5de918fe9c16f97b45f8a  f88197465ea7920adcdbec7375364d82   \n",
       "4  ad21c59c0840e6cb83a9ceb5573f8159  8ab97904e6daea8866dbdbc4fb7aad2c   \n",
       "\n",
       "  order_status order_purchase_timestamp   order_approved_at  \\\n",
       "0    delivered      2017-10-02 10:56:00 2017-10-02 11:07:00   \n",
       "1    delivered      2018-07-24 20:41:00 2018-07-26 03:24:00   \n",
       "2    delivered      2018-08-08 08:38:00 2018-08-08 08:55:00   \n",
       "3    delivered      2017-11-18 19:28:00 2017-11-18 19:45:00   \n",
       "4    delivered      2018-02-13 21:18:00 2018-02-13 22:20:00   \n",
       "\n",
       "  order_delivered_carrier_date order_delivered_customer_date  \\\n",
       "0          2017-10-04 19:55:00           2017-10-10 21:25:00   \n",
       "1          2018-07-26 14:31:00           2018-08-07 15:27:00   \n",
       "2          2018-08-08 13:50:00           2018-08-17 18:06:00   \n",
       "3          2017-11-22 13:39:00           2017-12-02 00:28:00   \n",
       "4          2018-02-14 19:46:00           2018-02-16 18:17:00   \n",
       "\n",
       "  order_estimated_delivery_date                customer_unique_id  \\\n",
       "0                    2017-10-18  7c396fd4830fd04220f754e42b4e5bff   \n",
       "1                    2018-08-13  af07308b275d755c9edb36a90c618231   \n",
       "2                    2018-09-04  3a653a41f6f9fc3d2a113cf8398680e8   \n",
       "3                    2017-12-15  7c142cf63193a1473d2e66489a9ae977   \n",
       "4                    2018-02-26  72632f0f9dd73dfee390c9b22eb56dd6   \n",
       "\n",
       "   customer_zip_code_prefix            customer_city customer_state  \\\n",
       "0                      3149                sao paulo             SP   \n",
       "1                     47813                barreiras             BA   \n",
       "2                     75265               vianopolis             GO   \n",
       "3                     59296  sao goncalo do amarante             RN   \n",
       "4                      9195              santo andre             SP   \n",
       "\n",
       "   order_purchase_year  order_purchase_month order_purchase_year_month  \\\n",
       "0                 2017                    10                   2017-10   \n",
       "1                 2018                     7                   2018-07   \n",
       "2                 2018                     8                   2018-08   \n",
       "3                 2017                    11                   2017-11   \n",
       "4                 2018                     2                   2018-02   \n",
       "\n",
       "  order_purchase_date  order_purchase_week order_purchase_year_week  \\\n",
       "0          2017-10-02                   40                  2017-40   \n",
       "1          2018-07-24                   30                  2018-29   \n",
       "2          2018-08-08                   32                  2018-31   \n",
       "3          2017-11-18                   46                  2017-46   \n",
       "4          2018-02-13                    7                  2018-06   \n",
       "\n",
       "   order_purchase_day  order_purchase_dayofweek order_purchase_dayofweek_name  \\\n",
       "0                   2                         0                           Mon   \n",
       "1                  24                         1                           Tue   \n",
       "2                   8                         2                           Wed   \n",
       "3                  18                         5                           Sat   \n",
       "4                  13                         1                           Tue   \n",
       "\n",
       "   order_purchase_hour order_purchase_time_day  \n",
       "0                   10                 Morning  \n",
       "1                   20                   Night  \n",
       "2                    8                 Morning  \n",
       "3                   19                   Night  \n",
       "4                   21                   Night  "
      ]
     },
     "execution_count": 11,
     "metadata": {},
     "output_type": "execute_result"
    }
   ],
   "source": [
    "# Changing the datetime features to the correct format\n",
    "timestamp_cols = ['order_purchase_timestamp', 'order_approved_at', 'order_delivered_carrier_date', 'order_delivered_customer_date',\n",
    "                  'order_estimated_delivery_date']\n",
    "for col in timestamp_cols:\n",
    "    df_orders[col] = pd.to_datetime(df_orders[col])\n",
    "    \n",
    "                  \n",
    "# Extracting attributes for purchase date - Year and Month\n",
    "df_orders['order_purchase_year'] = df_orders['order_purchase_timestamp'].apply(lambda x: x.year)\n",
    "df_orders['order_purchase_month'] = df_orders['order_purchase_timestamp'].apply(lambda x: x.month)\n",
    "#df_orders['order_purchase_month_name'] = df_orders['order_purchase_timestamp'].apply(lambda x: x.strftime('%b'))\n",
    "\n",
    "\n",
    "\n",
    "df_orders['order_purchase_year_month'] = df_orders['order_purchase_timestamp'].apply(lambda x: x.strftime('%Y-%m'))\n",
    "df_orders['order_purchase_date'] = df_orders['order_purchase_timestamp'].apply(lambda x: x.strftime('%Y-%m-%d'))\n",
    "\n",
    "# Extracting attributes for purchase date - Year and Week\n",
    "df_orders['order_purchase_week'] = df_orders['order_purchase_timestamp'].apply(lambda x: x.week)\n",
    "df_orders['order_purchase_year_week'] = df_orders['order_purchase_timestamp'].apply(lambda x: x.strftime('%Y-%U'))\n",
    "\n",
    "\n",
    "# Extracting attributes for purchase date - Day and Day of Week\n",
    "df_orders['order_purchase_day'] = df_orders['order_purchase_timestamp'].apply(lambda x: x.day)\n",
    "df_orders['order_purchase_dayofweek'] = df_orders['order_purchase_timestamp'].apply(lambda x: x.dayofweek)\n",
    "df_orders['order_purchase_dayofweek_name'] = df_orders['order_purchase_timestamp'].apply(lambda x: x.strftime('%a'))\n",
    "\n",
    "\n",
    "# Extracting attributes for purchase date - Hour and Time of the Day\n",
    "df_orders['order_purchase_hour'] = df_orders['order_purchase_timestamp'].apply(lambda x: x.hour)\n",
    "hours_bins = [-0.1, 6, 12, 18, 23]\n",
    "hours_labels = ['Dawn', 'Morning', 'Afternoon', 'Night']\n",
    "df_orders['order_purchase_time_day'] = pd.cut(df_orders['order_purchase_hour'], hours_bins, labels=hours_labels)\n",
    "\n",
    "# New DataFrame after transformations\n",
    "df_orders.head()"
   ]
  },
  {
   "cell_type": "code",
   "execution_count": null,
   "metadata": {},
   "outputs": [],
   "source": [
    "df_orders['order_purchase_year_month'] = df_orders['order_purchase_timestamp'].apply(lambda x: x.strftime('%Y-%m-%sd'))"
   ]
  },
  {
   "cell_type": "code",
   "execution_count": null,
   "metadata": {},
   "outputs": [],
   "source": [
    "df_orders['order_purchase_week']"
   ]
  },
  {
   "cell_type": "markdown",
   "metadata": {},
   "source": [
    "**CLEAN DATA**"
   ]
  },
  {
   "cell_type": "code",
   "execution_count": null,
   "metadata": {},
   "outputs": [],
   "source": [
    "#Counting number of empty rows in the df_orders\n",
    "df_orders.isnull().sum().sort_values(ascending = False)"
   ]
  },
  {
   "cell_type": "code",
   "execution_count": null,
   "metadata": {},
   "outputs": [],
   "source": [
    "#Counting number of empty rows in the df_train\n",
    "df_train.isnull().sum().sort_values(ascending = False)"
   ]
  },
  {
   "cell_type": "code",
   "execution_count": null,
   "metadata": {},
   "outputs": [],
   "source": [
    "df_train.info()"
   ]
  },
  {
   "cell_type": "markdown",
   "metadata": {},
   "source": [
    "**Is that a growing trend on e-commerce in Brazil? How can we describe a complete scenario?**"
   ]
  },
  {
   "cell_type": "markdown",
   "metadata": {},
   "source": [
    "# **EXPLORATORY DATA ANALYSIS**"
   ]
  },
  {
   "cell_type": "markdown",
   "metadata": {},
   "source": [
    "# **Visualization E-commerce Price Overtime**"
   ]
  },
  {
   "cell_type": "markdown",
   "metadata": {},
   "source": [
    "# Price Distribution"
   ]
  },
  {
   "cell_type": "code",
   "execution_count": null,
   "metadata": {},
   "outputs": [],
   "source": [
    "# Getting the histogram and normal probability plot\n",
    "plt.figure(figsize=(16,12))\n",
    "plt.suptitle('Price Distributions', fontsize=22)\n",
    "plt.subplot(221)\n",
    "g = sns.histplot(df_train['price'], kde=True)\n",
    "g.set_title(\"Price Distributions\", fontsize=18)\n",
    "g.set_xlabel(\"Price Values\", fontsize=15)\n",
    "g.set_ylabel(\"Probability\", fontsize=15)\n",
    "\n",
    "plt.subplot(222)\n",
    "g1 = sns.histplot(np.log(df_train['price']), kde=True)\n",
    "g1.set_title(\"Price(LOG) Distributions\", fontsize=18)\n",
    "g1.set_xlabel(\"Price Values\", fontsize=15)\n",
    "g1.set_ylabel(\"Probability\", fontsize=15)\n",
    "\n",
    "plt.show()\n",
    "\n",
    "plt.figure(figsize=(16,12))\n",
    "\n",
    "plt.subplot(221)\n",
    "res = stats.probplot(df_train['price'], plot=plt, fit=True, rvalue=True);\n",
    "\n",
    "plt.subplot(222)\n",
    "res = stats.probplot(np.log(df_train['price']), plot=plt, fit=True, rvalue=True);\n",
    "\n",
    "plt.show()"
   ]
  },
  {
   "cell_type": "markdown",
   "metadata": {},
   "source": [
    "Price Distribution: Histogram of a sample from a right-skewed distribution – it looks unimodal and skewed right.\n",
    "\n",
    "Price Log Distribution: Histogram of a sample from a normal distribution – it looks fairly symmetric and unimodal.\n",
    "\n",
    "Probability Plot - Price Distribution: Normal probability plot of a sample from a right-skewed distribution – it has an inverted C shape.\n",
    "\n",
    "Probability Plot - Price Log Distribution: Normal probability plot of a sample from a normal distribution – it looks fairly straight, at least when the few large and small values are ignored."
   ]
  },
  {
   "cell_type": "markdown",
   "metadata": {},
   "source": [
    "# Visualization E-commerce Orders Overtime"
   ]
  },
  {
   "cell_type": "markdown",
   "metadata": {},
   "source": [
    "# **Evolution of E-Commerce Overtime - Amount of orders**"
   ]
  },
  {
   "cell_type": "code",
   "execution_count": null,
   "metadata": {},
   "outputs": [],
   "source": [
    "# Preparing the chart\n",
    "fig, ax = plt.subplots(figsize=(10, 5))\n",
    "ax = sns.countplot(x='order_purchase_year', data=df_orders, palette='Blues_d')\n",
    "format_spines(ax, right_border=False)\n",
    "\n",
    "# Showing frequency\n",
    "ncount = len(df_orders)\n",
    "for p in ax.patches:\n",
    "    x=p.get_bbox().get_points()[:,0]\n",
    "    y=p.get_bbox().get_points()[1,1]\n",
    "    ax.annotate('{:.1f}%'.format(100.*y/ncount), (x.mean(), y), \n",
    "            ha='center', va='bottom', size=12)\n",
    "\n",
    "ax.set_title('Amount of Online Order by Year', size=20)\n",
    "ax.set_ylabel('Orders', size=18)\n",
    "ax.set_xlabel('Year', size=18)\n",
    "\n",
    "plt.tight_layout()\n",
    "plt.show()"
   ]
  },
  {
   "cell_type": "markdown",
   "metadata": {},
   "source": [
    "The number of orders in 2016 was insignificant, only 0,3% of the total.\n",
    "\n",
    "Then, we selected the period of interest to try a better performance in the model"
   ]
  },
  {
   "cell_type": "markdown",
   "metadata": {},
   "source": [
    "# **Evolution of E-Commerce Overtime - Total Sales per day**"
   ]
  },
  {
   "cell_type": "code",
   "execution_count": null,
   "metadata": {},
   "outputs": [],
   "source": [
    "df_sale = df_train.groupby('order_purchase_timestamp')['price'].sum().reset_index()\n",
    "df_sale['order_purchase_timestamp'] = pd.to_datetime(df_sale['order_purchase_timestamp'])\n",
    "df_sale = df_sale.sort_values('order_purchase_timestamp')\n",
    "df_sale.info()"
   ]
  },
  {
   "cell_type": "markdown",
   "metadata": {},
   "source": [
    "**Analyzing the outliers**"
   ]
  },
  {
   "cell_type": "code",
   "execution_count": null,
   "metadata": {},
   "outputs": [],
   "source": [
    "#Data Order Purchase Analysis\n",
    "plt.figure(figsize=(25,10))\n",
    "df_sale.plot.box(title='Order Purchase Sale Boxplot', vert=0);\n",
    "plt.xlabel('Price')\n",
    "plt.ylabel('');"
   ]
  },
  {
   "cell_type": "code",
   "execution_count": null,
   "metadata": {},
   "outputs": [],
   "source": [
    "df_sale.isnull().sum()"
   ]
  },
  {
   "cell_type": "code",
   "execution_count": null,
   "metadata": {},
   "outputs": [],
   "source": [
    "df_sale.info()"
   ]
  },
  {
   "cell_type": "code",
   "execution_count": null,
   "metadata": {},
   "outputs": [],
   "source": [
    "df_sale.shape"
   ]
  },
  {
   "cell_type": "code",
   "execution_count": null,
   "metadata": {},
   "outputs": [],
   "source": [
    "df_previsao = df_sale.set_index('order_purchase_timestamp')\n",
    "    \n",
    "df_previsao.info()"
   ]
  },
  {
   "cell_type": "code",
   "execution_count": null,
   "metadata": {},
   "outputs": [],
   "source": [
    "# Test of stationarity.\n",
    "# The null hypothesis reject (H0)= the series is not stationary\n",
    "# If the p-value is less than 0.05, reject H0.\n",
    "\n",
    "from statsmodels.tsa.stattools import adfuller\n",
    "\n",
    "result=adfuller(df_previsao.dropna())\n",
    "print(f'Teste ADF:{result[0]}')\n",
    "print(f'p-valor:{result[1]}')"
   ]
  },
  {
   "cell_type": "markdown",
   "metadata": {},
   "source": [
    "#  **Evolution of E-Commerce Overtime - Total Sales per month**"
   ]
  },
  {
   "cell_type": "code",
   "execution_count": null,
   "metadata": {},
   "outputs": [],
   "source": [
    "#Resample time-series data to start month.\n",
    "previsao = df_previsao['price'].resample('MS').sum()\n",
    "previsao.fillna(df_previsao['price'].mean(), inplace=True)"
   ]
  },
  {
   "cell_type": "code",
   "execution_count": null,
   "metadata": {},
   "outputs": [],
   "source": [
    "previsao.round(2)"
   ]
  },
  {
   "cell_type": "code",
   "execution_count": null,
   "metadata": {},
   "outputs": [],
   "source": [
    "previsao.describe()"
   ]
  },
  {
   "cell_type": "code",
   "execution_count": null,
   "metadata": {},
   "outputs": [],
   "source": [
    "previsao2 = previsao.replace(0.00, 5.489884e+05)\n",
    "previsao2 = previsao2.replace(10.90, 5.489884e+05)\n",
    "previsao3 = previsao2.drop(labels=['2018-09-01', '2018-10-01'])\n",
    "previsao3.round(2)"
   ]
  },
  {
   "cell_type": "code",
   "execution_count": null,
   "metadata": {},
   "outputs": [],
   "source": [
    "#formatar dado cientifico\n",
    "previsao3.plot(figsize=(15, 6))\n",
    "plt.xlabel(\"Month\", size=18)\n",
    "plt.ylabel(\"Total Sale\", size=18)\n",
    "plt.show()"
   ]
  },
  {
   "cell_type": "markdown",
   "metadata": {},
   "source": [
    "As expected, the week with the order maximum was in the 47th week of 2017, when is the week known as Black Friday in Brazil. The minimum number of orders was in the first week of January 2018, a hangover period for purchases that took place at the end of year."
   ]
  },
  {
   "cell_type": "code",
   "execution_count": null,
   "metadata": {},
   "outputs": [],
   "source": [
    "from pylab import rcParams\n",
    "rcParams['figure.figsize'] = 18, 10\n",
    "decomposition = sm.tsa.seasonal_decompose(previsao3, model='additive')\n",
    "fig = decomposition.plot()\n",
    "plt.show()"
   ]
  },
  {
   "cell_type": "code",
   "execution_count": null,
   "metadata": {},
   "outputs": [],
   "source": [
    "warnings.filterwarnings(\"ignore\") # specify to ignore warning messages\n",
    "\n",
    "for param in pdq:\n",
    "    for param_seasonal in seasonal_pdq:\n",
    "        try:\n",
    "            mod = sm.tsa.statespace.SARIMAX(previsao3,\n",
    "                                            order=param,\n",
    "                                            seasonal_order=param_seasonal,\n",
    "                                            #enforce_stationarity=False,\n",
    "                                            enforce_invertibility=False)\n",
    "\n",
    "            results = mod.fit()\n",
    "\n",
    "            print('SARIMAX{}x{}12 - AIC:{}'.format(param, param_seasonal, results.aic))\n",
    "        except:\n",
    "            continue"
   ]
  },
  {
   "cell_type": "markdown",
   "metadata": {},
   "source": [
    "The above output suggests that the SARIMAX(0, 1, 0)x(0, 1, 0, 12)12 produces the lowest AIC value - AIC:110.35220622507379."
   ]
  },
  {
   "cell_type": "code",
   "execution_count": null,
   "metadata": {},
   "outputs": [],
   "source": [
    "df_previsao = df_sale.set_index('order_purchase_timestamp')"
   ]
  },
  {
   "cell_type": "code",
   "execution_count": null,
   "metadata": {},
   "outputs": [],
   "source": [
    "#Now, let's go create a SARIMAX model with seasonality (Arima version with parameters for seasonality)\n",
    "from statsmodels.tsa.statespace.sarimax import SARIMAX\n",
    "from pandas import DataFrame\n",
    "\n",
    "model_sarimax_previsao = SARIMAX(previsao3, order=(1,1,1), seasonal_order=(1,1,0,12), enforce_invertibility=False)\n",
    "resultado_sarimax_previsao = model_sarimax_previsao.fit()\n",
    "# summary of fit model\n",
    "print(resultado_sarimax_previsao.summary())\n",
    "resultado_sarimax_previsao.summary()\n",
    "\n",
    "# line plot of residuals\n",
    "residuals_previsao = DataFrame(resultado_sarimax_previsao.resid)\n",
    "residuals_previsao.plot()\n",
    "plt.show()\n",
    "# density plot of residuals\n",
    "residuals_previsao.plot(kind='kde')\n",
    "plt.show()\n",
    "# summary stats of residuals\n",
    "print(residuals_previsao.describe())"
   ]
  },
  {
   "cell_type": "code",
   "execution_count": null,
   "metadata": {},
   "outputs": [],
   "source": [
    "# VALIDATING THE FORECAST\n",
    "\n",
    "pred_previsao = results.get_prediction(start=pd.to_datetime('2018-01-01'), dynamic=False)\n",
    "pred_ci = pred_previsao.conf_int()\n",
    "ax = previsao3['2016':].plot(label='Actual')\n",
    "pred_previsao.predicted_mean.plot(ax=ax, label='Forecast', alpha=.7, figsize=(14, 7))\n",
    "ax.fill_between(pred_ci.index,\n",
    "                pred_ci.iloc[:, 0],\n",
    "                pred_ci.iloc[:, 1], color='k', alpha=.2)\n",
    "ax.set_xlabel('Data')\n",
    "ax.set_ylabel('Sale')\n",
    "plt.title('Forecast vs Actuals', fontsize=20)\n",
    "plt.legend(loc='upper left', fontsize=18)\n",
    "plt.show()"
   ]
  },
  {
   "cell_type": "markdown",
   "metadata": {},
   "source": [
    "From the chart, the SARIMAX(0, 1, 0)x(0, 1, 0, 12) model seems to give a directionally correct forecast. And the actual observed values lie within the 95% confidence band. That seems fine."
   ]
  },
  {
   "cell_type": "code",
   "execution_count": null,
   "metadata": {},
   "outputs": [],
   "source": [
    "previsao_forecasted = pred_previsao.predicted_mean\n",
    "previsao3_truth = previsao3['2018-01-01':]\n",
    "mse = ((previsao_forecasted - previsao3_truth) ** 2).mean()\n",
    "print('The Mean Squared Error of our forecasts is {}'.format(round(mse, 2)))"
   ]
  },
  {
   "cell_type": "code",
   "execution_count": null,
   "metadata": {},
   "outputs": [],
   "source": [
    "print('The Root Mean Squared Error of our forecasts is {}'.format(round(np.sqrt(mse), 2)))"
   ]
  },
  {
   "cell_type": "markdown",
   "metadata": {},
   "source": [
    "# 🔮 FINAL FORECAST - BY MONTH"
   ]
  },
  {
   "cell_type": "code",
   "execution_count": null,
   "metadata": {},
   "outputs": [],
   "source": [
    "# Let’s forecast for the next 20 months.\n",
    "\n",
    "pred_uc = results.get_forecast(steps=20)\n",
    "pred_ci2 = pred_uc.conf_int()\n",
    "ax = previsao3.plot(label='Actual', figsize=(20, 10))\n",
    "pred_uc.predicted_mean.plot(ax=ax, label='Forecast')\n",
    "ax.fill_between(pred_ci2.index,\n",
    "                pred_ci2.iloc[:, 0],\n",
    "                pred_ci2.iloc[:, 1], color='k', alpha=.25)\n",
    "ax.set_xlabel('Data', fontsize=18)\n",
    "ax.set_ylabel('Sale', fontsize=18)\n",
    "plt.legend(loc='upper left', fontsize=18)\n",
    "plt.show()"
   ]
  },
  {
   "cell_type": "markdown",
   "metadata": {},
   "source": [
    "# **Evolution of E-Commerce Overtime - Total Sales per week**"
   ]
  },
  {
   "cell_type": "code",
   "execution_count": null,
   "metadata": {},
   "outputs": [],
   "source": [
    "#Sizing the table\n",
    "plt.subplots(figsize=(15, 6))\n",
    "\n",
    "# creating a weekly sales total price feature\n",
    "df_sale['sales_weekly'] = df_sale['order_purchase_timestamp'].dt.strftime('%Y-%U')\n",
    "\n",
    "# creating an aggregation\n",
    "total_sales_weekly = df_sale.groupby('sales_weekly', as_index=False).price.sum()\n",
    "ax = sns.lineplot(x=\"sales_weekly\", y=\"price\", data=total_sales_weekly)\n",
    "ax.set_title('Sales per week', fontsize=20)\n",
    "ax.set_ylabel('Sales Total Price', fontsize=18)\n",
    "ax.set_xlabel('Order Purchase per Week', fontsize=18)\n",
    "ax.set_xticks(ax.get_xticks()[::6])\n",
    "plt.xticks(rotation=45);"
   ]
  },
  {
   "cell_type": "markdown",
   "metadata": {},
   "source": [
    "As expected, the week with the order maximum was in the 47th week of 2017, when is the week known as Black Friday in Brazil. The minimum number of orders was in the first week of January 2018, a hangover period for purchases that took place at the end of year."
   ]
  },
  {
   "cell_type": "code",
   "execution_count": null,
   "metadata": {},
   "outputs": [],
   "source": [
    "#Resample time-series data to start month.\n",
    "previsao4 = df_previsao['price'].resample('W-MON').sum()\n",
    "previsao4.fillna(df_previsao['price'].mean(), inplace=True)"
   ]
  },
  {
   "cell_type": "code",
   "execution_count": null,
   "metadata": {},
   "outputs": [],
   "source": [
    "previsao4.round(2)"
   ]
  },
  {
   "cell_type": "code",
   "execution_count": null,
   "metadata": {},
   "outputs": [],
   "source": [
    "previsao4.describe()"
   ]
  },
  {
   "cell_type": "code",
   "execution_count": null,
   "metadata": {},
   "outputs": [],
   "source": [
    "previsao5=previsao4.iloc[:-7]\n",
    "previsao_w = previsao5.replace({0.000000: 127443.746875, 10.900000:127443.746875})\n",
    "previsao_w[:20]"
   ]
  },
  {
   "cell_type": "code",
   "execution_count": null,
   "metadata": {},
   "outputs": [],
   "source": [
    "previsao_w.plot(figsize=(15, 6))\n",
    "plt.xlabel(\"Weekly\", size=18)\n",
    "plt.ylabel(\"Total Sale (R$)\", size=18)\n",
    "plt.show()"
   ]
  },
  {
   "cell_type": "code",
   "execution_count": null,
   "metadata": {},
   "outputs": [],
   "source": [
    "from pylab import rcParams\n",
    "rcParams['figure.figsize'] = 18, 10\n",
    "decomposition = sm.tsa.seasonal_decompose(previsao_w, model='additive')\n",
    "fig = decomposition.plot()\n",
    "plt.show()"
   ]
  },
  {
   "cell_type": "code",
   "execution_count": null,
   "metadata": {},
   "outputs": [],
   "source": [
    "warnings.filterwarnings(\"ignore\") # specify to ignore warning messages\n",
    "\n",
    "for param in pdq:\n",
    "    for param_seasonal in seasonal_pdq:\n",
    "        try:\n",
    "            modweek = sm.tsa.statespace.SARIMAX(previsao_w,\n",
    "                                            order=param,\n",
    "                                            seasonal_order=param_seasonal,\n",
    "                                            #enforce_stationarity=False,\n",
    "                                            enforce_invertibility=False)\n",
    "\n",
    "            results = modweek.fit()\n",
    "\n",
    "            print('SARIMAX{}x{}12 - AIC:{}'.format(param, param_seasonal, results.aic))\n",
    "        except:\n",
    "            continue"
   ]
  },
  {
   "cell_type": "markdown",
   "metadata": {},
   "source": [
    "The above output suggests that the SARIMAX(1, 1, 0)x(1, 1, 1, 12)12 produces the lowest AIC:2282.9489510852254"
   ]
  },
  {
   "cell_type": "code",
   "execution_count": null,
   "metadata": {},
   "outputs": [],
   "source": [
    "#Now, let's go create a SARIMAX model with seasonality (Arima version with parameters for seasonality)\n",
    "from statsmodels.tsa.statespace.sarimax import SARIMAX\n",
    "from pandas import DataFrame\n",
    "\n",
    "\n",
    "model_sarimax_previsao = SARIMAX(previsao_w, order=(1,1,0), seasonal_order=(1,1,1,12), enforce_invertibility=False)\n",
    "resultado_sarimax_previsao = model_sarimax_previsao.fit()\n",
    "# summary of fit model\n",
    "print(resultado_sarimax_previsao.summary())\n",
    "resultado_sarimax_previsao.summary()\n",
    "\n",
    "# line plot of residuals\n",
    "residuals_previsao = DataFrame(resultado_sarimax_previsao.resid)\n",
    "residuals_previsao.plot()\n",
    "plt.show()\n",
    "# density plot of residuals\n",
    "residuals_previsao.plot(kind='kde')\n",
    "plt.show()\n",
    "# summary stats of residuals\n",
    "print(residuals_previsao.describe())"
   ]
  },
  {
   "cell_type": "code",
   "execution_count": null,
   "metadata": {},
   "outputs": [],
   "source": [
    "# VALIDATING THE FORECAST - weekly\n",
    "\n",
    "pred_w = results.get_prediction(start=pd.to_datetime('2018-01-01'), dynamic=False)\n",
    "pred_ci = pred_w.conf_int()\n",
    "ax = previsao_w['2016':].plot(label='Actual')\n",
    "pred_w.predicted_mean.plot(ax=ax, label='Forecast', alpha=.7, figsize=(14, 7))\n",
    "ax.fill_between(pred_ci.index,\n",
    "                pred_ci.iloc[:, 0],\n",
    "                pred_ci.iloc[:, 1], color='k', alpha=.2)\n",
    "ax.set_xlabel('Data', fontsize=18)\n",
    "ax.set_ylabel('Sale', fontsize=18)\n",
    "plt.title('Forecast vs Actuals', fontsize=20)\n",
    "plt.legend(loc='upper left', fontsize=18)\n",
    "plt.show()"
   ]
  },
  {
   "cell_type": "code",
   "execution_count": null,
   "metadata": {},
   "outputs": [],
   "source": [
    "previsao_forecasted = pred_w.predicted_mean\n",
    "previsao_w_truth = previsao_w['2018-01-01':]\n",
    "mse = ((previsao_forecasted - previsao_w_truth) ** 2).mean()\n",
    "print('The Mean Squared Error of our forecasts is {}'.format(round(mse, 2)))"
   ]
  },
  {
   "cell_type": "code",
   "execution_count": null,
   "metadata": {},
   "outputs": [],
   "source": [
    "print('The Root Mean Squared Error of our forecasts is {}'.format(round(np.sqrt(mse), 2)))"
   ]
  },
  {
   "cell_type": "markdown",
   "metadata": {},
   "source": [
    "# 🔮 FINAL FORECAST - BY WEEK"
   ]
  },
  {
   "cell_type": "code",
   "execution_count": null,
   "metadata": {},
   "outputs": [],
   "source": [
    "# # Let’s forecast for the next 40 weeks.\n",
    "\n",
    "pred_uc = results.get_forecast(steps=40)\n",
    "pred_ci2 = pred_uc.conf_int()\n",
    "ax = previsao_w.plot(label='Actual', figsize=(20, 10))\n",
    "pred_uc.predicted_mean.plot(ax=ax, label='Forecast')\n",
    "ax.fill_between(pred_ci2.index,\n",
    "                pred_ci2.iloc[:, 0],\n",
    "                pred_ci2.iloc[:, 1], color='k', alpha=.25)\n",
    "ax.set_xlabel('Data', fontsize=18)\n",
    "ax.set_ylabel('Sale', fontsize=18)\n",
    "plt.legend(loc='upper left', fontsize=18)\n",
    "plt.show()"
   ]
  },
  {
   "cell_type": "markdown",
   "metadata": {},
   "source": [
    "# **Customer's State Distribution**"
   ]
  },
  {
   "cell_type": "code",
   "execution_count": 12,
   "metadata": {},
   "outputs": [
    {
     "data": {
      "image/png": "[encoded data removed]",
      "text/plain": [
       "<Figure size 2520x1008 with 1 Axes>"
      ]
     },
     "metadata": {
      "needs_background": "light"
     },
     "output_type": "display_data"
    }
   ],
   "source": [
    "plt.figure(figsize=(35,14))\n",
    "\n",
    "plt.subplot(221)\n",
    "sns.set(font_scale=1.5) \n",
    "g2 = sns.boxplot(x='customer_state', y='price', \n",
    "                 data=df_train[df_train['price'] != -1])\n",
    "g2.set_title(\"Customer's State by Price\", fontsize=20)\n",
    "g2.set_xlabel(\"State\", fontsize=20)\n",
    "g2.set_ylabel(\"Price\", fontsize=20)\n",
    "g2.set_xticklabels(g2.get_xticklabels(),rotation=45)\n",
    "\n",
    "plt.show()"
   ]
  },
  {
   "cell_type": "code",
   "execution_count": 13,
   "metadata": {},
   "outputs": [
    {
     "data": {
      "image/png": "[encoded data removed]",
      "text/plain": [
       "<Figure size 2160x1008 with 1 Axes>"
      ]
     },
     "metadata": {},
     "output_type": "display_data"
    }
   ],
   "source": [
    "plt.figure(figsize=(30,14))\n",
    "df_train['price_log'] = np.log(df_train['price'])\n",
    "\n",
    "plt.subplot(221)\n",
    "sns.set(font_scale=1.5) \n",
    "g2 = sns.boxplot(x='customer_state', y='price_log', \n",
    "                 data=df_train[df_train['price'] != -1])\n",
    "g2.set_title(\"Customer's State by Price Log\", fontsize=20)\n",
    "g2.set_xlabel(\"State\", fontsize=20)\n",
    "g2.set_ylabel(\"Price Log\", fontsize=20)\n",
    "g2.set_xticklabels(g2.get_xticklabels(),rotation=45)\n",
    "\n",
    "plt.show()"
   ]
  },
  {
   "cell_type": "code",
   "execution_count": 14,
   "metadata": {},
   "outputs": [
    {
     "data": {
      "image/png": "[encoded data removed]",
      "text/plain": [
       "<Figure size 1152x864 with 1 Axes>"
      ]
     },
     "metadata": {},
     "output_type": "display_data"
    }
   ],
   "source": [
    "plt.figure(figsize=(16,12))\n",
    "\n",
    "ax = sns.countplot(x='customer_state', data=df_train, orient='h', order=df_train['customer_state'].value_counts().index)\n",
    "ax.set_title(\"CUSTOMERS DISTRIBUTION BY STATE\", fontsize=20)\n",
    "ax.set_xlabel(\"State\", fontsize=20)\n",
    "ax.set_ylabel(\"Amount (%)\", fontsize=20)\n",
    "ax.set_xticklabels(ax.get_xticklabels(),rotation=90)\n",
    "sizes = []\n",
    "total=len(df_train)\n",
    "\n",
    "for p in ax.patches:\n",
    "    percentage = f'{100 * p.get_height() / total:.1f}%\\n'\n",
    "    x = p.get_x() + p.get_width() / 2\n",
    "    y = p.get_height()\n",
    "    ax.annotate(percentage, (x, y), ha='center', va='center', fontsize=14, rotation=45)\n",
    "    \n",
    "\n",
    "plt.show()"
   ]
  },
  {
   "cell_type": "markdown",
   "metadata": {},
   "source": [
    "# **Visualization E-commerce Purchase Order Overtime**"
   ]
  },
  {
   "cell_type": "markdown",
   "metadata": {},
   "source": [
    "# **Purchase Order Distribution**"
   ]
  },
  {
   "cell_type": "code",
   "execution_count": 15,
   "metadata": {},
   "outputs": [
    {
     "data": {
      "image/png": "[encoded data removed]",
      "text/plain": [
       "<Figure size 1152x864 with 2 Axes>"
      ]
     },
     "metadata": {},
     "output_type": "display_data"
    },
    {
     "data": {
      "image/png": "[encoded data removed]",
      "text/plain": [
       "<Figure size 1152x864 with 2 Axes>"
      ]
     },
     "metadata": {},
     "output_type": "display_data"
    }
   ],
   "source": [
    "# Getting the histogram and normal probability plot\n",
    "plt.figure(figsize=(16,12))\n",
    "plt.suptitle('Purchase Order Year-Week Distribution', fontsize=24)\n",
    "plt.subplot(221)\n",
    "g = sns.histplot(df_orders['order_purchase_year_week'].value_counts(), kde=True)\n",
    "g.set_title(\"Order Distributions\", fontsize=18)\n",
    "g.set_xlabel(\"Purchase order year-week\", fontsize=15)\n",
    "g.set_ylabel(\"Probability\", fontsize=15)\n",
    "\n",
    "plt.subplot(222)\n",
    "g1 = sns.histplot(np.log(df_orders['order_purchase_year_week'].value_counts()), kde=True)\n",
    "g1.set_title(\"Order(LOG) Distributions\", fontsize=18)\n",
    "g1.set_xlabel(\"Purchase Order year-week\", fontsize=15)\n",
    "g1.set_ylabel(\"Probability\", fontsize=15)\n",
    "\n",
    "plt.show()\n",
    "\n",
    "plt.figure(figsize=(16,12))\n",
    "\n",
    "plt.subplot(221)\n",
    "res = stats.probplot(df_orders['order_purchase_year_week'].value_counts(), plot=plt, fit=True, rvalue=True);\n",
    "\n",
    "\n",
    "plt.subplot(222)\n",
    "res = stats.probplot(np.log(df_orders['order_purchase_year_week'].value_counts()), plot=plt, fit=True, rvalue=True);\n",
    "\n",
    "plt.show()"
   ]
  },
  {
   "cell_type": "markdown",
   "metadata": {},
   "source": [
    "**Purchase Order Distribution:**\n",
    "Histogram of a sample from a  normal distribution – it looks fairly symmetric and bimodal.\n",
    "\n",
    "**Price Log Distribution:**\n",
    "Histogram of a sample from a right-skewed distribution – it looks unimodal and skewed right.\n",
    "\n",
    "**Probability Plot - Price Distribution:**\n",
    "Normal probability plot of a sample from a normal distribution – it looks fairly straight, at least when the few large and small values are ignored.\n",
    "\n",
    "**Probability Plot - Price Log Distribution:**\n",
    "Probability plot of a sample from a Right-skewed distribution – it looks fairly straight, at least when the few large and small values are ignored."
   ]
  },
  {
   "cell_type": "markdown",
   "metadata": {},
   "source": [
    "**Checking the minimum and maximum points of each dataframe date**"
   ]
  },
  {
   "cell_type": "code",
   "execution_count": 16,
   "metadata": {},
   "outputs": [],
   "source": [
    "#number of orders per month of the year\n",
    "df_orders_year_month=df_orders['order_purchase_year_month'].value_counts().sort_index()\n",
    "#number of orders per year-week\n",
    "df_orders_year_week=df_orders['order_purchase_year_week'].value_counts().sort_index()"
   ]
  },
  {
   "cell_type": "code",
   "execution_count": 17,
   "metadata": {},
   "outputs": [
    {
     "data": {
      "text/plain": [
       "(Timestamp('2016-09-04 21:15:00'), Timestamp('2018-10-17 17:30:00'))"
      ]
     },
     "execution_count": 17,
     "metadata": {},
     "output_type": "execute_result"
    }
   ],
   "source": [
    "df_orders['order_purchase_timestamp'].min(), df_orders['order_purchase_timestamp'].max()"
   ]
  },
  {
   "cell_type": "markdown",
   "metadata": {},
   "source": [
    "# Evolution of E-Commerce Overtime - Total Orders per month"
   ]
  },
  {
   "cell_type": "code",
   "execution_count": 18,
   "metadata": {},
   "outputs": [
    {
     "data": {
      "text/plain": [
       "2016-09       4\n",
       "2016-10     324\n",
       "2016-12       1\n",
       "2017-01     800\n",
       "2017-02    1780\n",
       "2017-03    2682\n",
       "2017-04    2404\n",
       "2017-05    3700\n",
       "2017-06    3245\n",
       "2017-07    4026\n",
       "2017-08    4331\n",
       "2017-09    4285\n",
       "2017-10    4631\n",
       "2017-11    7544\n",
       "2017-12    5673\n",
       "2018-01    7269\n",
       "2018-02    6728\n",
       "2018-03    7211\n",
       "2018-04    6939\n",
       "2018-05    6873\n",
       "2018-06    6167\n",
       "2018-07    6292\n",
       "2018-08    6512\n",
       "2018-09      16\n",
       "2018-10       4\n",
       "Name: order_purchase_year_month, dtype: int64"
      ]
     },
     "execution_count": 18,
     "metadata": {},
     "output_type": "execute_result"
    }
   ],
   "source": [
    "df_orders_year_month"
   ]
  },
  {
   "cell_type": "code",
   "execution_count": 34,
   "metadata": {},
   "outputs": [
    {
     "name": "stdout",
     "output_type": "stream",
     "text": [
      "<class 'pandas.core.frame.DataFrame'>\n",
      "RangeIndex: 25 entries, 0 to 24\n",
      "Data columns (total 2 columns):\n",
      " #   Column  Non-Null Count  Dtype \n",
      "---  ------  --------------  ----- \n",
      " 0   ds      25 non-null     object\n",
      " 1   y       25 non-null     int64 \n",
      "dtypes: int64(1), object(1)\n",
      "memory usage: 528.0+ bytes\n"
     ]
    }
   ],
   "source": [
    "# prepare expected column names - year-month\n",
    "df_ym=pd.DataFrame({'ds':df_orders_year_month.index, 'y':df_orders_year_month.values})\n",
    "df_ym.info()"
   ]
  },
  {
   "cell_type": "code",
   "execution_count": 35,
   "metadata": {},
   "outputs": [],
   "source": [
    "df_ym['ds'] = pd.to_datetime(df_ym['ds'])"
   ]
  },
  {
   "cell_type": "code",
   "execution_count": 36,
   "metadata": {},
   "outputs": [
    {
     "name": "stdout",
     "output_type": "stream",
     "text": [
      "<class 'pandas.core.frame.DataFrame'>\n",
      "DatetimeIndex: 23 entries, 2016-09-01 to 2018-08-01\n",
      "Data columns (total 1 columns):\n",
      " #   Column  Non-Null Count  Dtype\n",
      "---  ------  --------------  -----\n",
      " 0   y       23 non-null     int64\n",
      "dtypes: int64(1)\n",
      "memory usage: 368.0 bytes\n"
     ]
    }
   ],
   "source": [
    "df_ym = df_ym.replace(1, 800)\n",
    "df_ym=df_ym[:23]\n",
    "df_ym.set_index('ds', inplace = True)\n",
    "df_ym.info()\n"
   ]
  },
  {
   "cell_type": "code",
   "execution_count": 37,
   "metadata": {},
   "outputs": [
    {
     "data": {
      "image/png": "[encoded data removed]",
      "text/plain": [
       "<Figure size 1080x432 with 1 Axes>"
      ]
     },
     "metadata": {},
     "output_type": "display_data"
    }
   ],
   "source": [
    "df_ym.plot(figsize=(15, 6))\n",
    "plt.xlabel(\"Month\", size=18)\n",
    "plt.ylabel(\"Total Order\", size=18)\n",
    "plt.show()"
   ]
  },
  {
   "cell_type": "code",
   "execution_count": 39,
   "metadata": {},
   "outputs": [
    {
     "ename": "ValueError",
     "evalue": "You must specify a period or x must be a pandas object with a DatetimeIndex with a freq not set to None",
     "output_type": "error",
     "traceback": [
      "\u001b[1;31m---------------------------------------------------------------------------\u001b[0m",
      "\u001b[1;31mValueError\u001b[0m                                Traceback (most recent call last)",
      "\u001b[1;32mC:\\Users\\P22~1.VIV\\AppData\\Local\\Temp/ipykernel_3644/1532148900.py\u001b[0m in \u001b[0;36m<module>\u001b[1;34m\u001b[0m\n\u001b[0;32m      1\u001b[0m \u001b[1;32mfrom\u001b[0m \u001b[0mpylab\u001b[0m \u001b[1;32mimport\u001b[0m \u001b[0mrcParams\u001b[0m\u001b[1;33m\u001b[0m\u001b[1;33m\u001b[0m\u001b[0m\n\u001b[0;32m      2\u001b[0m \u001b[0mrcParams\u001b[0m\u001b[1;33m[\u001b[0m\u001b[1;34m'figure.figsize'\u001b[0m\u001b[1;33m]\u001b[0m \u001b[1;33m=\u001b[0m \u001b[1;36m18\u001b[0m\u001b[1;33m,\u001b[0m \u001b[1;36m10\u001b[0m\u001b[1;33m\u001b[0m\u001b[1;33m\u001b[0m\u001b[0m\n\u001b[1;32m----> 3\u001b[1;33m \u001b[0mdecomposition2\u001b[0m \u001b[1;33m=\u001b[0m \u001b[0msm\u001b[0m\u001b[1;33m.\u001b[0m\u001b[0mtsa\u001b[0m\u001b[1;33m.\u001b[0m\u001b[0mseasonal_decompose\u001b[0m\u001b[1;33m(\u001b[0m\u001b[0mdf_ym\u001b[0m\u001b[1;33m,\u001b[0m \u001b[0mmodel\u001b[0m\u001b[1;33m=\u001b[0m\u001b[1;34m'additive'\u001b[0m\u001b[1;33m)\u001b[0m\u001b[1;33m\u001b[0m\u001b[1;33m\u001b[0m\u001b[0m\n\u001b[0m\u001b[0;32m      4\u001b[0m \u001b[0mfig\u001b[0m \u001b[1;33m=\u001b[0m \u001b[0mdecomposition2\u001b[0m\u001b[1;33m.\u001b[0m\u001b[0mplot\u001b[0m\u001b[1;33m(\u001b[0m\u001b[1;33m)\u001b[0m\u001b[1;33m\u001b[0m\u001b[1;33m\u001b[0m\u001b[0m\n\u001b[0;32m      5\u001b[0m \u001b[0mplt\u001b[0m\u001b[1;33m.\u001b[0m\u001b[0mshow\u001b[0m\u001b[1;33m(\u001b[0m\u001b[1;33m)\u001b[0m\u001b[1;33m\u001b[0m\u001b[1;33m\u001b[0m\u001b[0m\n",
      "\u001b[1;32m~\\Anaconda3\\lib\\site-packages\\pandas\\util\\_decorators.py\u001b[0m in \u001b[0;36mwrapper\u001b[1;34m(*args, **kwargs)\u001b[0m\n\u001b[0;32m    205\u001b[0m                 \u001b[1;32melse\u001b[0m\u001b[1;33m:\u001b[0m\u001b[1;33m\u001b[0m\u001b[1;33m\u001b[0m\u001b[0m\n\u001b[0;32m    206\u001b[0m                     \u001b[0mkwargs\u001b[0m\u001b[1;33m[\u001b[0m\u001b[0mnew_arg_name\u001b[0m\u001b[1;33m]\u001b[0m \u001b[1;33m=\u001b[0m \u001b[0mnew_arg_value\u001b[0m\u001b[1;33m\u001b[0m\u001b[1;33m\u001b[0m\u001b[0m\n\u001b[1;32m--> 207\u001b[1;33m             \u001b[1;32mreturn\u001b[0m \u001b[0mfunc\u001b[0m\u001b[1;33m(\u001b[0m\u001b[1;33m*\u001b[0m\u001b[0margs\u001b[0m\u001b[1;33m,\u001b[0m \u001b[1;33m**\u001b[0m\u001b[0mkwargs\u001b[0m\u001b[1;33m)\u001b[0m\u001b[1;33m\u001b[0m\u001b[1;33m\u001b[0m\u001b[0m\n\u001b[0m\u001b[0;32m    208\u001b[0m \u001b[1;33m\u001b[0m\u001b[0m\n\u001b[0;32m    209\u001b[0m         \u001b[1;32mreturn\u001b[0m \u001b[0mcast\u001b[0m\u001b[1;33m(\u001b[0m\u001b[0mF\u001b[0m\u001b[1;33m,\u001b[0m \u001b[0mwrapper\u001b[0m\u001b[1;33m)\u001b[0m\u001b[1;33m\u001b[0m\u001b[1;33m\u001b[0m\u001b[0m\n",
      "\u001b[1;32m~\\Anaconda3\\lib\\site-packages\\statsmodels\\tsa\\seasonal.py\u001b[0m in \u001b[0;36mseasonal_decompose\u001b[1;34m(x, model, filt, period, two_sided, extrapolate_trend)\u001b[0m\n\u001b[0;32m    141\u001b[0m             \u001b[0mperiod\u001b[0m \u001b[1;33m=\u001b[0m \u001b[0mpfreq\u001b[0m\u001b[1;33m\u001b[0m\u001b[1;33m\u001b[0m\u001b[0m\n\u001b[0;32m    142\u001b[0m         \u001b[1;32melse\u001b[0m\u001b[1;33m:\u001b[0m\u001b[1;33m\u001b[0m\u001b[1;33m\u001b[0m\u001b[0m\n\u001b[1;32m--> 143\u001b[1;33m             raise ValueError(\"You must specify a period or x must be a \"\n\u001b[0m\u001b[0;32m    144\u001b[0m                              \u001b[1;34m\"pandas object with a DatetimeIndex with \"\u001b[0m\u001b[1;33m\u001b[0m\u001b[1;33m\u001b[0m\u001b[0m\n\u001b[0;32m    145\u001b[0m                              \"a freq not set to None\")\n",
      "\u001b[1;31mValueError\u001b[0m: You must specify a period or x must be a pandas object with a DatetimeIndex with a freq not set to None"
     ]
    }
   ],
   "source": [
    "from pylab import rcParams\n",
    "rcParams['figure.figsize'] = 18, 10\n",
    "decomposition2 = sm.tsa.seasonal_decompose(df_ym, model='additive')\n",
    "fig = decomposition2.plot()\n",
    "plt.show()"
   ]
  },
  {
   "cell_type": "code",
   "execution_count": 33,
   "metadata": {},
   "outputs": [
    {
     "ename": "NameError",
     "evalue": "name 'pdq' is not defined",
     "output_type": "error",
     "traceback": [
      "\u001b[1;31m---------------------------------------------------------------------------\u001b[0m",
      "\u001b[1;31mNameError\u001b[0m                                 Traceback (most recent call last)",
      "\u001b[1;32mC:\\Users\\P22~1.VIV\\AppData\\Local\\Temp/ipykernel_3644/2230171945.py\u001b[0m in \u001b[0;36m<module>\u001b[1;34m\u001b[0m\n\u001b[0;32m      1\u001b[0m \u001b[0mwarnings\u001b[0m\u001b[1;33m.\u001b[0m\u001b[0mfilterwarnings\u001b[0m\u001b[1;33m(\u001b[0m\u001b[1;34m\"ignore\"\u001b[0m\u001b[1;33m)\u001b[0m \u001b[1;31m# specify to ignore warning messages\u001b[0m\u001b[1;33m\u001b[0m\u001b[1;33m\u001b[0m\u001b[0m\n\u001b[0;32m      2\u001b[0m \u001b[1;33m\u001b[0m\u001b[0m\n\u001b[1;32m----> 3\u001b[1;33m \u001b[1;32mfor\u001b[0m \u001b[0mparam\u001b[0m \u001b[1;32min\u001b[0m \u001b[0mpdq\u001b[0m\u001b[1;33m:\u001b[0m\u001b[1;33m\u001b[0m\u001b[1;33m\u001b[0m\u001b[0m\n\u001b[0m\u001b[0;32m      4\u001b[0m     \u001b[1;32mfor\u001b[0m \u001b[0mparam_seasonal\u001b[0m \u001b[1;32min\u001b[0m \u001b[0mseasonal_pdq\u001b[0m\u001b[1;33m:\u001b[0m\u001b[1;33m\u001b[0m\u001b[1;33m\u001b[0m\u001b[0m\n\u001b[0;32m      5\u001b[0m         \u001b[1;32mtry\u001b[0m\u001b[1;33m:\u001b[0m\u001b[1;33m\u001b[0m\u001b[1;33m\u001b[0m\u001b[0m\n",
      "\u001b[1;31mNameError\u001b[0m: name 'pdq' is not defined"
     ]
    }
   ],
   "source": [
    "warnings.filterwarnings(\"ignore\") # specify to ignore warning messages\n",
    "\n",
    "for param in pdq:\n",
    "    for param_seasonal in seasonal_pdq:\n",
    "        try:\n",
    "            mod = sm.tsa.statespace.SARIMAX(df_ym,\n",
    "                                            order=param,\n",
    "                                            seasonal_order=param_seasonal,\n",
    "                                            #enforce_stationarity=False,\n",
    "                                            enforce_invertibility=False)\n",
    "\n",
    "            results = mod.fit()\n",
    "\n",
    "            print('SARIMAX{}x{}12 - AIC:{}'.format(param, param_seasonal, results.aic))\n",
    "        except:\n",
    "            continue"
   ]
  },
  {
   "cell_type": "markdown",
   "metadata": {},
   "source": [
    "The above output suggests that the SARIMAX (1, 1, 0)x(0, 1, 0, 12)12 produces the lowest AIC value - AIC:205.1699"
   ]
  },
  {
   "cell_type": "code",
   "execution_count": null,
   "metadata": {},
   "outputs": [],
   "source": [
    "#Now, let's go create a SARIMAX model with seasonality (Arima version with parameters for seasonality)\n",
    "from statsmodels.tsa.statespace.sarimax import SARIMAX\n",
    "from pandas import DataFrame\n",
    "\n",
    "\n",
    "model_sarimax_previsao = SARIMAX(df_ym, order=(1,1,0), seasonal_order=(0,1,0,12), enforce_invertibility=False)\n",
    "resultado_sarimax_previsao = model_sarimax_previsao.fit()\n",
    "# summary of fit model\n",
    "print(resultado_sarimax_previsao.summary())\n",
    "resultado_sarimax_previsao.summary()\n",
    "\n",
    "# line plot of residuals\n",
    "residuals_previsao = DataFrame(resultado_sarimax_previsao.resid)\n",
    "residuals_previsao.plot()\n",
    "plt.show()\n",
    "# density plot of residuals\n",
    "residuals_previsao.plot(kind='kde')\n",
    "plt.show()\n",
    "# summary stats of residuals\n",
    "print(residuals_previsao.describe())"
   ]
  },
  {
   "cell_type": "code",
   "execution_count": null,
   "metadata": {},
   "outputs": [],
   "source": [
    "# VALIDATING THE FORECAST\n",
    "\n",
    "pred_previsao = results.get_prediction(start=pd.to_datetime('2018-01-01'), dynamic=False)\n",
    "pred_ci = pred_previsao.conf_int()\n",
    "ax = df_ym['2016':].plot(label='Actual')\n",
    "pred_previsao.predicted_mean.plot(ax=ax, label='Forecast', alpha=.7, figsize=(14, 7))\n",
    "ax.fill_between(pred_ci.index,\n",
    "                pred_ci.iloc[:, 0],\n",
    "                pred_ci.iloc[:, 1], color='k', alpha=.2)\n",
    "ax.set_xlabel('Data')\n",
    "ax.set_ylabel('Order')\n",
    "plt.title('Forecast vs Actuals', fontsize=20)\n",
    "plt.legend(loc='upper left', fontsize=14)\n",
    "plt.show()"
   ]
  },
  {
   "cell_type": "code",
   "execution_count": null,
   "metadata": {},
   "outputs": [],
   "source": [
    "previsao_forecasted = pred_previsao.predicted_mean\n",
    "df_ym_truth = df_ym['2018-01-01':]\n",
    "mse = ((previsao_forecasted - df_ym_truth) ** 2).mean()\n",
    "print('The Mean Squared Error of our forecasts is {}'.format(round(mse, 2)))"
   ]
  },
  {
   "cell_type": "code",
   "execution_count": null,
   "metadata": {},
   "outputs": [],
   "source": [
    "print('The Root Mean Squared Error of our forecasts is {}'.format(round(np.sqrt(mse), 2)))"
   ]
  },
  {
   "cell_type": "markdown",
   "metadata": {},
   "source": [
    "#  🔮 FINAL FORECAST - BY MONTH"
   ]
  },
  {
   "cell_type": "code",
   "execution_count": null,
   "metadata": {},
   "outputs": [],
   "source": [
    "# Let’s forecast for the next 5 months.\n",
    "\n",
    "pred_uc = results.get_forecast(steps=5)\n",
    "pred_ci2 = pred_uc.conf_int()\n",
    "ax = df_ym.plot(label='Actual', figsize=(20, 10))\n",
    "pred_uc.predicted_mean.plot(ax=ax, label='Forecast')\n",
    "ax.fill_between(pred_ci2.index,\n",
    "                pred_ci2.iloc[:, 0],\n",
    "                pred_ci2.iloc[:, 1], color='k', alpha=.25)\n",
    "ax.set_xlabel('Data', fontsize=18)\n",
    "ax.set_ylabel('Order', fontsize=18)\n",
    "plt.legend(loc='upper left', fontsize=18)\n",
    "plt.show()"
   ]
  },
  {
   "cell_type": "code",
   "execution_count": null,
   "metadata": {},
   "outputs": [],
   "source": [
    "df_orders.set_index('order_purchase_timestamp', inplace=True)\n",
    "prev = df_orders['order_purchase_timestamp'].resample('W-MON').mean()\n",
    "prev"
   ]
  },
  {
   "cell_type": "markdown",
   "metadata": {},
   "source": [
    "# Evolution of E-Commerce Overtime - Total Orders per week¶"
   ]
  },
  {
   "cell_type": "code",
   "execution_count": null,
   "metadata": {},
   "outputs": [],
   "source": [
    "df_orders_year_week"
   ]
  },
  {
   "cell_type": "code",
   "execution_count": null,
   "metadata": {},
   "outputs": [],
   "source": [
    "# prepare expected column names - year-month\n",
    "df_yw=pd.DataFrame({'ds2':df_orders_year_week.index, 'y2':df_orders_year_week.values})\n",
    "df_yw.set_index('ds2', inplace = True)\n",
    "df_yw"
   ]
  },
  {
   "cell_type": "code",
   "execution_count": null,
   "metadata": {},
   "outputs": [],
   "source": [
    "df_yw.plot(figsize=(15, 6))\n",
    "plt.xlabel(\"Week\", size=18)\n",
    "plt.ylabel(\"Total Order\", size=18)\n",
    "plt.show()"
   ]
  },
  {
   "cell_type": "code",
   "execution_count": null,
   "metadata": {},
   "outputs": [],
   "source": [
    "from pylab import rcParams\n",
    "rcParams['figure.figsize'] = 18, 10\n",
    "decomposition = sm.tsa.seasonal_decompose(df_yw, model='additive')\n",
    "fig = decomposition.plot()\n",
    "plt.show()"
   ]
  },
  {
   "cell_type": "code",
   "execution_count": null,
   "metadata": {},
   "outputs": [],
   "source": [
    "warnings.filterwarnings(\"ignore\") # specify to ignore warning messages\n",
    "\n",
    "for param in pdq:\n",
    "    for param_seasonal in seasonal_pdq:\n",
    "        try:\n",
    "            modweek = sm.tsa.statespace.SARIMAX(previsao_w,\n",
    "                                            order=param,\n",
    "                                            seasonal_order=param_seasonal,\n",
    "                                            #enforce_stationarity=False,\n",
    "                                            enforce_invertibility=False)\n",
    "\n",
    "            results = modweek.fit()\n",
    "\n",
    "            print('SARIMAX{}x{}12 - AIC:{}'.format(param, param_seasonal, results.aic))\n",
    "        except:\n",
    "            continue"
   ]
  },
  {
   "cell_type": "code",
   "execution_count": null,
   "metadata": {},
   "outputs": [],
   "source": [
    "#Now, let's go create a SARIMAX model with seasonality (Arima version with parameters for seasonality)\n",
    "from statsmodels.tsa.statespace.sarimax import SARIMAX\n",
    "from pandas import DataFrame\n",
    "\n",
    "\n",
    "model_sarimax_previsao = SARIMAX(df_yw, order=(1,1,1), seasonal_order=(0,1,1,12), enforce_invertibility=False)\n",
    "resultado_sarimax_previsao = model_sarimax_previsao.fit()\n",
    "# summary of fit model\n",
    "print(resultado_sarimax_previsao.summary())\n",
    "resultado_sarimax_previsao.summary()\n",
    "\n",
    "# line plot of residuals\n",
    "residuals_previsao = DataFrame(resultado_sarimax_previsao.resid)\n",
    "residuals_previsao.plot()\n",
    "plt.show()\n",
    "# density plot of residuals\n",
    "residuals_previsao.plot(kind='kde')\n",
    "plt.show()\n",
    "# summary stats of residuals\n",
    "print(residuals_previsao.describe())"
   ]
  },
  {
   "cell_type": "code",
   "execution_count": null,
   "metadata": {},
   "outputs": [],
   "source": [
    "# VALIDATING THE FORECAST - weekly\n",
    "\n",
    "pred_w = results.get_prediction(start=pd.to_datetime('2018-01-01'), dynamic=False)\n",
    "pred_ci = pred_w.conf_int()\n",
    "ax = df_yw['2016':].plot(label='Actual')\n",
    "pred_w.predicted_mean.plot(ax=ax, label='Forecast', alpha=.7, figsize=(14, 7))\n",
    "ax.fill_between(pred_ci.index,\n",
    "                pred_ci.iloc[:, 0],\n",
    "                pred_ci.iloc[:, 1], color='k', alpha=.2)\n",
    "ax.set_xlabel('Data', fontsize=18)\n",
    "ax.set_ylabel('Sale', fontsize=18)\n",
    "plt.title('Forecast vs Actuals', fontsize=20)\n",
    "plt.legend(loc='upper left', fontsize=18)\n",
    "plt.show()"
   ]
  },
  {
   "cell_type": "code",
   "execution_count": null,
   "metadata": {},
   "outputs": [],
   "source": [
    "previsao_forecasted = pred_w.predicted_mean\n",
    "previsao_w_truth = previsao_w['2018-01-01':]\n",
    "mse = ((previsao_forecasted - previsao_w_truth) ** 2).mean()\n",
    "print('The Mean Squared Error of our forecasts is {}'.format(round(mse, 2)))"
   ]
  },
  {
   "cell_type": "code",
   "execution_count": null,
   "metadata": {},
   "outputs": [],
   "source": [
    "print('The Root Mean Squared Error of our forecasts is {}'.format(round(np.sqrt(mse), 2)))"
   ]
  },
  {
   "cell_type": "markdown",
   "metadata": {},
   "source": [
    "# 🔮 FINAL ORDERS FORECAST - BY WEEK"
   ]
  },
  {
   "cell_type": "code",
   "execution_count": null,
   "metadata": {},
   "outputs": [],
   "source": [
    "# # Let’s forecast for the next 20 weeks.\n",
    "\n",
    "pred_uc = results.get_forecast(steps=20)\n",
    "pred_ci2 = pred_uc.conf_int()\n",
    "ax = previsao_w.plot(label='Actual', figsize=(20, 10))\n",
    "pred_uc.predicted_mean.plot(ax=ax, label='Forecast')\n",
    "ax.fill_between(pred_ci2.index,\n",
    "                pred_ci2.iloc[:, 0],\n",
    "                pred_ci2.iloc[:, 1], color='k', alpha=.25)\n",
    "ax.set_xlabel('Data', fontsize=18)\n",
    "ax.set_ylabel('Sale', fontsize=18)\n",
    "plt.legend(loc='upper left', fontsize=18)\n",
    "plt.show()"
   ]
  },
  {
   "cell_type": "markdown",
   "metadata": {},
   "source": [
    "**References:**\n",
    "\n",
    "https://www.machinelearningplus.com/time-series/arima-model-time-series-forecasting-python\n",
    "\n",
    "https://www.kaggle.com/thiagopanini/e-commerce-sentiment-analysis-eda-viz-nlp\n",
    "\n",
    "https://www.linkedin.com/pulse/previs%25C3%25A3o-de-vendas-com-an%25C3%25A1lise-s%25C3%25A9ries-temporais-everton-s-paula/?trackingId=fRvgTUaEQCmaZhLGDBdG7A%3D%3D\n",
    "\n",
    "https://github.com/ledmaster/notebooks_tutoriais/blob/master/live12_timeseries_prophet/nb1.ipynb\n",
    "\n",
    "https://facebook.github.io/prophet/docs/quick_start.html#python-api\n",
    "\n",
    "https://github.com/Pedro-Prestes/learning/blob/master/Aula_010_S%C3%A9ries_Temporais_com_Prophet.ipynb"
   ]
  },
  {
   "cell_type": "code",
   "execution_count": null,
   "metadata": {},
   "outputs": [],
   "source": []
  },
  {
   "cell_type": "code",
   "execution_count": null,
   "metadata": {},
   "outputs": [],
   "source": []
  }
 ],
 "metadata": {
  "interpreter": {
   "hash": "6c4b2e2b177025e3781112894bf8739cf5d0336ec369f5ec6c6310b21f5f1c4f"
  },
  "kernelspec": {
   "display_name": "Python 3 (ipykernel)",
   "language": "python",
   "name": "python3"
  },
  "language_info": {
   "codemirror_mode": {
    "name": "ipython",
    "version": 3
   },
   "file_extension": ".py",
   "mimetype": "text/x-python",
   "name": "python",
   "nbconvert_exporter": "python",
   "pygments_lexer": "ipython3",
   "version": "3.9.7"
  }
 },
 "nbformat": 4,
 "nbformat_minor": 2
}
