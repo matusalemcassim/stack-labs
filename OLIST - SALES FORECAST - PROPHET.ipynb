{
  "nbformat": 4,
  "nbformat_minor": 0,
  "metadata": {
    "colab": {
      "name": "Olist - Sales Forecast with Prophet.ipynb",
      "provenance": [],
      "collapsed_sections": []
    },
    "kernelspec": {
      "name": "python3",
      "display_name": "Python 3"
    },
    "language_info": {
      "name": "python"
    },
    "widgets": {
      "application/vnd.jupyter.widget-state+json": {
        "78a7318347d940089a2fbe0eeb5495d2": {
          "model_module": "@jupyter-widgets/controls",
          "model_name": "HBoxModel",
          "model_module_version": "1.5.0",
          "state": {
            "_view_name": "HBoxView",
            "_dom_classes": [],
            "_model_name": "HBoxModel",
            "_view_module": "@jupyter-widgets/controls",
            "_model_module_version": "1.5.0",
            "_view_count": null,
            "_view_module_version": "1.5.0",
            "box_style": "",
            "layout": "IPY_MODEL_09b74814a22f4a59bccdd6676b5fac13",
            "_model_module": "@jupyter-widgets/controls",
            "children": [
              "IPY_MODEL_2ccf718930fa43d9bf334f78c4349f95",
              "IPY_MODEL_66279c84e8ca46d5870bb51455c508d4",
              "IPY_MODEL_0d77bae103aa4b169bbbdb5a20fbd500"
            ]
          }
        },
        "09b74814a22f4a59bccdd6676b5fac13": {
          "model_module": "@jupyter-widgets/base",
          "model_name": "LayoutModel",
          "model_module_version": "1.2.0",
          "state": {
            "_view_name": "LayoutView",
            "grid_template_rows": null,
            "right": null,
            "justify_content": null,
            "_view_module": "@jupyter-widgets/base",
            "overflow": null,
            "_model_module_version": "1.2.0",
            "_view_count": null,
            "flex_flow": null,
            "width": null,
            "min_width": null,
            "border": null,
            "align_items": null,
            "bottom": null,
            "_model_module": "@jupyter-widgets/base",
            "top": null,
            "grid_column": null,
            "overflow_y": null,
            "overflow_x": null,
            "grid_auto_flow": null,
            "grid_area": null,
            "grid_template_columns": null,
            "flex": null,
            "_model_name": "LayoutModel",
            "justify_items": null,
            "grid_row": null,
            "max_height": null,
            "align_content": null,
            "visibility": null,
            "align_self": null,
            "height": null,
            "min_height": null,
            "padding": null,
            "grid_auto_rows": null,
            "grid_gap": null,
            "max_width": null,
            "order": null,
            "_view_module_version": "1.2.0",
            "grid_template_areas": null,
            "object_position": null,
            "object_fit": null,
            "grid_auto_columns": null,
            "margin": null,
            "display": null,
            "left": null
          }
        },
        "2ccf718930fa43d9bf334f78c4349f95": {
          "model_module": "@jupyter-widgets/controls",
          "model_name": "HTMLModel",
          "model_module_version": "1.5.0",
          "state": {
            "_view_name": "HTMLView",
            "style": "IPY_MODEL_9eb85b3faba142ee93658642f7b29f5d",
            "_dom_classes": [],
            "description": "",
            "_model_name": "HTMLModel",
            "placeholder": "​",
            "_view_module": "@jupyter-widgets/controls",
            "_model_module_version": "1.5.0",
            "value": "100%",
            "_view_count": null,
            "_view_module_version": "1.5.0",
            "description_tooltip": null,
            "_model_module": "@jupyter-widgets/controls",
            "layout": "IPY_MODEL_94ffed7124ec4c0385c9a2cb2f5a3fae"
          }
        },
        "66279c84e8ca46d5870bb51455c508d4": {
          "model_module": "@jupyter-widgets/controls",
          "model_name": "FloatProgressModel",
          "model_module_version": "1.5.0",
          "state": {
            "_view_name": "ProgressView",
            "style": "IPY_MODEL_b344f0c55f4a4af7938392f7eaae555f",
            "_dom_classes": [],
            "description": "",
            "_model_name": "FloatProgressModel",
            "bar_style": "success",
            "max": 1,
            "_view_module": "@jupyter-widgets/controls",
            "_model_module_version": "1.5.0",
            "value": 1,
            "_view_count": null,
            "_view_module_version": "1.5.0",
            "orientation": "horizontal",
            "min": 0,
            "description_tooltip": null,
            "_model_module": "@jupyter-widgets/controls",
            "layout": "IPY_MODEL_b47403fce57843329544a3f54129e8b6"
          }
        },
        "0d77bae103aa4b169bbbdb5a20fbd500": {
          "model_module": "@jupyter-widgets/controls",
          "model_name": "HTMLModel",
          "model_module_version": "1.5.0",
          "state": {
            "_view_name": "HTMLView",
            "style": "IPY_MODEL_f90c6206335a421aa0692c7a264f2849",
            "_dom_classes": [],
            "description": "",
            "_model_name": "HTMLModel",
            "placeholder": "​",
            "_view_module": "@jupyter-widgets/controls",
            "_model_module_version": "1.5.0",
            "value": " 1/1 [00:01&lt;00:00,  1.98s/it]",
            "_view_count": null,
            "_view_module_version": "1.5.0",
            "description_tooltip": null,
            "_model_module": "@jupyter-widgets/controls",
            "layout": "IPY_MODEL_f4133785fcfe46859f50e73ffeef9863"
          }
        },
        "9eb85b3faba142ee93658642f7b29f5d": {
          "model_module": "@jupyter-widgets/controls",
          "model_name": "DescriptionStyleModel",
          "model_module_version": "1.5.0",
          "state": {
            "_view_name": "StyleView",
            "_model_name": "DescriptionStyleModel",
            "description_width": "",
            "_view_module": "@jupyter-widgets/base",
            "_model_module_version": "1.5.0",
            "_view_count": null,
            "_view_module_version": "1.2.0",
            "_model_module": "@jupyter-widgets/controls"
          }
        },
        "94ffed7124ec4c0385c9a2cb2f5a3fae": {
          "model_module": "@jupyter-widgets/base",
          "model_name": "LayoutModel",
          "model_module_version": "1.2.0",
          "state": {
            "_view_name": "LayoutView",
            "grid_template_rows": null,
            "right": null,
            "justify_content": null,
            "_view_module": "@jupyter-widgets/base",
            "overflow": null,
            "_model_module_version": "1.2.0",
            "_view_count": null,
            "flex_flow": null,
            "width": null,
            "min_width": null,
            "border": null,
            "align_items": null,
            "bottom": null,
            "_model_module": "@jupyter-widgets/base",
            "top": null,
            "grid_column": null,
            "overflow_y": null,
            "overflow_x": null,
            "grid_auto_flow": null,
            "grid_area": null,
            "grid_template_columns": null,
            "flex": null,
            "_model_name": "LayoutModel",
            "justify_items": null,
            "grid_row": null,
            "max_height": null,
            "align_content": null,
            "visibility": null,
            "align_self": null,
            "height": null,
            "min_height": null,
            "padding": null,
            "grid_auto_rows": null,
            "grid_gap": null,
            "max_width": null,
            "order": null,
            "_view_module_version": "1.2.0",
            "grid_template_areas": null,
            "object_position": null,
            "object_fit": null,
            "grid_auto_columns": null,
            "margin": null,
            "display": null,
            "left": null
          }
        },
        "b344f0c55f4a4af7938392f7eaae555f": {
          "model_module": "@jupyter-widgets/controls",
          "model_name": "ProgressStyleModel",
          "model_module_version": "1.5.0",
          "state": {
            "_view_name": "StyleView",
            "_model_name": "ProgressStyleModel",
            "description_width": "",
            "_view_module": "@jupyter-widgets/base",
            "_model_module_version": "1.5.0",
            "_view_count": null,
            "_view_module_version": "1.2.0",
            "bar_color": null,
            "_model_module": "@jupyter-widgets/controls"
          }
        },
        "b47403fce57843329544a3f54129e8b6": {
          "model_module": "@jupyter-widgets/base",
          "model_name": "LayoutModel",
          "model_module_version": "1.2.0",
          "state": {
            "_view_name": "LayoutView",
            "grid_template_rows": null,
            "right": null,
            "justify_content": null,
            "_view_module": "@jupyter-widgets/base",
            "overflow": null,
            "_model_module_version": "1.2.0",
            "_view_count": null,
            "flex_flow": null,
            "width": null,
            "min_width": null,
            "border": null,
            "align_items": null,
            "bottom": null,
            "_model_module": "@jupyter-widgets/base",
            "top": null,
            "grid_column": null,
            "overflow_y": null,
            "overflow_x": null,
            "grid_auto_flow": null,
            "grid_area": null,
            "grid_template_columns": null,
            "flex": null,
            "_model_name": "LayoutModel",
            "justify_items": null,
            "grid_row": null,
            "max_height": null,
            "align_content": null,
            "visibility": null,
            "align_self": null,
            "height": null,
            "min_height": null,
            "padding": null,
            "grid_auto_rows": null,
            "grid_gap": null,
            "max_width": null,
            "order": null,
            "_view_module_version": "1.2.0",
            "grid_template_areas": null,
            "object_position": null,
            "object_fit": null,
            "grid_auto_columns": null,
            "margin": null,
            "display": null,
            "left": null
          }
        },
        "f90c6206335a421aa0692c7a264f2849": {
          "model_module": "@jupyter-widgets/controls",
          "model_name": "DescriptionStyleModel",
          "model_module_version": "1.5.0",
          "state": {
            "_view_name": "StyleView",
            "_model_name": "DescriptionStyleModel",
            "description_width": "",
            "_view_module": "@jupyter-widgets/base",
            "_model_module_version": "1.5.0",
            "_view_count": null,
            "_view_module_version": "1.2.0",
            "_model_module": "@jupyter-widgets/controls"
          }
        },
        "f4133785fcfe46859f50e73ffeef9863": {
          "model_module": "@jupyter-widgets/base",
          "model_name": "LayoutModel",
          "model_module_version": "1.2.0",
          "state": {
            "_view_name": "LayoutView",
            "grid_template_rows": null,
            "right": null,
            "justify_content": null,
            "_view_module": "@jupyter-widgets/base",
            "overflow": null,
            "_model_module_version": "1.2.0",
            "_view_count": null,
            "flex_flow": null,
            "width": null,
            "min_width": null,
            "border": null,
            "align_items": null,
            "bottom": null,
            "_model_module": "@jupyter-widgets/base",
            "top": null,
            "grid_column": null,
            "overflow_y": null,
            "overflow_x": null,
            "grid_auto_flow": null,
            "grid_area": null,
            "grid_template_columns": null,
            "flex": null,
            "_model_name": "LayoutModel",
            "justify_items": null,
            "grid_row": null,
            "max_height": null,
            "align_content": null,
            "visibility": null,
            "align_self": null,
            "height": null,
            "min_height": null,
            "padding": null,
            "grid_auto_rows": null,
            "grid_gap": null,
            "max_width": null,
            "order": null,
            "_view_module_version": "1.2.0",
            "grid_template_areas": null,
            "object_position": null,
            "object_fit": null,
            "grid_auto_columns": null,
            "margin": null,
            "display": null,
            "left": null
          }
        },
        "c1b5076fe50f49d68c7f4ca91a1fd8c2": {
          "model_module": "@jupyter-widgets/controls",
          "model_name": "HBoxModel",
          "model_module_version": "1.5.0",
          "state": {
            "_view_name": "HBoxView",
            "_dom_classes": [],
            "_model_name": "HBoxModel",
            "_view_module": "@jupyter-widgets/controls",
            "_model_module_version": "1.5.0",
            "_view_count": null,
            "_view_module_version": "1.5.0",
            "box_style": "",
            "layout": "IPY_MODEL_a5fd068989b0443787412d388c04ad59",
            "_model_module": "@jupyter-widgets/controls",
            "children": [
              "IPY_MODEL_b402007168514c78994576c01c9db5fe",
              "IPY_MODEL_c4f986b018e64f7bbfc2532539bc6253",
              "IPY_MODEL_e25f060627a74fc386af343d37dcbd3c"
            ]
          }
        },
        "a5fd068989b0443787412d388c04ad59": {
          "model_module": "@jupyter-widgets/base",
          "model_name": "LayoutModel",
          "model_module_version": "1.2.0",
          "state": {
            "_view_name": "LayoutView",
            "grid_template_rows": null,
            "right": null,
            "justify_content": null,
            "_view_module": "@jupyter-widgets/base",
            "overflow": null,
            "_model_module_version": "1.2.0",
            "_view_count": null,
            "flex_flow": null,
            "width": null,
            "min_width": null,
            "border": null,
            "align_items": null,
            "bottom": null,
            "_model_module": "@jupyter-widgets/base",
            "top": null,
            "grid_column": null,
            "overflow_y": null,
            "overflow_x": null,
            "grid_auto_flow": null,
            "grid_area": null,
            "grid_template_columns": null,
            "flex": null,
            "_model_name": "LayoutModel",
            "justify_items": null,
            "grid_row": null,
            "max_height": null,
            "align_content": null,
            "visibility": null,
            "align_self": null,
            "height": null,
            "min_height": null,
            "padding": null,
            "grid_auto_rows": null,
            "grid_gap": null,
            "max_width": null,
            "order": null,
            "_view_module_version": "1.2.0",
            "grid_template_areas": null,
            "object_position": null,
            "object_fit": null,
            "grid_auto_columns": null,
            "margin": null,
            "display": null,
            "left": null
          }
        },
        "b402007168514c78994576c01c9db5fe": {
          "model_module": "@jupyter-widgets/controls",
          "model_name": "HTMLModel",
          "model_module_version": "1.5.0",
          "state": {
            "_view_name": "HTMLView",
            "style": "IPY_MODEL_fe7aa29f52d9450a9ebcbdbb3bd2b857",
            "_dom_classes": [],
            "description": "",
            "_model_name": "HTMLModel",
            "placeholder": "​",
            "_view_module": "@jupyter-widgets/controls",
            "_model_module_version": "1.5.0",
            "value": "100%",
            "_view_count": null,
            "_view_module_version": "1.5.0",
            "description_tooltip": null,
            "_model_module": "@jupyter-widgets/controls",
            "layout": "IPY_MODEL_fa248e5a05494d0fbdd7633abd7c78b3"
          }
        },
        "c4f986b018e64f7bbfc2532539bc6253": {
          "model_module": "@jupyter-widgets/controls",
          "model_name": "FloatProgressModel",
          "model_module_version": "1.5.0",
          "state": {
            "_view_name": "ProgressView",
            "style": "IPY_MODEL_b0886215cfb841c49c49eba71d543dd5",
            "_dom_classes": [],
            "description": "",
            "_model_name": "FloatProgressModel",
            "bar_style": "success",
            "max": 1,
            "_view_module": "@jupyter-widgets/controls",
            "_model_module_version": "1.5.0",
            "value": 1,
            "_view_count": null,
            "_view_module_version": "1.5.0",
            "orientation": "horizontal",
            "min": 0,
            "description_tooltip": null,
            "_model_module": "@jupyter-widgets/controls",
            "layout": "IPY_MODEL_cba1a67cbf914855852906677f0c628c"
          }
        },
        "e25f060627a74fc386af343d37dcbd3c": {
          "model_module": "@jupyter-widgets/controls",
          "model_name": "HTMLModel",
          "model_module_version": "1.5.0",
          "state": {
            "_view_name": "HTMLView",
            "style": "IPY_MODEL_6999e3e127fe478ca2f5944184de21a1",
            "_dom_classes": [],
            "description": "",
            "_model_name": "HTMLModel",
            "placeholder": "​",
            "_view_module": "@jupyter-widgets/controls",
            "_model_module_version": "1.5.0",
            "value": " 1/1 [00:02&lt;00:00,  2.65s/it]",
            "_view_count": null,
            "_view_module_version": "1.5.0",
            "description_tooltip": null,
            "_model_module": "@jupyter-widgets/controls",
            "layout": "IPY_MODEL_6457a4fabbe54e409067d1d310f589ca"
          }
        },
        "fe7aa29f52d9450a9ebcbdbb3bd2b857": {
          "model_module": "@jupyter-widgets/controls",
          "model_name": "DescriptionStyleModel",
          "model_module_version": "1.5.0",
          "state": {
            "_view_name": "StyleView",
            "_model_name": "DescriptionStyleModel",
            "description_width": "",
            "_view_module": "@jupyter-widgets/base",
            "_model_module_version": "1.5.0",
            "_view_count": null,
            "_view_module_version": "1.2.0",
            "_model_module": "@jupyter-widgets/controls"
          }
        },
        "fa248e5a05494d0fbdd7633abd7c78b3": {
          "model_module": "@jupyter-widgets/base",
          "model_name": "LayoutModel",
          "model_module_version": "1.2.0",
          "state": {
            "_view_name": "LayoutView",
            "grid_template_rows": null,
            "right": null,
            "justify_content": null,
            "_view_module": "@jupyter-widgets/base",
            "overflow": null,
            "_model_module_version": "1.2.0",
            "_view_count": null,
            "flex_flow": null,
            "width": null,
            "min_width": null,
            "border": null,
            "align_items": null,
            "bottom": null,
            "_model_module": "@jupyter-widgets/base",
            "top": null,
            "grid_column": null,
            "overflow_y": null,
            "overflow_x": null,
            "grid_auto_flow": null,
            "grid_area": null,
            "grid_template_columns": null,
            "flex": null,
            "_model_name": "LayoutModel",
            "justify_items": null,
            "grid_row": null,
            "max_height": null,
            "align_content": null,
            "visibility": null,
            "align_self": null,
            "height": null,
            "min_height": null,
            "padding": null,
            "grid_auto_rows": null,
            "grid_gap": null,
            "max_width": null,
            "order": null,
            "_view_module_version": "1.2.0",
            "grid_template_areas": null,
            "object_position": null,
            "object_fit": null,
            "grid_auto_columns": null,
            "margin": null,
            "display": null,
            "left": null
          }
        },
        "b0886215cfb841c49c49eba71d543dd5": {
          "model_module": "@jupyter-widgets/controls",
          "model_name": "ProgressStyleModel",
          "model_module_version": "1.5.0",
          "state": {
            "_view_name": "StyleView",
            "_model_name": "ProgressStyleModel",
            "description_width": "",
            "_view_module": "@jupyter-widgets/base",
            "_model_module_version": "1.5.0",
            "_view_count": null,
            "_view_module_version": "1.2.0",
            "bar_color": null,
            "_model_module": "@jupyter-widgets/controls"
          }
        },
        "cba1a67cbf914855852906677f0c628c": {
          "model_module": "@jupyter-widgets/base",
          "model_name": "LayoutModel",
          "model_module_version": "1.2.0",
          "state": {
            "_view_name": "LayoutView",
            "grid_template_rows": null,
            "right": null,
            "justify_content": null,
            "_view_module": "@jupyter-widgets/base",
            "overflow": null,
            "_model_module_version": "1.2.0",
            "_view_count": null,
            "flex_flow": null,
            "width": null,
            "min_width": null,
            "border": null,
            "align_items": null,
            "bottom": null,
            "_model_module": "@jupyter-widgets/base",
            "top": null,
            "grid_column": null,
            "overflow_y": null,
            "overflow_x": null,
            "grid_auto_flow": null,
            "grid_area": null,
            "grid_template_columns": null,
            "flex": null,
            "_model_name": "LayoutModel",
            "justify_items": null,
            "grid_row": null,
            "max_height": null,
            "align_content": null,
            "visibility": null,
            "align_self": null,
            "height": null,
            "min_height": null,
            "padding": null,
            "grid_auto_rows": null,
            "grid_gap": null,
            "max_width": null,
            "order": null,
            "_view_module_version": "1.2.0",
            "grid_template_areas": null,
            "object_position": null,
            "object_fit": null,
            "grid_auto_columns": null,
            "margin": null,
            "display": null,
            "left": null
          }
        },
        "6999e3e127fe478ca2f5944184de21a1": {
          "model_module": "@jupyter-widgets/controls",
          "model_name": "DescriptionStyleModel",
          "model_module_version": "1.5.0",
          "state": {
            "_view_name": "StyleView",
            "_model_name": "DescriptionStyleModel",
            "description_width": "",
            "_view_module": "@jupyter-widgets/base",
            "_model_module_version": "1.5.0",
            "_view_count": null,
            "_view_module_version": "1.2.0",
            "_model_module": "@jupyter-widgets/controls"
          }
        },
        "6457a4fabbe54e409067d1d310f589ca": {
          "model_module": "@jupyter-widgets/base",
          "model_name": "LayoutModel",
          "model_module_version": "1.2.0",
          "state": {
            "_view_name": "LayoutView",
            "grid_template_rows": null,
            "right": null,
            "justify_content": null,
            "_view_module": "@jupyter-widgets/base",
            "overflow": null,
            "_model_module_version": "1.2.0",
            "_view_count": null,
            "flex_flow": null,
            "width": null,
            "min_width": null,
            "border": null,
            "align_items": null,
            "bottom": null,
            "_model_module": "@jupyter-widgets/base",
            "top": null,
            "grid_column": null,
            "overflow_y": null,
            "overflow_x": null,
            "grid_auto_flow": null,
            "grid_area": null,
            "grid_template_columns": null,
            "flex": null,
            "_model_name": "LayoutModel",
            "justify_items": null,
            "grid_row": null,
            "max_height": null,
            "align_content": null,
            "visibility": null,
            "align_self": null,
            "height": null,
            "min_height": null,
            "padding": null,
            "grid_auto_rows": null,
            "grid_gap": null,
            "max_width": null,
            "order": null,
            "_view_module_version": "1.2.0",
            "grid_template_areas": null,
            "object_position": null,
            "object_fit": null,
            "grid_auto_columns": null,
            "margin": null,
            "display": null,
            "left": null
          }
        }
      }
    }
  },
  "cells": [
    {
      "cell_type": "markdown",
      "source": [
        "# **FaceBook Prophet for Time Series**"
      ],
      "metadata": {
        "id": "OXfiVb1grdyZ"
      }
    },
    {
      "cell_type": "markdown",
      "source": [
        "**SUMMARY:**\n",
        "\n",
        "- Import Libraries\n",
        "- Load Dataset from Amazon AWS\n",
        "- Exploratory Data Analysis (EDA)\n",
        "- Forecast Sales With Prophet\n",
        "- Fit Prophet Model\n",
        "- Make an In-Sample Forecast\n",
        "- Make an Out-of-Sample Forecast\n",
        "- Manually Evaluate Forecast Model\n",
        "- Prophet Forecasting Library"
      ],
      "metadata": {
        "id": "LGo0atJN_5xe"
      }
    },
    {
      "cell_type": "markdown",
      "source": [
        "**IMPORT THE LIBRARIES**"
      ],
      "metadata": {
        "id": "lvk7Xjo-ew4L"
      }
    },
    {
      "cell_type": "code",
      "execution_count": 407,
      "metadata": {
        "id": "PyOPJ3aZpu9I"
      },
      "outputs": [],
      "source": [
        "import numpy as np\n",
        "import pandas as pd\n",
        "from datetime import datetime\n",
        "\n",
        "import seaborn as sns\n",
        "import matplotlib.pyplot as plt\n",
        "from matplotlib.pyplot import figure\n",
        "%matplotlib inline\n",
        "pd.set_option('display.max_columns', 100)\n",
        "\n",
        "from math import sqrt\n",
        "from sklearn.metrics import mean_squared_error\n",
        "\n",
        "#import prophet and validation libraries\n",
        "from fbprophet import Prophet\n",
        "from fbprophet.diagnostics import cross_validation, performance_metrics\n",
        "from fbprophet.plot import plot_cross_validation_metric\n",
        "\n",
        "# elimina os warnings das bibliotecas\n",
        "import warnings\n",
        "warnings.filterwarnings('ignore')"
      ]
    },
    {
      "cell_type": "markdown",
      "source": [
        "💾 **LOAD DATASET FROM AMAZON AWS**"
      ],
      "metadata": {
        "id": "UCs4mHuhrHLM"
      }
    },
    {
      "cell_type": "code",
      "source": [
        "orders = \"https://stack-labs-landing.s3.amazonaws.com/datasets/olist_orders_dataset.csv\"\n",
        "customer = \"https://stack-labs-landing.s3.amazonaws.com/datasets/olist_customers_dataset.csv\"\n",
        "item = \"https://stack-labs-landing.s3.amazonaws.com/datasets/olist_order_items_dataset.csv\"\n",
        "products = \"https://stack-labs-landing.s3.amazonaws.com/datasets/olist_products_dataset.csv\"\n",
        "sellers = \"https://stack-labs-landing.s3.amazonaws.com/datasets/olist_sellers_dataset.csv\"\n",
        "order_pay = \"https://stack-labs-landing.s3.amazonaws.com/datasets/olist_order_payments_dataset.csv\"\n",
        "category =\"https://stack-labs-landing.s3.amazonaws.com/datasets/product_category_name_translation.csv\""
      ],
      "metadata": {
        "id": "xwzqcS-4qZ5s"
      },
      "execution_count": 408,
      "outputs": []
    },
    {
      "cell_type": "markdown",
      "source": [
        "💾 **CHECK OUT THE DATA**"
      ],
      "metadata": {
        "id": "i7HMTq3HfKZ0"
      }
    },
    {
      "cell_type": "code",
      "source": [
        "df_orders = pd.read_csv(orders)\n",
        "df_customers = pd.read_csv(customer)\n",
        "df_item = pd.read_csv(item)\n",
        "df_products = pd.read_csv(products)\n",
        "df_sellers = pd.read_csv(sellers)\n",
        "df_order_pay = pd.read_csv(order_pay)\n",
        "df_category = pd.read_csv(category)"
      ],
      "metadata": {
        "id": "2WVoQw5mqaLd"
      },
      "execution_count": 409,
      "outputs": []
    },
    {
      "cell_type": "markdown",
      "source": [
        "**MERGE DATAFRAMES**"
      ],
      "metadata": {
        "id": "feEG6nSLeg9u"
      }
    },
    {
      "cell_type": "code",
      "source": [
        "df_orders = df_orders.merge(df_customers, on='customer_id', how='outer')\n",
        "\n",
        "print(df_orders.shape)"
      ],
      "metadata": {
        "id": "qkF5nypsZTD2",
        "colab": {
          "base_uri": "https://localhost:8080/"
        },
        "outputId": "3d4a5dd4-fbbc-4d89-c8c5-1fb638eada0c"
      },
      "execution_count": 410,
      "outputs": [
        {
          "output_type": "stream",
          "name": "stdout",
          "text": [
            "(99441, 12)\n"
          ]
        }
      ]
    },
    {
      "cell_type": "code",
      "source": [
        "# merge all the datasets in one dataset - all in one\n",
        "df_train = df_orders.merge(df_item, on='order_id', how='left')\n",
        "df_train = df_train.merge(df_order_pay, on='order_id', how='outer', validate='m:m')\n",
        "df_train = df_train.merge(df_products, on='product_id', how='outer')\n",
        "df_train = df_train.merge(df_sellers, on='seller_id', how='outer')\n",
        "\n",
        "print(df_train.shape)"
      ],
      "metadata": {
        "colab": {
          "base_uri": "https://localhost:8080/"
        },
        "id": "DGbZ2wK7Y-5c",
        "outputId": "21368fda-576b-42a1-b49c-4dc593417cfb"
      },
      "execution_count": 411,
      "outputs": [
        {
          "output_type": "stream",
          "name": "stdout",
          "text": [
            "(118434, 33)\n"
          ]
        }
      ]
    },
    {
      "cell_type": "code",
      "source": [
        "#Counting number of empty rows in the df_train\n",
        "df_train.isnull().sum().sort_values(ascending = False)"
      ],
      "metadata": {
        "colab": {
          "base_uri": "https://localhost:8080/"
        },
        "id": "HM-DEZx7ZhUe",
        "outputId": "45f8cef9-a255-4bf1-a213-f2f8f0c105ee"
      },
      "execution_count": 412,
      "outputs": [
        {
          "output_type": "execute_result",
          "data": {
            "text/plain": [
              "order_delivered_customer_date    3397\n",
              "product_photos_qty               2528\n",
              "product_description_lenght       2528\n",
              "product_name_lenght              2528\n",
              "product_category_name            2528\n",
              "order_delivered_carrier_date     2074\n",
              "product_width_cm                  850\n",
              "product_height_cm                 850\n",
              "product_length_cm                 850\n",
              "product_weight_g                  850\n",
              "seller_state                      830\n",
              "seller_city                       830\n",
              "order_item_id                     830\n",
              "product_id                        830\n",
              "seller_id                         830\n",
              "shipping_limit_date               830\n",
              "price                             830\n",
              "freight_value                     830\n",
              "seller_zip_code_prefix            830\n",
              "order_approved_at                 176\n",
              "payment_sequential                  3\n",
              "payment_type                        3\n",
              "payment_installments                3\n",
              "payment_value                       3\n",
              "customer_state                      0\n",
              "customer_city                       0\n",
              "customer_zip_code_prefix            0\n",
              "customer_unique_id                  0\n",
              "order_estimated_delivery_date       0\n",
              "order_purchase_timestamp            0\n",
              "order_status                        0\n",
              "customer_id                         0\n",
              "order_id                            0\n",
              "dtype: int64"
            ]
          },
          "metadata": {},
          "execution_count": 412
        }
      ]
    },
    {
      "cell_type": "markdown",
      "source": [
        "# **Is that a growing trend on e-commerce in Brazil? How can we describe a complete scenario?**"
      ],
      "metadata": {
        "id": "KSJmzFgyZtpd"
      }
    },
    {
      "cell_type": "markdown",
      "source": [
        "# **EXPLORATORY DATA ANALYSIS**"
      ],
      "metadata": {
        "id": "xpytzfbPZ04S"
      }
    },
    {
      "cell_type": "markdown",
      "source": [
        "**Evolution of E-Commerce Overtime - Total Sales per day**"
      ],
      "metadata": {
        "id": "eyRE9opGaLZ-"
      }
    },
    {
      "cell_type": "code",
      "source": [
        "df_sale = df_train.groupby('order_purchase_timestamp')['price'].sum().reset_index()\n",
        "df_sale['order_purchase_timestamp'] = pd.to_datetime(df_sale['order_purchase_timestamp'])\n",
        "df_sale = df_sale.sort_values('order_purchase_timestamp')\n",
        "df_sale.info()"
      ],
      "metadata": {
        "colab": {
          "base_uri": "https://localhost:8080/"
        },
        "id": "g8c7kaQdag99",
        "outputId": "9bc46da4-51e8-4bea-9c07-22725496af7c"
      },
      "execution_count": 413,
      "outputs": [
        {
          "output_type": "stream",
          "name": "stdout",
          "text": [
            "<class 'pandas.core.frame.DataFrame'>\n",
            "Int64Index: 88789 entries, 88086 to 8468\n",
            "Data columns (total 2 columns):\n",
            " #   Column                    Non-Null Count  Dtype         \n",
            "---  ------                    --------------  -----         \n",
            " 0   order_purchase_timestamp  88789 non-null  datetime64[ns]\n",
            " 1   price                     88789 non-null  float64       \n",
            "dtypes: datetime64[ns](1), float64(1)\n",
            "memory usage: 2.0 MB\n"
          ]
        }
      ]
    },
    {
      "cell_type": "code",
      "source": [
        "df_sale.isnull().sum()"
      ],
      "metadata": {
        "colab": {
          "base_uri": "https://localhost:8080/"
        },
        "id": "1c_PlQ8Uajxd",
        "outputId": "4cda50a8-96bd-495b-911a-9d9c8e1fd764"
      },
      "execution_count": 414,
      "outputs": [
        {
          "output_type": "execute_result",
          "data": {
            "text/plain": [
              "order_purchase_timestamp    0\n",
              "price                       0\n",
              "dtype: int64"
            ]
          },
          "metadata": {},
          "execution_count": 414
        }
      ]
    },
    {
      "cell_type": "code",
      "source": [
        "df_previsao = df_sale.set_index('order_purchase_timestamp')\n",
        "    \n",
        "df_previsao.info()"
      ],
      "metadata": {
        "colab": {
          "base_uri": "https://localhost:8080/"
        },
        "id": "xmG55ChdatJx",
        "outputId": "02771ffa-befd-402f-d6bd-b2377804851e"
      },
      "execution_count": 415,
      "outputs": [
        {
          "output_type": "stream",
          "name": "stdout",
          "text": [
            "<class 'pandas.core.frame.DataFrame'>\n",
            "DatetimeIndex: 88789 entries, 2016-09-04 21:15:00 to 2018-10-17 17:30:00\n",
            "Data columns (total 1 columns):\n",
            " #   Column  Non-Null Count  Dtype  \n",
            "---  ------  --------------  -----  \n",
            " 0   price   88789 non-null  float64\n",
            "dtypes: float64(1)\n",
            "memory usage: 1.4 MB\n"
          ]
        }
      ]
    },
    {
      "cell_type": "code",
      "source": [
        "#Resample time-series data to start month.\n",
        "previsao_month = df_previsao['price'].resample('MS').sum()\n",
        "previsao_month.fillna(df_previsao['price'].mean(), inplace=True)\n",
        "\n",
        "#Resample time-series data to week.\n",
        "previsao_week = df_previsao['price'].resample('W-MON').sum()\n",
        "previsao_week.fillna(df_previsao['price'].mean(), inplace=True)"
      ],
      "metadata": {
        "id": "Cp6wiQrubEyi"
      },
      "execution_count": 416,
      "outputs": []
    },
    {
      "cell_type": "code",
      "source": [
        "previsao_month.index.sort_values()"
      ],
      "metadata": {
        "colab": {
          "base_uri": "https://localhost:8080/"
        },
        "id": "QHH_XBh0gzDY",
        "outputId": "160a91c1-7300-41b6-aaf6-773045643774"
      },
      "execution_count": 417,
      "outputs": [
        {
          "output_type": "execute_result",
          "data": {
            "text/plain": [
              "DatetimeIndex(['2016-09-01', '2016-10-01', '2016-11-01', '2016-12-01',\n",
              "               '2017-01-01', '2017-02-01', '2017-03-01', '2017-04-01',\n",
              "               '2017-05-01', '2017-06-01', '2017-07-01', '2017-08-01',\n",
              "               '2017-09-01', '2017-10-01', '2017-11-01', '2017-12-01',\n",
              "               '2018-01-01', '2018-02-01', '2018-03-01', '2018-04-01',\n",
              "               '2018-05-01', '2018-06-01', '2018-07-01', '2018-08-01',\n",
              "               '2018-09-01', '2018-10-01'],\n",
              "              dtype='datetime64[ns]', name='order_purchase_timestamp', freq='MS')"
            ]
          },
          "metadata": {},
          "execution_count": 417
        }
      ]
    },
    {
      "cell_type": "code",
      "source": [
        "previsao_month.describe()"
      ],
      "metadata": {
        "colab": {
          "base_uri": "https://localhost:8080/"
        },
        "id": "7oxZkR4mN-mW",
        "outputId": "dfebe6ee-7e3e-4de2-8249-9b42d8d98dd9"
      },
      "execution_count": 418,
      "outputs": [
        {
          "output_type": "execute_result",
          "data": {
            "text/plain": [
              "count    2.600000e+01\n",
              "mean     5.465096e+05\n",
              "std      3.889412e+05\n",
              "min      0.000000e+00\n",
              "25%      1.616670e+05\n",
              "50%      5.733752e+05\n",
              "75%      9.030802e+05\n",
              "max      1.046128e+06\n",
              "Name: price, dtype: float64"
            ]
          },
          "metadata": {},
          "execution_count": 418
        }
      ]
    },
    {
      "cell_type": "code",
      "source": [
        "previsao_month[:30]"
      ],
      "metadata": {
        "colab": {
          "base_uri": "https://localhost:8080/"
        },
        "id": "tzlazmn1WTae",
        "outputId": "29c2184f-4752-4910-a6ed-33796f48a7f7"
      },
      "execution_count": 419,
      "outputs": [
        {
          "output_type": "execute_result",
          "data": {
            "text/plain": [
              "order_purchase_timestamp\n",
              "2016-09-01        267.36\n",
              "2016-10-01      50942.23\n",
              "2016-11-01          0.00\n",
              "2016-12-01         10.90\n",
              "2017-01-01     128637.99\n",
              "2017-02-01     260753.86\n",
              "2017-03-01     396451.04\n",
              "2017-04-01     391784.42\n",
              "2017-05-01     545340.65\n",
              "2017-06-01     453031.41\n",
              "2017-07-01     533616.84\n",
              "2017-08-01     601409.67\n",
              "2017-09-01     662276.39\n",
              "2017-10-01     693807.60\n",
              "2017-11-01    1046127.84\n",
              "2017-12-01     770656.15\n",
              "2018-01-01     987151.41\n",
              "2018-02-01     880099.79\n",
              "2018-03-01    1025936.06\n",
              "2018-04-01    1029472.30\n",
              "2018-05-01    1032150.44\n",
              "2018-06-01     909221.10\n",
              "2018-07-01     925302.46\n",
              "2018-08-01     884657.40\n",
              "2018-09-01        145.00\n",
              "2018-10-01          0.00\n",
              "Freq: MS, Name: price, dtype: float64"
            ]
          },
          "metadata": {},
          "execution_count": 419
        }
      ]
    },
    {
      "cell_type": "code",
      "source": [
        "previsao_month = previsao_month.replace({0.00:5.465096e+05, 10.90:50942.23,145.00:5.465096e+05})\n",
        "previsao_month"
      ],
      "metadata": {
        "colab": {
          "base_uri": "https://localhost:8080/"
        },
        "id": "qsaZhVA-9p_T",
        "outputId": "38c8efc3-a570-41f3-c5c6-d8737e0b2b63"
      },
      "execution_count": 420,
      "outputs": [
        {
          "output_type": "execute_result",
          "data": {
            "text/plain": [
              "order_purchase_timestamp\n",
              "2016-09-01        267.36\n",
              "2016-10-01      50942.23\n",
              "2016-11-01     546509.60\n",
              "2016-12-01      50942.23\n",
              "2017-01-01     128637.99\n",
              "2017-02-01     260753.86\n",
              "2017-03-01     396451.04\n",
              "2017-04-01     391784.42\n",
              "2017-05-01     545340.65\n",
              "2017-06-01     453031.41\n",
              "2017-07-01     533616.84\n",
              "2017-08-01     601409.67\n",
              "2017-09-01     662276.39\n",
              "2017-10-01     693807.60\n",
              "2017-11-01    1046127.84\n",
              "2017-12-01     770656.15\n",
              "2018-01-01     987151.41\n",
              "2018-02-01     880099.79\n",
              "2018-03-01    1025936.06\n",
              "2018-04-01    1029472.30\n",
              "2018-05-01    1032150.44\n",
              "2018-06-01     909221.10\n",
              "2018-07-01     925302.46\n",
              "2018-08-01     884657.40\n",
              "2018-09-01     546509.60\n",
              "2018-10-01     546509.60\n",
              "Freq: MS, Name: price, dtype: float64"
            ]
          },
          "metadata": {},
          "execution_count": 420
        }
      ]
    },
    {
      "cell_type": "markdown",
      "source": [
        "Prophet imposes the strict condition that the input columns be named ds (the time column) and y (the metric column), so let’s rename the columns in our DataFrame:"
      ],
      "metadata": {
        "id": "4S-IEhNLlBkI"
      }
    },
    {
      "cell_type": "code",
      "source": [
        "# Prophet requires data to be in Pandas DataFrames. Then, I summarize the shape (number of rows and columns) of the data and view the first few rows of data.\n",
        "# prepare expected column names - year-month\n",
        "df_ym=pd.DataFrame({'ds':previsao_month.index, 'y':previsao_month.values})\n",
        "df_ym"
      ],
      "metadata": {
        "colab": {
          "base_uri": "https://localhost:8080/",
          "height": 864
        },
        "id": "U3QrLwEahG_O",
        "outputId": "86c3be63-ab0c-4d21-ec67-ae05abfb30c4"
      },
      "execution_count": 421,
      "outputs": [
        {
          "output_type": "execute_result",
          "data": {
            "text/html": [
              "\n",
              "  <div id=\"df-7b2be3de-6452-4ff3-a274-15759eea43ad\">\n",
              "    <div class=\"colab-df-container\">\n",
              "      <div>\n",
              "<style scoped>\n",
              "    .dataframe tbody tr th:only-of-type {\n",
              "        vertical-align: middle;\n",
              "    }\n",
              "\n",
              "    .dataframe tbody tr th {\n",
              "        vertical-align: top;\n",
              "    }\n",
              "\n",
              "    .dataframe thead th {\n",
              "        text-align: right;\n",
              "    }\n",
              "</style>\n",
              "<table border=\"1\" class=\"dataframe\">\n",
              "  <thead>\n",
              "    <tr style=\"text-align: right;\">\n",
              "      <th></th>\n",
              "      <th>ds</th>\n",
              "      <th>y</th>\n",
              "    </tr>\n",
              "  </thead>\n",
              "  <tbody>\n",
              "    <tr>\n",
              "      <th>0</th>\n",
              "      <td>2016-09-01</td>\n",
              "      <td>267.36</td>\n",
              "    </tr>\n",
              "    <tr>\n",
              "      <th>1</th>\n",
              "      <td>2016-10-01</td>\n",
              "      <td>50942.23</td>\n",
              "    </tr>\n",
              "    <tr>\n",
              "      <th>2</th>\n",
              "      <td>2016-11-01</td>\n",
              "      <td>546509.60</td>\n",
              "    </tr>\n",
              "    <tr>\n",
              "      <th>3</th>\n",
              "      <td>2016-12-01</td>\n",
              "      <td>50942.23</td>\n",
              "    </tr>\n",
              "    <tr>\n",
              "      <th>4</th>\n",
              "      <td>2017-01-01</td>\n",
              "      <td>128637.99</td>\n",
              "    </tr>\n",
              "    <tr>\n",
              "      <th>5</th>\n",
              "      <td>2017-02-01</td>\n",
              "      <td>260753.86</td>\n",
              "    </tr>\n",
              "    <tr>\n",
              "      <th>6</th>\n",
              "      <td>2017-03-01</td>\n",
              "      <td>396451.04</td>\n",
              "    </tr>\n",
              "    <tr>\n",
              "      <th>7</th>\n",
              "      <td>2017-04-01</td>\n",
              "      <td>391784.42</td>\n",
              "    </tr>\n",
              "    <tr>\n",
              "      <th>8</th>\n",
              "      <td>2017-05-01</td>\n",
              "      <td>545340.65</td>\n",
              "    </tr>\n",
              "    <tr>\n",
              "      <th>9</th>\n",
              "      <td>2017-06-01</td>\n",
              "      <td>453031.41</td>\n",
              "    </tr>\n",
              "    <tr>\n",
              "      <th>10</th>\n",
              "      <td>2017-07-01</td>\n",
              "      <td>533616.84</td>\n",
              "    </tr>\n",
              "    <tr>\n",
              "      <th>11</th>\n",
              "      <td>2017-08-01</td>\n",
              "      <td>601409.67</td>\n",
              "    </tr>\n",
              "    <tr>\n",
              "      <th>12</th>\n",
              "      <td>2017-09-01</td>\n",
              "      <td>662276.39</td>\n",
              "    </tr>\n",
              "    <tr>\n",
              "      <th>13</th>\n",
              "      <td>2017-10-01</td>\n",
              "      <td>693807.60</td>\n",
              "    </tr>\n",
              "    <tr>\n",
              "      <th>14</th>\n",
              "      <td>2017-11-01</td>\n",
              "      <td>1046127.84</td>\n",
              "    </tr>\n",
              "    <tr>\n",
              "      <th>15</th>\n",
              "      <td>2017-12-01</td>\n",
              "      <td>770656.15</td>\n",
              "    </tr>\n",
              "    <tr>\n",
              "      <th>16</th>\n",
              "      <td>2018-01-01</td>\n",
              "      <td>987151.41</td>\n",
              "    </tr>\n",
              "    <tr>\n",
              "      <th>17</th>\n",
              "      <td>2018-02-01</td>\n",
              "      <td>880099.79</td>\n",
              "    </tr>\n",
              "    <tr>\n",
              "      <th>18</th>\n",
              "      <td>2018-03-01</td>\n",
              "      <td>1025936.06</td>\n",
              "    </tr>\n",
              "    <tr>\n",
              "      <th>19</th>\n",
              "      <td>2018-04-01</td>\n",
              "      <td>1029472.30</td>\n",
              "    </tr>\n",
              "    <tr>\n",
              "      <th>20</th>\n",
              "      <td>2018-05-01</td>\n",
              "      <td>1032150.44</td>\n",
              "    </tr>\n",
              "    <tr>\n",
              "      <th>21</th>\n",
              "      <td>2018-06-01</td>\n",
              "      <td>909221.10</td>\n",
              "    </tr>\n",
              "    <tr>\n",
              "      <th>22</th>\n",
              "      <td>2018-07-01</td>\n",
              "      <td>925302.46</td>\n",
              "    </tr>\n",
              "    <tr>\n",
              "      <th>23</th>\n",
              "      <td>2018-08-01</td>\n",
              "      <td>884657.40</td>\n",
              "    </tr>\n",
              "    <tr>\n",
              "      <th>24</th>\n",
              "      <td>2018-09-01</td>\n",
              "      <td>546509.60</td>\n",
              "    </tr>\n",
              "    <tr>\n",
              "      <th>25</th>\n",
              "      <td>2018-10-01</td>\n",
              "      <td>546509.60</td>\n",
              "    </tr>\n",
              "  </tbody>\n",
              "</table>\n",
              "</div>\n",
              "      <button class=\"colab-df-convert\" onclick=\"convertToInteractive('df-7b2be3de-6452-4ff3-a274-15759eea43ad')\"\n",
              "              title=\"Convert this dataframe to an interactive table.\"\n",
              "              style=\"display:none;\">\n",
              "        \n",
              "  <svg xmlns=\"http://www.w3.org/2000/svg\" height=\"24px\"viewBox=\"0 0 24 24\"\n",
              "       width=\"24px\">\n",
              "    <path d=\"M0 0h24v24H0V0z\" fill=\"none\"/>\n",
              "    <path d=\"M18.56 5.44l.94 2.06.94-2.06 2.06-.94-2.06-.94-.94-2.06-.94 2.06-2.06.94zm-11 1L8.5 8.5l.94-2.06 2.06-.94-2.06-.94L8.5 2.5l-.94 2.06-2.06.94zm10 10l.94 2.06.94-2.06 2.06-.94-2.06-.94-.94-2.06-.94 2.06-2.06.94z\"/><path d=\"M17.41 7.96l-1.37-1.37c-.4-.4-.92-.59-1.43-.59-.52 0-1.04.2-1.43.59L10.3 9.45l-7.72 7.72c-.78.78-.78 2.05 0 2.83L4 21.41c.39.39.9.59 1.41.59.51 0 1.02-.2 1.41-.59l7.78-7.78 2.81-2.81c.8-.78.8-2.07 0-2.86zM5.41 20L4 18.59l7.72-7.72 1.47 1.35L5.41 20z\"/>\n",
              "  </svg>\n",
              "      </button>\n",
              "      \n",
              "  <style>\n",
              "    .colab-df-container {\n",
              "      display:flex;\n",
              "      flex-wrap:wrap;\n",
              "      gap: 12px;\n",
              "    }\n",
              "\n",
              "    .colab-df-convert {\n",
              "      background-color: #E8F0FE;\n",
              "      border: none;\n",
              "      border-radius: 50%;\n",
              "      cursor: pointer;\n",
              "      display: none;\n",
              "      fill: #1967D2;\n",
              "      height: 32px;\n",
              "      padding: 0 0 0 0;\n",
              "      width: 32px;\n",
              "    }\n",
              "\n",
              "    .colab-df-convert:hover {\n",
              "      background-color: #E2EBFA;\n",
              "      box-shadow: 0px 1px 2px rgba(60, 64, 67, 0.3), 0px 1px 3px 1px rgba(60, 64, 67, 0.15);\n",
              "      fill: #174EA6;\n",
              "    }\n",
              "\n",
              "    [theme=dark] .colab-df-convert {\n",
              "      background-color: #3B4455;\n",
              "      fill: #D2E3FC;\n",
              "    }\n",
              "\n",
              "    [theme=dark] .colab-df-convert:hover {\n",
              "      background-color: #434B5C;\n",
              "      box-shadow: 0px 1px 3px 1px rgba(0, 0, 0, 0.15);\n",
              "      filter: drop-shadow(0px 1px 2px rgba(0, 0, 0, 0.3));\n",
              "      fill: #FFFFFF;\n",
              "    }\n",
              "  </style>\n",
              "\n",
              "      <script>\n",
              "        const buttonEl =\n",
              "          document.querySelector('#df-7b2be3de-6452-4ff3-a274-15759eea43ad button.colab-df-convert');\n",
              "        buttonEl.style.display =\n",
              "          google.colab.kernel.accessAllowed ? 'block' : 'none';\n",
              "\n",
              "        async function convertToInteractive(key) {\n",
              "          const element = document.querySelector('#df-7b2be3de-6452-4ff3-a274-15759eea43ad');\n",
              "          const dataTable =\n",
              "            await google.colab.kernel.invokeFunction('convertToInteractive',\n",
              "                                                     [key], {});\n",
              "          if (!dataTable) return;\n",
              "\n",
              "          const docLinkHtml = 'Like what you see? Visit the ' +\n",
              "            '<a target=\"_blank\" href=https://colab.research.google.com/notebooks/data_table.ipynb>data table notebook</a>'\n",
              "            + ' to learn more about interactive tables.';\n",
              "          element.innerHTML = '';\n",
              "          dataTable['output_type'] = 'display_data';\n",
              "          await google.colab.output.renderOutput(dataTable, element);\n",
              "          const docLink = document.createElement('div');\n",
              "          docLink.innerHTML = docLinkHtml;\n",
              "          element.appendChild(docLink);\n",
              "        }\n",
              "      </script>\n",
              "    </div>\n",
              "  </div>\n",
              "  "
            ],
            "text/plain": [
              "           ds           y\n",
              "0  2016-09-01      267.36\n",
              "1  2016-10-01    50942.23\n",
              "2  2016-11-01   546509.60\n",
              "3  2016-12-01    50942.23\n",
              "4  2017-01-01   128637.99\n",
              "5  2017-02-01   260753.86\n",
              "6  2017-03-01   396451.04\n",
              "7  2017-04-01   391784.42\n",
              "8  2017-05-01   545340.65\n",
              "9  2017-06-01   453031.41\n",
              "10 2017-07-01   533616.84\n",
              "11 2017-08-01   601409.67\n",
              "12 2017-09-01   662276.39\n",
              "13 2017-10-01   693807.60\n",
              "14 2017-11-01  1046127.84\n",
              "15 2017-12-01   770656.15\n",
              "16 2018-01-01   987151.41\n",
              "17 2018-02-01   880099.79\n",
              "18 2018-03-01  1025936.06\n",
              "19 2018-04-01  1029472.30\n",
              "20 2018-05-01  1032150.44\n",
              "21 2018-06-01   909221.10\n",
              "22 2018-07-01   925302.46\n",
              "23 2018-08-01   884657.40\n",
              "24 2018-09-01   546509.60\n",
              "25 2018-10-01   546509.60"
            ]
          },
          "metadata": {},
          "execution_count": 421
        }
      ]
    },
    {
      "cell_type": "markdown",
      "source": [
        "Note that the first column in the output is a row index and is not a part of the dataset, just a helpful tool that Pandas uses to order rows."
      ],
      "metadata": {
        "id": "TGVDQ7MPUVxI"
      }
    },
    {
      "cell_type": "markdown",
      "source": [
        "A time-series dataset does not make sense to us until we plot it.\n",
        "\n",
        "Plotting a time series helps us actually see if there is a trend, a seasonal cycle, outliers, and more. It gives us a feel for the data in the year-month period."
      ],
      "metadata": {
        "id": "iqz1ZyNFKi9G"
      }
    },
    {
      "cell_type": "code",
      "source": [
        "#Plot the original data of sales by year-month\n",
        "plt.rcParams[\"figure.figsize\"] = (15,3)\n",
        "ax=df_ym.plot(x='ds',y='y')\n",
        "ax.set_title(\"Evolution of E-Commerce Overtime - Sales by year-month\", fontsize=18)\n",
        "ax.set_xlabel(\"ds\", fontsize=15)\n",
        "ax.set_ylabel(\"y\", fontsize=15)\n",
        "plt.ticklabel_format(style= 'plain', axis='y');"
      ],
      "metadata": {
        "colab": {
          "base_uri": "https://localhost:8080/",
          "height": 262
        },
        "id": "biAva60gCmAx",
        "outputId": "a236eae9-006b-4e76-b4b9-32186b90d4d2"
      },
      "execution_count": 422,
      "outputs": [
        {
          "output_type": "display_data",
          "data": {
            "image/png": "[encoded data removed]",
            "text/plain": [
              "<Figure size 1080x216 with 1 Axes>"
            ]
          },
          "metadata": {
            "needs_background": "light"
          }
        }
      ]
    },
    {
      "cell_type": "code",
      "source": [
        "df_ym['y'].min(), df_ym['y'].max()\n",
        "# It is possible visualize that the maximum sale was in the month of November, the month that blackfriday occurs in Brazil."
      ],
      "metadata": {
        "colab": {
          "base_uri": "https://localhost:8080/"
        },
        "id": "yHVlquJUaHo2",
        "outputId": "051b08cb-f55b-43cd-9ba5-59e4449371a7"
      },
      "execution_count": 423,
      "outputs": [
        {
          "output_type": "execute_result",
          "data": {
            "text/plain": [
              "(267.36, 1046127.8400000223)"
            ]
          },
          "metadata": {},
          "execution_count": 423
        }
      ]
    },
    {
      "cell_type": "code",
      "source": [
        "previsao_week.head()"
      ],
      "metadata": {
        "colab": {
          "base_uri": "https://localhost:8080/"
        },
        "id": "Fp6L0JmZFDhC",
        "outputId": "6a60d02c-9941-4a94-c7bc-7bfff7d951fd"
      },
      "execution_count": 424,
      "outputs": [
        {
          "output_type": "execute_result",
          "data": {
            "text/plain": [
              "order_purchase_timestamp\n",
              "2016-09-05    132.39\n",
              "2016-09-12      0.00\n",
              "2016-09-19    134.97\n",
              "2016-09-26      0.00\n",
              "2016-10-03    563.48\n",
              "Freq: W-MON, Name: price, dtype: float64"
            ]
          },
          "metadata": {},
          "execution_count": 424
        }
      ]
    },
    {
      "cell_type": "code",
      "source": [
        "previsao_week.describe().round(2)"
      ],
      "metadata": {
        "colab": {
          "base_uri": "https://localhost:8080/"
        },
        "id": "UXpm9jhQGV8X",
        "outputId": "29260118-1e67-4f57-d6a4-851c0a3069d2"
      },
      "execution_count": 425,
      "outputs": [
        {
          "output_type": "execute_result",
          "data": {
            "text/plain": [
              "count       112.00\n",
              "mean     126868.31\n",
              "std       95462.28\n",
              "min           0.00\n",
              "25%       45071.89\n",
              "50%      124465.24\n",
              "75%      210442.47\n",
              "max      424852.90\n",
              "Name: price, dtype: float64"
            ]
          },
          "metadata": {},
          "execution_count": 425
        }
      ]
    },
    {
      "cell_type": "code",
      "source": [
        "previsao_week=previsao_week.iloc[:-7]\n",
        "previsao_week = previsao_week.replace({0.000000: 127443.746875, 10.900000:127443.746875})\n",
        "previsao_week[:20].round(2)"
      ],
      "metadata": {
        "colab": {
          "base_uri": "https://localhost:8080/"
        },
        "id": "Yk-4Ny3FGWGE",
        "outputId": "09f48ea3-2b0b-47cb-ddfa-64fe33685428"
      },
      "execution_count": 426,
      "outputs": [
        {
          "output_type": "execute_result",
          "data": {
            "text/plain": [
              "order_purchase_timestamp\n",
              "2016-09-05       132.39\n",
              "2016-09-12    127443.75\n",
              "2016-09-19       134.97\n",
              "2016-09-26    127443.75\n",
              "2016-10-03       563.48\n",
              "2016-10-10     50378.75\n",
              "2016-10-17    127443.75\n",
              "2016-10-24    127443.75\n",
              "2016-10-31    127443.75\n",
              "2016-11-07    127443.75\n",
              "2016-11-14    127443.75\n",
              "2016-11-21    127443.75\n",
              "2016-11-28    127443.75\n",
              "2016-12-05    127443.75\n",
              "2016-12-12    127443.75\n",
              "2016-12-19    127443.75\n",
              "2016-12-26    127443.75\n",
              "2017-01-02    127443.75\n",
              "2017-01-09      6592.55\n",
              "2017-01-16     15571.37\n",
              "Freq: W-MON, Name: price, dtype: float64"
            ]
          },
          "metadata": {},
          "execution_count": 426
        }
      ]
    },
    {
      "cell_type": "code",
      "source": [
        "# prepare expected column names - year-week\n",
        "df_yw=pd.DataFrame({'ds':previsao_week.index, 'y':previsao_week.values})\n",
        "df_yw.info()"
      ],
      "metadata": {
        "colab": {
          "base_uri": "https://localhost:8080/"
        },
        "id": "aYV8DO9qgtFK",
        "outputId": "115ab916-a261-4064-dd4d-64b5daa498d3"
      },
      "execution_count": 427,
      "outputs": [
        {
          "output_type": "stream",
          "name": "stdout",
          "text": [
            "<class 'pandas.core.frame.DataFrame'>\n",
            "RangeIndex: 105 entries, 0 to 104\n",
            "Data columns (total 2 columns):\n",
            " #   Column  Non-Null Count  Dtype         \n",
            "---  ------  --------------  -----         \n",
            " 0   ds      105 non-null    datetime64[ns]\n",
            " 1   y       105 non-null    float64       \n",
            "dtypes: datetime64[ns](1), float64(1)\n",
            "memory usage: 1.8 KB\n"
          ]
        }
      ]
    },
    {
      "cell_type": "markdown",
      "source": [
        "A time-series dataset does not make sense to us until we plot it.\n",
        "\n",
        "Plotting a time series helps us actually see if there is a trend, a seasonal cycle, outliers, and more. It gives us a feel for the data."
      ],
      "metadata": {
        "id": "ZI2S41hDf48x"
      }
    },
    {
      "cell_type": "code",
      "source": [
        "#Plot the Order by year-week dataset\n",
        "plt.rcParams[\"figure.figsize\"] = (15,3)\n",
        "df_yw['ds']=pd.to_datetime(df_yw.ds)\n",
        "ax=df_yw.plot(x='ds',y='y')\n",
        "ax.set_title(\"Evolution of E-Commerce Overtime - Sales by year-week\", fontsize=18)\n",
        "ax.set_xlabel(\"ds\", fontsize=16)\n",
        "ax.set_ylabel(\"y\", fontsize=16);"
      ],
      "metadata": {
        "colab": {
          "base_uri": "https://localhost:8080/",
          "height": 262
        },
        "id": "I0DugfFIGWON",
        "outputId": "19ee8a6d-71af-4e54-ccfc-2f420a64c30a"
      },
      "execution_count": 428,
      "outputs": [
        {
          "output_type": "display_data",
          "data": {
            "image/png": "[encoded data removed]",
            "text/plain": [
              "<Figure size 1080x216 with 1 Axes>"
            ]
          },
          "metadata": {
            "needs_background": "light"
          }
        }
      ]
    },
    {
      "cell_type": "markdown",
      "source": [
        "**Let's split the data into train and test to start running our model.**"
      ],
      "metadata": {
        "id": "8uLwqDBrHeE5"
      }
    },
    {
      "cell_type": "code",
      "source": [
        "len(df_ym)"
      ],
      "metadata": {
        "colab": {
          "base_uri": "https://localhost:8080/"
        },
        "id": "Y7oWGVEHTokr",
        "outputId": "e34d8a71-c8c0-4b44-86b7-93a4caa27532"
      },
      "execution_count": 429,
      "outputs": [
        {
          "output_type": "execute_result",
          "data": {
            "text/plain": [
              "26"
            ]
          },
          "metadata": {},
          "execution_count": 429
        }
      ]
    },
    {
      "cell_type": "code",
      "source": [
        "#train test split of the year-month (ratio: 70:30)\n",
        "len(df_ym)\n",
        "train=df_ym[:18]\n",
        "test=df_ym[18:]\n",
        "train.shape, test.shape"
      ],
      "metadata": {
        "colab": {
          "base_uri": "https://localhost:8080/"
        },
        "id": "Olmd_bW0Hnbn",
        "outputId": "bcacd379-58a0-48d0-f62b-b4208cd320e0"
      },
      "execution_count": 430,
      "outputs": [
        {
          "output_type": "execute_result",
          "data": {
            "text/plain": [
              "((18, 2), (8, 2))"
            ]
          },
          "metadata": {},
          "execution_count": 430
        }
      ]
    },
    {
      "cell_type": "code",
      "source": [
        "train.index.min(), train.index.max(), test.index.min(), test.index.max()"
      ],
      "metadata": {
        "colab": {
          "base_uri": "https://localhost:8080/"
        },
        "id": "pgggyFV8I2cQ",
        "outputId": "34714060-f6d4-4404-b6f3-400d65998489"
      },
      "execution_count": 431,
      "outputs": [
        {
          "output_type": "execute_result",
          "data": {
            "text/plain": [
              "(0, 17, 18, 25)"
            ]
          },
          "metadata": {},
          "execution_count": 431
        }
      ]
    },
    {
      "cell_type": "code",
      "source": [
        "len(df_yw)"
      ],
      "metadata": {
        "colab": {
          "base_uri": "https://localhost:8080/"
        },
        "id": "Jp4DvPFwVWPW",
        "outputId": "19b435e7-0108-4a8b-8b04-5cbdbda80487"
      },
      "execution_count": 432,
      "outputs": [
        {
          "output_type": "execute_result",
          "data": {
            "text/plain": [
              "105"
            ]
          },
          "metadata": {},
          "execution_count": 432
        }
      ]
    },
    {
      "cell_type": "code",
      "source": [
        "#train test split of the year-month (ratio: 70:30)\n",
        "len(df_yw)\n",
        "trainw=df_yw[:74]\n",
        "testw=df_yw[74:]\n",
        "trainw.shape, testw.shape"
      ],
      "metadata": {
        "colab": {
          "base_uri": "https://localhost:8080/"
        },
        "id": "oK4F5yebHCQL",
        "outputId": "8a195d0c-b293-46f6-b405-9800fd0ed64d"
      },
      "execution_count": 433,
      "outputs": [
        {
          "output_type": "execute_result",
          "data": {
            "text/plain": [
              "((74, 2), (31, 2))"
            ]
          },
          "metadata": {},
          "execution_count": 433
        }
      ]
    },
    {
      "cell_type": "code",
      "source": [
        "# min max ds if y is max and min\n",
        "print(df_yw[['ds', 'y']][df_yw.y == df_yw.y.max()], df_yw[['ds', 'y']][df_yw.y == df_yw.y.min()])"
      ],
      "metadata": {
        "colab": {
          "base_uri": "https://localhost:8080/"
        },
        "id": "l4oThqOtHCTk",
        "outputId": "9a5edd5c-2442-4519-80ad-5faf346c4553"
      },
      "execution_count": 434,
      "outputs": [
        {
          "output_type": "stream",
          "name": "stdout",
          "text": [
            "           ds         y\n",
            "64 2017-11-27  424852.9           ds       y\n",
            "0 2016-09-05  132.39\n"
          ]
        }
      ]
    },
    {
      "cell_type": "markdown",
      "source": [
        "As expected, the week with the order maximum was in the 47th week of 2017, when is the week known as Black Friday in Brazil. The minimum number of orders was in the first week of January 2018, a hangover period for purchases that took place at the end of year."
      ],
      "metadata": {
        "id": "PnJscULmgM8I"
      }
    },
    {
      "cell_type": "markdown",
      "source": [
        "# **Forecast e-commerce sales with Prophet**\n",
        "\n",
        "**Implements a procedure for forecasting time series data based on an additive model where non-linear trends are fit with yearly, weekly, and daily seasonality, plus holiday effects**"
      ],
      "metadata": {
        "id": "-vlGaBb8E7DM"
      }
    },
    {
      "cell_type": "code",
      "source": [
        "# define and fit the model\n",
        "#Tuning Facebook Prophet\n",
        "m = Prophet(weekly_seasonality=True, changepoint_range=0.8,changepoint_prior_scale=0.65)\n",
        "m.fit(train)\n",
        "\n",
        "# define and fit the model\n",
        "#Tuning Facebook Prophet\n",
        "mw = Prophet(weekly_seasonality=True, changepoint_range=0.8,changepoint_prior_scale=0.05)\n",
        "mw.fit(trainw)\n"
      ],
      "metadata": {
        "colab": {
          "base_uri": "https://localhost:8080/"
        },
        "id": "SmSt_gfiHCWs",
        "outputId": "527dcfef-e66e-459c-d35d-ed136b4813b9"
      },
      "execution_count": 435,
      "outputs": [
        {
          "output_type": "stream",
          "name": "stderr",
          "text": [
            "INFO:fbprophet:Disabling yearly seasonality. Run prophet with yearly_seasonality=True to override this.\n",
            "INFO:fbprophet:Disabling daily seasonality. Run prophet with daily_seasonality=True to override this.\n",
            "INFO:fbprophet:n_changepoints greater than number of observations. Using 13.\n",
            "INFO:fbprophet:Disabling yearly seasonality. Run prophet with yearly_seasonality=True to override this.\n",
            "INFO:fbprophet:Disabling daily seasonality. Run prophet with daily_seasonality=True to override this.\n"
          ]
        },
        {
          "output_type": "execute_result",
          "data": {
            "text/plain": [
              "<fbprophet.forecaster.Prophet at 0x7f85bbf1c210>"
            ]
          },
          "metadata": {},
          "execution_count": 435
        }
      ]
    },
    {
      "cell_type": "markdown",
      "source": [
        "**Predictions are then made on a dataframe with a column ds containing the dates for which a prediction is to be made. You can get a suitable dataframe that extends into the future a specified number of days using the helper method Prophet.make_future_dataframe. By default it will also include the dates from the history, so we will see the model fit as well.**"
      ],
      "metadata": {
        "id": "KFMC4z52N329"
      }
    },
    {
      "cell_type": "markdown",
      "source": [
        "ds: the datestamp of the forecasted value\n",
        "\n",
        "yhat: the forecasted value of our metric (in Statistics, yhat is a notation traditionally used to represent the predicted values of a value y)\n",
        "\n",
        "yhat_lower: the lower bound of our forecasts\n",
        "\n",
        "yhat_upper: the upper bound of our forecasts"
      ],
      "metadata": {
        "id": "DVrrSHPjjBN0"
      }
    },
    {
      "cell_type": "code",
      "source": [
        "future=m.make_future_dataframe(periods= 26, freq='m')\n",
        "forecast=m.predict(future)\n",
        "# display the most critical output columns from the forecast\n",
        "forecast[['ds','yhat','yhat_lower','yhat_upper']].head()"
      ],
      "metadata": {
        "colab": {
          "base_uri": "https://localhost:8080/",
          "height": 206
        },
        "id": "HvVGXQ7dgQ_n",
        "outputId": "00166a4c-23c6-4085-f4db-61ba4b3f0719"
      },
      "execution_count": 436,
      "outputs": [
        {
          "output_type": "execute_result",
          "data": {
            "text/html": [
              "\n",
              "  <div id=\"df-c6865fd2-87db-4959-83c3-9cf06ce141df\">\n",
              "    <div class=\"colab-df-container\">\n",
              "      <div>\n",
              "<style scoped>\n",
              "    .dataframe tbody tr th:only-of-type {\n",
              "        vertical-align: middle;\n",
              "    }\n",
              "\n",
              "    .dataframe tbody tr th {\n",
              "        vertical-align: top;\n",
              "    }\n",
              "\n",
              "    .dataframe thead th {\n",
              "        text-align: right;\n",
              "    }\n",
              "</style>\n",
              "<table border=\"1\" class=\"dataframe\">\n",
              "  <thead>\n",
              "    <tr style=\"text-align: right;\">\n",
              "      <th></th>\n",
              "      <th>ds</th>\n",
              "      <th>yhat</th>\n",
              "      <th>yhat_lower</th>\n",
              "      <th>yhat_upper</th>\n",
              "    </tr>\n",
              "  </thead>\n",
              "  <tbody>\n",
              "    <tr>\n",
              "      <th>0</th>\n",
              "      <td>2016-09-01</td>\n",
              "      <td>13067.492914</td>\n",
              "      <td>-101052.143849</td>\n",
              "      <td>115574.191644</td>\n",
              "    </tr>\n",
              "    <tr>\n",
              "      <th>1</th>\n",
              "      <td>2016-10-01</td>\n",
              "      <td>111871.449547</td>\n",
              "      <td>3758.097720</td>\n",
              "      <td>211914.209830</td>\n",
              "    </tr>\n",
              "    <tr>\n",
              "      <th>2</th>\n",
              "      <td>2016-11-01</td>\n",
              "      <td>350410.189784</td>\n",
              "      <td>244216.679070</td>\n",
              "      <td>462038.115702</td>\n",
              "    </tr>\n",
              "    <tr>\n",
              "      <th>3</th>\n",
              "      <td>2016-12-01</td>\n",
              "      <td>94113.185730</td>\n",
              "      <td>-3370.193687</td>\n",
              "      <td>206637.671750</td>\n",
              "    </tr>\n",
              "    <tr>\n",
              "      <th>4</th>\n",
              "      <td>2017-01-01</td>\n",
              "      <td>153292.703308</td>\n",
              "      <td>49222.640390</td>\n",
              "      <td>255348.737452</td>\n",
              "    </tr>\n",
              "  </tbody>\n",
              "</table>\n",
              "</div>\n",
              "      <button class=\"colab-df-convert\" onclick=\"convertToInteractive('df-c6865fd2-87db-4959-83c3-9cf06ce141df')\"\n",
              "              title=\"Convert this dataframe to an interactive table.\"\n",
              "              style=\"display:none;\">\n",
              "        \n",
              "  <svg xmlns=\"http://www.w3.org/2000/svg\" height=\"24px\"viewBox=\"0 0 24 24\"\n",
              "       width=\"24px\">\n",
              "    <path d=\"M0 0h24v24H0V0z\" fill=\"none\"/>\n",
              "    <path d=\"M18.56 5.44l.94 2.06.94-2.06 2.06-.94-2.06-.94-.94-2.06-.94 2.06-2.06.94zm-11 1L8.5 8.5l.94-2.06 2.06-.94-2.06-.94L8.5 2.5l-.94 2.06-2.06.94zm10 10l.94 2.06.94-2.06 2.06-.94-2.06-.94-.94-2.06-.94 2.06-2.06.94z\"/><path d=\"M17.41 7.96l-1.37-1.37c-.4-.4-.92-.59-1.43-.59-.52 0-1.04.2-1.43.59L10.3 9.45l-7.72 7.72c-.78.78-.78 2.05 0 2.83L4 21.41c.39.39.9.59 1.41.59.51 0 1.02-.2 1.41-.59l7.78-7.78 2.81-2.81c.8-.78.8-2.07 0-2.86zM5.41 20L4 18.59l7.72-7.72 1.47 1.35L5.41 20z\"/>\n",
              "  </svg>\n",
              "      </button>\n",
              "      \n",
              "  <style>\n",
              "    .colab-df-container {\n",
              "      display:flex;\n",
              "      flex-wrap:wrap;\n",
              "      gap: 12px;\n",
              "    }\n",
              "\n",
              "    .colab-df-convert {\n",
              "      background-color: #E8F0FE;\n",
              "      border: none;\n",
              "      border-radius: 50%;\n",
              "      cursor: pointer;\n",
              "      display: none;\n",
              "      fill: #1967D2;\n",
              "      height: 32px;\n",
              "      padding: 0 0 0 0;\n",
              "      width: 32px;\n",
              "    }\n",
              "\n",
              "    .colab-df-convert:hover {\n",
              "      background-color: #E2EBFA;\n",
              "      box-shadow: 0px 1px 2px rgba(60, 64, 67, 0.3), 0px 1px 3px 1px rgba(60, 64, 67, 0.15);\n",
              "      fill: #174EA6;\n",
              "    }\n",
              "\n",
              "    [theme=dark] .colab-df-convert {\n",
              "      background-color: #3B4455;\n",
              "      fill: #D2E3FC;\n",
              "    }\n",
              "\n",
              "    [theme=dark] .colab-df-convert:hover {\n",
              "      background-color: #434B5C;\n",
              "      box-shadow: 0px 1px 3px 1px rgba(0, 0, 0, 0.15);\n",
              "      filter: drop-shadow(0px 1px 2px rgba(0, 0, 0, 0.3));\n",
              "      fill: #FFFFFF;\n",
              "    }\n",
              "  </style>\n",
              "\n",
              "      <script>\n",
              "        const buttonEl =\n",
              "          document.querySelector('#df-c6865fd2-87db-4959-83c3-9cf06ce141df button.colab-df-convert');\n",
              "        buttonEl.style.display =\n",
              "          google.colab.kernel.accessAllowed ? 'block' : 'none';\n",
              "\n",
              "        async function convertToInteractive(key) {\n",
              "          const element = document.querySelector('#df-c6865fd2-87db-4959-83c3-9cf06ce141df');\n",
              "          const dataTable =\n",
              "            await google.colab.kernel.invokeFunction('convertToInteractive',\n",
              "                                                     [key], {});\n",
              "          if (!dataTable) return;\n",
              "\n",
              "          const docLinkHtml = 'Like what you see? Visit the ' +\n",
              "            '<a target=\"_blank\" href=https://colab.research.google.com/notebooks/data_table.ipynb>data table notebook</a>'\n",
              "            + ' to learn more about interactive tables.';\n",
              "          element.innerHTML = '';\n",
              "          dataTable['output_type'] = 'display_data';\n",
              "          await google.colab.output.renderOutput(dataTable, element);\n",
              "          const docLink = document.createElement('div');\n",
              "          docLink.innerHTML = docLinkHtml;\n",
              "          element.appendChild(docLink);\n",
              "        }\n",
              "      </script>\n",
              "    </div>\n",
              "  </div>\n",
              "  "
            ],
            "text/plain": [
              "          ds           yhat     yhat_lower     yhat_upper\n",
              "0 2016-09-01   13067.492914 -101052.143849  115574.191644\n",
              "1 2016-10-01  111871.449547    3758.097720  211914.209830\n",
              "2 2016-11-01  350410.189784  244216.679070  462038.115702\n",
              "3 2016-12-01   94113.185730   -3370.193687  206637.671750\n",
              "4 2017-01-01  153292.703308   49222.640390  255348.737452"
            ]
          },
          "metadata": {},
          "execution_count": 436
        }
      ]
    },
    {
      "cell_type": "markdown",
      "source": [
        "**The predict method will assign each row in future a predicted value which it names yhat. If you pass in historical dates, it will provide an in-sample fit. The forecast object here is a new dataframe that includes a column yhat with the forecast, as well as columns for components and uncertainty intervals.**"
      ],
      "metadata": {
        "id": "7RL1r7h4Nli0"
      }
    },
    {
      "cell_type": "code",
      "source": [
        "futurew=mw.make_future_dataframe(periods= 105, freq='w')\n",
        "forecastw=mw.predict(futurew)\n",
        "# display the most critical output columns from the forecast\n",
        "forecastw[['ds','yhat','yhat_lower','yhat_upper']].head()"
      ],
      "metadata": {
        "colab": {
          "base_uri": "https://localhost:8080/",
          "height": 206
        },
        "id": "rpbQOcxAJzqc",
        "outputId": "67fbde97-7515-4145-fdef-54596cbc28ba"
      },
      "execution_count": 437,
      "outputs": [
        {
          "output_type": "execute_result",
          "data": {
            "text/html": [
              "\n",
              "  <div id=\"df-3482d890-9d51-44de-90c8-f966d90e2267\">\n",
              "    <div class=\"colab-df-container\">\n",
              "      <div>\n",
              "<style scoped>\n",
              "    .dataframe tbody tr th:only-of-type {\n",
              "        vertical-align: middle;\n",
              "    }\n",
              "\n",
              "    .dataframe tbody tr th {\n",
              "        vertical-align: top;\n",
              "    }\n",
              "\n",
              "    .dataframe thead th {\n",
              "        text-align: right;\n",
              "    }\n",
              "</style>\n",
              "<table border=\"1\" class=\"dataframe\">\n",
              "  <thead>\n",
              "    <tr style=\"text-align: right;\">\n",
              "      <th></th>\n",
              "      <th>ds</th>\n",
              "      <th>yhat</th>\n",
              "      <th>yhat_lower</th>\n",
              "      <th>yhat_upper</th>\n",
              "    </tr>\n",
              "  </thead>\n",
              "  <tbody>\n",
              "    <tr>\n",
              "      <th>0</th>\n",
              "      <td>2016-09-05</td>\n",
              "      <td>53825.073934</td>\n",
              "      <td>-9639.567071</td>\n",
              "      <td>116401.842102</td>\n",
              "    </tr>\n",
              "    <tr>\n",
              "      <th>1</th>\n",
              "      <td>2016-09-12</td>\n",
              "      <td>55769.556375</td>\n",
              "      <td>-3755.970365</td>\n",
              "      <td>121728.751269</td>\n",
              "    </tr>\n",
              "    <tr>\n",
              "      <th>2</th>\n",
              "      <td>2016-09-19</td>\n",
              "      <td>57714.038815</td>\n",
              "      <td>-9222.881162</td>\n",
              "      <td>120064.475697</td>\n",
              "    </tr>\n",
              "    <tr>\n",
              "      <th>3</th>\n",
              "      <td>2016-09-26</td>\n",
              "      <td>59658.521253</td>\n",
              "      <td>-4580.841939</td>\n",
              "      <td>123566.116354</td>\n",
              "    </tr>\n",
              "    <tr>\n",
              "      <th>4</th>\n",
              "      <td>2016-10-03</td>\n",
              "      <td>61603.003691</td>\n",
              "      <td>-3596.117800</td>\n",
              "      <td>124304.559579</td>\n",
              "    </tr>\n",
              "  </tbody>\n",
              "</table>\n",
              "</div>\n",
              "      <button class=\"colab-df-convert\" onclick=\"convertToInteractive('df-3482d890-9d51-44de-90c8-f966d90e2267')\"\n",
              "              title=\"Convert this dataframe to an interactive table.\"\n",
              "              style=\"display:none;\">\n",
              "        \n",
              "  <svg xmlns=\"http://www.w3.org/2000/svg\" height=\"24px\"viewBox=\"0 0 24 24\"\n",
              "       width=\"24px\">\n",
              "    <path d=\"M0 0h24v24H0V0z\" fill=\"none\"/>\n",
              "    <path d=\"M18.56 5.44l.94 2.06.94-2.06 2.06-.94-2.06-.94-.94-2.06-.94 2.06-2.06.94zm-11 1L8.5 8.5l.94-2.06 2.06-.94-2.06-.94L8.5 2.5l-.94 2.06-2.06.94zm10 10l.94 2.06.94-2.06 2.06-.94-2.06-.94-.94-2.06-.94 2.06-2.06.94z\"/><path d=\"M17.41 7.96l-1.37-1.37c-.4-.4-.92-.59-1.43-.59-.52 0-1.04.2-1.43.59L10.3 9.45l-7.72 7.72c-.78.78-.78 2.05 0 2.83L4 21.41c.39.39.9.59 1.41.59.51 0 1.02-.2 1.41-.59l7.78-7.78 2.81-2.81c.8-.78.8-2.07 0-2.86zM5.41 20L4 18.59l7.72-7.72 1.47 1.35L5.41 20z\"/>\n",
              "  </svg>\n",
              "      </button>\n",
              "      \n",
              "  <style>\n",
              "    .colab-df-container {\n",
              "      display:flex;\n",
              "      flex-wrap:wrap;\n",
              "      gap: 12px;\n",
              "    }\n",
              "\n",
              "    .colab-df-convert {\n",
              "      background-color: #E8F0FE;\n",
              "      border: none;\n",
              "      border-radius: 50%;\n",
              "      cursor: pointer;\n",
              "      display: none;\n",
              "      fill: #1967D2;\n",
              "      height: 32px;\n",
              "      padding: 0 0 0 0;\n",
              "      width: 32px;\n",
              "    }\n",
              "\n",
              "    .colab-df-convert:hover {\n",
              "      background-color: #E2EBFA;\n",
              "      box-shadow: 0px 1px 2px rgba(60, 64, 67, 0.3), 0px 1px 3px 1px rgba(60, 64, 67, 0.15);\n",
              "      fill: #174EA6;\n",
              "    }\n",
              "\n",
              "    [theme=dark] .colab-df-convert {\n",
              "      background-color: #3B4455;\n",
              "      fill: #D2E3FC;\n",
              "    }\n",
              "\n",
              "    [theme=dark] .colab-df-convert:hover {\n",
              "      background-color: #434B5C;\n",
              "      box-shadow: 0px 1px 3px 1px rgba(0, 0, 0, 0.15);\n",
              "      filter: drop-shadow(0px 1px 2px rgba(0, 0, 0, 0.3));\n",
              "      fill: #FFFFFF;\n",
              "    }\n",
              "  </style>\n",
              "\n",
              "      <script>\n",
              "        const buttonEl =\n",
              "          document.querySelector('#df-3482d890-9d51-44de-90c8-f966d90e2267 button.colab-df-convert');\n",
              "        buttonEl.style.display =\n",
              "          google.colab.kernel.accessAllowed ? 'block' : 'none';\n",
              "\n",
              "        async function convertToInteractive(key) {\n",
              "          const element = document.querySelector('#df-3482d890-9d51-44de-90c8-f966d90e2267');\n",
              "          const dataTable =\n",
              "            await google.colab.kernel.invokeFunction('convertToInteractive',\n",
              "                                                     [key], {});\n",
              "          if (!dataTable) return;\n",
              "\n",
              "          const docLinkHtml = 'Like what you see? Visit the ' +\n",
              "            '<a target=\"_blank\" href=https://colab.research.google.com/notebooks/data_table.ipynb>data table notebook</a>'\n",
              "            + ' to learn more about interactive tables.';\n",
              "          element.innerHTML = '';\n",
              "          dataTable['output_type'] = 'display_data';\n",
              "          await google.colab.output.renderOutput(dataTable, element);\n",
              "          const docLink = document.createElement('div');\n",
              "          docLink.innerHTML = docLinkHtml;\n",
              "          element.appendChild(docLink);\n",
              "        }\n",
              "      </script>\n",
              "    </div>\n",
              "  </div>\n",
              "  "
            ],
            "text/plain": [
              "          ds          yhat   yhat_lower     yhat_upper\n",
              "0 2016-09-05  53825.073934 -9639.567071  116401.842102\n",
              "1 2016-09-12  55769.556375 -3755.970365  121728.751269\n",
              "2 2016-09-19  57714.038815 -9222.881162  120064.475697\n",
              "3 2016-09-26  59658.521253 -4580.841939  123566.116354\n",
              "4 2016-10-03  61603.003691 -3596.117800  124304.559579"
            ]
          },
          "metadata": {},
          "execution_count": 437
        }
      ]
    },
    {
      "cell_type": "markdown",
      "source": [
        "Prophet also provides a convenient method to quickly plot the results of our forecasts."
      ],
      "metadata": {
        "id": "xRr0Y39W0ngY"
      }
    },
    {
      "cell_type": "markdown",
      "source": [
        "Prophet plots the observed values of time series(black dots),the forecasted values(blue lines) and the uncertainty intervals of our forecasts(blue shaded region)"
      ],
      "metadata": {
        "id": "AFFtblBN0f2w"
      }
    },
    {
      "cell_type": "code",
      "source": [
        "# plot the forecast for month-year\n",
        "fig = m.plot(forecast)\n",
        "\n",
        "# plot the forecast for month-week\n",
        "fig1 = mw.plot(forecastw)"
      ],
      "metadata": {
        "colab": {
          "base_uri": "https://localhost:8080/",
          "height": 865
        },
        "id": "x4w9jc5zdLJ-",
        "outputId": "61c2a584-deef-4ef4-82db-992e1fc0e44e"
      },
      "execution_count": 438,
      "outputs": [
        {
          "output_type": "display_data",
          "data": {
            "image/png": "[encoded data removed]",
            "text/plain": [
              "<Figure size 720x432 with 1 Axes>"
            ]
          },
          "metadata": {}
        },
        {
          "output_type": "display_data",
          "data": {
            "image/png": "[encoded data removed]",
            "text/plain": [
              "<Figure size 720x432 with 1 Axes>"
            ]
          },
          "metadata": {}
        }
      ]
    },
    {
      "cell_type": "markdown",
      "source": [
        "Above, it was plotted the outputs of the plotted forecast for the period year-month and year-week, respectively.\n"
      ],
      "metadata": {
        "id": "C9PyqvNMcQcb"
      }
    },
    {
      "cell_type": "markdown",
      "source": [
        "Prophet plots the observed values of our time series (the black dots), the forecasted values (blue line) and the uncertainty intervals of our forecasts (the blue shaded regions)."
      ],
      "metadata": {
        "id": "olPy6XU40qF0"
      }
    },
    {
      "cell_type": "markdown",
      "source": [
        "**You can plot the forecast by calling the Prophet.plot method and passing in your forecast dataframe.**"
      ],
      "metadata": {
        "id": "uMJX3vWtrckS"
      }
    },
    {
      "cell_type": "markdown",
      "source": [
        "**If you want to see the forecast components, you can use the Prophet.plot_components method. By default you’ll see the trend, yearly seasonality, and weekly seasonality of the time series. If you include holidays, you’ll see those here, too.**"
      ],
      "metadata": {
        "id": "Fd-uMh_e37e1"
      }
    },
    {
      "cell_type": "code",
      "source": [
        "from fbprophet.plot import plot_plotly, plot_components_plotly\n",
        "plot_plotly(m, forecast)"
      ],
      "metadata": {
        "colab": {
          "base_uri": "https://localhost:8080/",
          "height": 617
        },
        "id": "PtiHPTzGdkUr",
        "outputId": "ebe78cdb-2a8b-47d1-f60e-d69a885a405e"
      },
      "execution_count": 439,
      "outputs": [
        {
          "output_type": "display_data",
          "data": {
            "text/html": [
              "<html>\n",
              "<head><meta charset=\"utf-8\" /></head>\n",
              "<body>\n",
              "    <div>\n",
              "            <script src=\"https://cdnjs.cloudflare.com/ajax/libs/mathjax/2.7.5/MathJax.js?config=TeX-AMS-MML_SVG\"></script><script type=\"text/javascript\">if (window.MathJax) {MathJax.Hub.Config({SVG: {font: \"STIX-Web\"}});}</script>\n",
              "                <script type=\"text/javascript\">window.PlotlyConfig = {MathJaxConfig: 'local'};</script>\n",
              "        <script src=\"https://cdn.plot.ly/plotly-latest.min.js\"></script>    \n",
              "            <div id=\"e95a681d-39de-4ea4-acc4-7faf0b3b5f67\" class=\"plotly-graph-div\" style=\"height:600px; width:900px;\"></div>\n",
              "            <script type=\"text/javascript\">\n",
              "                \n",
              "                    window.PLOTLYENV=window.PLOTLYENV || {};\n",
              "                    \n",
              "                if (document.getElementById(\"e95a681d-39de-4ea4-acc4-7faf0b3b5f67\")) {\n",
              "                    Plotly.newPlot(\n",
              "                        'e95a681d-39de-4ea4-acc4-7faf0b3b5f67',\n",
              "                        [{\"marker\": {\"color\": \"black\", \"size\": 4}, \"mode\": \"markers\", \"name\": \"Actual\", \"type\": \"scatter\", \"x\": [\"2016-09-01T00:00:00\", \"2016-10-01T00:00:00\", \"2016-11-01T00:00:00\", \"2016-12-01T00:00:00\", \"2017-01-01T00:00:00\", \"2017-02-01T00:00:00\", \"2017-03-01T00:00:00\", \"2017-04-01T00:00:00\", \"2017-05-01T00:00:00\", \"2017-06-01T00:00:00\", \"2017-07-01T00:00:00\", \"2017-08-01T00:00:00\", \"2017-09-01T00:00:00\", \"2017-10-01T00:00:00\", \"2017-11-01T00:00:00\", \"2017-12-01T00:00:00\", \"2018-01-01T00:00:00\", \"2018-02-01T00:00:00\"], \"y\": [267.36, 50942.2300000001, 546509.6, 50942.23, 128637.9899999999, 260753.85999999646, 396451.0400000015, 391784.4200000018, 545340.6500000055, 453031.4100000027, 533616.8400000065, 601409.6700000096, 662276.3900000104, 693807.6000000094, 1046127.8400000223, 770656.1500000167, 987151.4100000275, 880099.7900000224]}, {\"hoverinfo\": \"skip\", \"line\": {\"width\": 0}, \"mode\": \"lines\", \"type\": \"scatter\", \"x\": [\"2016-09-01T00:00:00\", \"2016-10-01T00:00:00\", \"2016-11-01T00:00:00\", \"2016-12-01T00:00:00\", \"2017-01-01T00:00:00\", \"2017-02-01T00:00:00\", \"2017-03-01T00:00:00\", \"2017-04-01T00:00:00\", \"2017-05-01T00:00:00\", \"2017-06-01T00:00:00\", \"2017-07-01T00:00:00\", \"2017-08-01T00:00:00\", \"2017-09-01T00:00:00\", \"2017-10-01T00:00:00\", \"2017-11-01T00:00:00\", \"2017-12-01T00:00:00\", \"2018-01-01T00:00:00\", \"2018-02-01T00:00:00\", \"2018-02-28T00:00:00\", \"2018-03-31T00:00:00\", \"2018-04-30T00:00:00\", \"2018-05-31T00:00:00\", \"2018-06-30T00:00:00\", \"2018-07-31T00:00:00\", \"2018-08-31T00:00:00\", \"2018-09-30T00:00:00\", \"2018-10-31T00:00:00\", \"2018-11-30T00:00:00\", \"2018-12-31T00:00:00\", \"2019-01-31T00:00:00\", \"2019-02-28T00:00:00\", \"2019-03-31T00:00:00\", \"2019-04-30T00:00:00\", \"2019-05-31T00:00:00\", \"2019-06-30T00:00:00\", \"2019-07-31T00:00:00\", \"2019-08-31T00:00:00\", \"2019-09-30T00:00:00\", \"2019-10-31T00:00:00\", \"2019-11-30T00:00:00\", \"2019-12-31T00:00:00\", \"2020-01-31T00:00:00\", \"2020-02-29T00:00:00\", \"2020-03-31T00:00:00\"], \"y\": [-101052.14384934309, 3758.0977203322363, 244216.67907012964, -3370.193687406937, 49222.64038950081, 257152.80708033146, 302470.2405463847, 240468.7400501063, 414005.11669575784, 288040.38999484637, 418256.8645804462, 692902.5513238518, 519797.48330831446, 564435.9212861984, 813651.5255205749, 696727.0198617801, 915776.4534294105, 782202.3770772696, 1049552.4922800495, 970961.8024008775, 1148486.0558227615, 1017457.0418559923, 1147596.4350601786, 1417038.5138925817, 1244457.0494534806, 1278107.698573706, 1532352.274207022, 1410816.0096544533, 1614066.3208714935, 1476321.3615410419, 1522643.348203375, 1607311.294112879, 1916075.5824633902, 1727811.0498954235, 1752411.7913618272, 2001430.2148258176, 1914634.9636746882, 2059636.2063676252, 1917901.7627776128, 2036988.4506792112, 2287799.7922526347, 2103087.0803863886, 2181176.0175081086, 2423508.9915650007]}, {\"fill\": \"tonexty\", \"fillcolor\": \"rgba(0, 114, 178, 0.2)\", \"line\": {\"color\": \"#0072B2\", \"width\": 2}, \"mode\": \"lines\", \"name\": \"Predicted\", \"type\": \"scatter\", \"x\": [\"2016-09-01T00:00:00\", \"2016-10-01T00:00:00\", \"2016-11-01T00:00:00\", \"2016-12-01T00:00:00\", \"2017-01-01T00:00:00\", \"2017-02-01T00:00:00\", \"2017-03-01T00:00:00\", \"2017-04-01T00:00:00\", \"2017-05-01T00:00:00\", \"2017-06-01T00:00:00\", \"2017-07-01T00:00:00\", \"2017-08-01T00:00:00\", \"2017-09-01T00:00:00\", \"2017-10-01T00:00:00\", \"2017-11-01T00:00:00\", \"2017-12-01T00:00:00\", \"2018-01-01T00:00:00\", \"2018-02-01T00:00:00\", \"2018-02-28T00:00:00\", \"2018-03-31T00:00:00\", \"2018-04-30T00:00:00\", \"2018-05-31T00:00:00\", \"2018-06-30T00:00:00\", \"2018-07-31T00:00:00\", \"2018-08-31T00:00:00\", \"2018-09-30T00:00:00\", \"2018-10-31T00:00:00\", \"2018-11-30T00:00:00\", \"2018-12-31T00:00:00\", \"2019-01-31T00:00:00\", \"2019-02-28T00:00:00\", \"2019-03-31T00:00:00\", \"2019-04-30T00:00:00\", \"2019-05-31T00:00:00\", \"2019-06-30T00:00:00\", \"2019-07-31T00:00:00\", \"2019-08-31T00:00:00\", \"2019-09-30T00:00:00\", \"2019-10-31T00:00:00\", \"2019-11-30T00:00:00\", \"2019-12-31T00:00:00\", \"2020-01-31T00:00:00\", \"2020-02-29T00:00:00\", \"2020-03-31T00:00:00\"], \"y\": [13067.492914480594, 111871.44954730046, 350410.18978428445, 94113.18573017386, 153292.7033076164, 365357.7776954082, 421832.8546571927, 340435.75934615126, 519090.51548574894, 391426.0483753898, 524033.09317484044, 797501.7048744678, 624664.7370332347, 669150.3425081773, 916135.5563534043, 808264.227013147, 1013394.6677690384, 885730.9351471857, 1156227.1990491243, 1074830.8428803163, 1253486.3104648807, 1125822.577842929, 1258430.3343535727, 1531899.665294792, 1359062.7014331175, 1403548.3084011949, 1650533.5222468956, 1542662.192906333, 1747792.6336616839, 1620128.9010404686, 1676621.052262924, 1770747.2913478925, 2082698.139714477, 1909861.175852911, 1954346.7828211335, 2201331.996666147, 2119935.64049744, 2298591.1080818768, 2170927.3754598876, 2303535.131970509, 2577004.462911748, 2404167.499049761, 2487134.6234437646, 2760603.954384935]}, {\"fill\": \"tonexty\", \"fillcolor\": \"rgba(0, 114, 178, 0.2)\", \"hoverinfo\": \"skip\", \"line\": {\"width\": 0}, \"mode\": \"lines\", \"type\": \"scatter\", \"x\": [\"2016-09-01T00:00:00\", \"2016-10-01T00:00:00\", \"2016-11-01T00:00:00\", \"2016-12-01T00:00:00\", \"2017-01-01T00:00:00\", \"2017-02-01T00:00:00\", \"2017-03-01T00:00:00\", \"2017-04-01T00:00:00\", \"2017-05-01T00:00:00\", \"2017-06-01T00:00:00\", \"2017-07-01T00:00:00\", \"2017-08-01T00:00:00\", \"2017-09-01T00:00:00\", \"2017-10-01T00:00:00\", \"2017-11-01T00:00:00\", \"2017-12-01T00:00:00\", \"2018-01-01T00:00:00\", \"2018-02-01T00:00:00\", \"2018-02-28T00:00:00\", \"2018-03-31T00:00:00\", \"2018-04-30T00:00:00\", \"2018-05-31T00:00:00\", \"2018-06-30T00:00:00\", \"2018-07-31T00:00:00\", \"2018-08-31T00:00:00\", \"2018-09-30T00:00:00\", \"2018-10-31T00:00:00\", \"2018-11-30T00:00:00\", \"2018-12-31T00:00:00\", \"2019-01-31T00:00:00\", \"2019-02-28T00:00:00\", \"2019-03-31T00:00:00\", \"2019-04-30T00:00:00\", \"2019-05-31T00:00:00\", \"2019-06-30T00:00:00\", \"2019-07-31T00:00:00\", \"2019-08-31T00:00:00\", \"2019-09-30T00:00:00\", \"2019-10-31T00:00:00\", \"2019-11-30T00:00:00\", \"2019-12-31T00:00:00\", \"2020-01-31T00:00:00\", \"2020-02-29T00:00:00\", \"2020-03-31T00:00:00\"], \"y\": [115574.19164426814, 211914.2098303073, 462038.11570235173, 206637.67174995918, 255348.73745206645, 468161.97719539964, 526239.4022792522, 445172.9266391563, 635167.3374476808, 503211.5214106827, 623661.9371763859, 908463.1538931176, 738107.3861611037, 775598.2389080682, 1013346.0372758433, 916320.7764949915, 1124685.3692584762, 985849.7232416404, 1253600.7413197546, 1176684.6283227638, 1363804.1071705136, 1241664.1982965476, 1371742.4520663382, 1644979.7807828833, 1480131.551996902, 1525644.7995869082, 1771797.2063882079, 1668523.9510060395, 1885760.7602871915, 1770787.939928187, 1832995.2491377923, 1941333.5501400272, 2250313.274374651, 2101328.6175963036, 2148853.1496741734, 2408188.8990218863, 2338389.5425860374, 2538093.9577612025, 2424248.933877622, 2574043.757381795, 2873996.2066658014, 2710246.6966797733, 2821295.732486237, 3097608.2930724374]}],\n",
              "                        {\"height\": 600, \"showlegend\": false, \"template\": {\"data\": {\"bar\": [{\"error_x\": {\"color\": \"#2a3f5f\"}, \"error_y\": {\"color\": \"#2a3f5f\"}, \"marker\": {\"line\": {\"color\": \"#E5ECF6\", \"width\": 0.5}}, \"type\": \"bar\"}], \"barpolar\": [{\"marker\": {\"line\": {\"color\": \"#E5ECF6\", \"width\": 0.5}}, \"type\": \"barpolar\"}], \"carpet\": [{\"aaxis\": {\"endlinecolor\": \"#2a3f5f\", \"gridcolor\": \"white\", \"linecolor\": \"white\", \"minorgridcolor\": \"white\", \"startlinecolor\": \"#2a3f5f\"}, \"baxis\": {\"endlinecolor\": \"#2a3f5f\", \"gridcolor\": \"white\", \"linecolor\": \"white\", \"minorgridcolor\": \"white\", \"startlinecolor\": \"#2a3f5f\"}, \"type\": \"carpet\"}], \"choropleth\": [{\"colorbar\": {\"outlinewidth\": 0, \"ticks\": \"\"}, \"type\": \"choropleth\"}], \"contour\": [{\"colorbar\": {\"outlinewidth\": 0, \"ticks\": \"\"}, \"colorscale\": [[0.0, \"#0d0887\"], [0.1111111111111111, \"#46039f\"], [0.2222222222222222, \"#7201a8\"], [0.3333333333333333, \"#9c179e\"], [0.4444444444444444, \"#bd3786\"], [0.5555555555555556, \"#d8576b\"], [0.6666666666666666, \"#ed7953\"], [0.7777777777777778, \"#fb9f3a\"], [0.8888888888888888, \"#fdca26\"], [1.0, \"#f0f921\"]], \"type\": \"contour\"}], \"contourcarpet\": [{\"colorbar\": {\"outlinewidth\": 0, \"ticks\": \"\"}, \"type\": \"contourcarpet\"}], \"heatmap\": [{\"colorbar\": {\"outlinewidth\": 0, \"ticks\": \"\"}, \"colorscale\": [[0.0, \"#0d0887\"], [0.1111111111111111, \"#46039f\"], [0.2222222222222222, \"#7201a8\"], [0.3333333333333333, \"#9c179e\"], [0.4444444444444444, \"#bd3786\"], [0.5555555555555556, \"#d8576b\"], [0.6666666666666666, \"#ed7953\"], [0.7777777777777778, \"#fb9f3a\"], [0.8888888888888888, \"#fdca26\"], [1.0, \"#f0f921\"]], \"type\": \"heatmap\"}], \"heatmapgl\": [{\"colorbar\": {\"outlinewidth\": 0, \"ticks\": \"\"}, \"colorscale\": [[0.0, \"#0d0887\"], [0.1111111111111111, \"#46039f\"], [0.2222222222222222, \"#7201a8\"], [0.3333333333333333, \"#9c179e\"], [0.4444444444444444, \"#bd3786\"], [0.5555555555555556, \"#d8576b\"], [0.6666666666666666, \"#ed7953\"], [0.7777777777777778, \"#fb9f3a\"], [0.8888888888888888, \"#fdca26\"], [1.0, \"#f0f921\"]], \"type\": \"heatmapgl\"}], \"histogram\": [{\"marker\": {\"colorbar\": {\"outlinewidth\": 0, \"ticks\": \"\"}}, \"type\": \"histogram\"}], \"histogram2d\": [{\"colorbar\": {\"outlinewidth\": 0, \"ticks\": \"\"}, \"colorscale\": [[0.0, \"#0d0887\"], [0.1111111111111111, \"#46039f\"], [0.2222222222222222, \"#7201a8\"], [0.3333333333333333, \"#9c179e\"], [0.4444444444444444, \"#bd3786\"], [0.5555555555555556, \"#d8576b\"], [0.6666666666666666, \"#ed7953\"], [0.7777777777777778, \"#fb9f3a\"], [0.8888888888888888, \"#fdca26\"], [1.0, \"#f0f921\"]], \"type\": \"histogram2d\"}], \"histogram2dcontour\": [{\"colorbar\": {\"outlinewidth\": 0, \"ticks\": \"\"}, \"colorscale\": [[0.0, \"#0d0887\"], [0.1111111111111111, \"#46039f\"], [0.2222222222222222, \"#7201a8\"], [0.3333333333333333, \"#9c179e\"], [0.4444444444444444, \"#bd3786\"], [0.5555555555555556, \"#d8576b\"], [0.6666666666666666, \"#ed7953\"], [0.7777777777777778, \"#fb9f3a\"], [0.8888888888888888, \"#fdca26\"], [1.0, \"#f0f921\"]], \"type\": \"histogram2dcontour\"}], \"mesh3d\": [{\"colorbar\": {\"outlinewidth\": 0, \"ticks\": \"\"}, \"type\": \"mesh3d\"}], \"parcoords\": [{\"line\": {\"colorbar\": {\"outlinewidth\": 0, \"ticks\": \"\"}}, \"type\": \"parcoords\"}], \"pie\": [{\"automargin\": true, \"type\": \"pie\"}], \"scatter\": [{\"marker\": {\"colorbar\": {\"outlinewidth\": 0, \"ticks\": \"\"}}, \"type\": \"scatter\"}], \"scatter3d\": [{\"line\": {\"colorbar\": {\"outlinewidth\": 0, \"ticks\": \"\"}}, \"marker\": {\"colorbar\": {\"outlinewidth\": 0, \"ticks\": \"\"}}, \"type\": \"scatter3d\"}], \"scattercarpet\": [{\"marker\": {\"colorbar\": {\"outlinewidth\": 0, \"ticks\": \"\"}}, \"type\": \"scattercarpet\"}], \"scattergeo\": [{\"marker\": {\"colorbar\": {\"outlinewidth\": 0, \"ticks\": \"\"}}, \"type\": \"scattergeo\"}], \"scattergl\": [{\"marker\": {\"colorbar\": {\"outlinewidth\": 0, \"ticks\": \"\"}}, \"type\": \"scattergl\"}], \"scattermapbox\": [{\"marker\": {\"colorbar\": {\"outlinewidth\": 0, \"ticks\": \"\"}}, \"type\": \"scattermapbox\"}], \"scatterpolar\": [{\"marker\": {\"colorbar\": {\"outlinewidth\": 0, \"ticks\": \"\"}}, \"type\": \"scatterpolar\"}], \"scatterpolargl\": [{\"marker\": {\"colorbar\": {\"outlinewidth\": 0, \"ticks\": \"\"}}, \"type\": \"scatterpolargl\"}], \"scatterternary\": [{\"marker\": {\"colorbar\": {\"outlinewidth\": 0, \"ticks\": \"\"}}, \"type\": \"scatterternary\"}], \"surface\": [{\"colorbar\": {\"outlinewidth\": 0, \"ticks\": \"\"}, \"colorscale\": [[0.0, \"#0d0887\"], [0.1111111111111111, \"#46039f\"], [0.2222222222222222, \"#7201a8\"], [0.3333333333333333, \"#9c179e\"], [0.4444444444444444, \"#bd3786\"], [0.5555555555555556, \"#d8576b\"], [0.6666666666666666, \"#ed7953\"], [0.7777777777777778, \"#fb9f3a\"], [0.8888888888888888, \"#fdca26\"], [1.0, \"#f0f921\"]], \"type\": \"surface\"}], \"table\": [{\"cells\": {\"fill\": {\"color\": \"#EBF0F8\"}, \"line\": {\"color\": \"white\"}}, \"header\": {\"fill\": {\"color\": \"#C8D4E3\"}, \"line\": {\"color\": \"white\"}}, \"type\": \"table\"}]}, \"layout\": {\"annotationdefaults\": {\"arrowcolor\": \"#2a3f5f\", \"arrowhead\": 0, \"arrowwidth\": 1}, \"coloraxis\": {\"colorbar\": {\"outlinewidth\": 0, \"ticks\": \"\"}}, \"colorscale\": {\"diverging\": [[0, \"#8e0152\"], [0.1, \"#c51b7d\"], [0.2, \"#de77ae\"], [0.3, \"#f1b6da\"], [0.4, \"#fde0ef\"], [0.5, \"#f7f7f7\"], [0.6, \"#e6f5d0\"], [0.7, \"#b8e186\"], [0.8, \"#7fbc41\"], [0.9, \"#4d9221\"], [1, \"#276419\"]], \"sequential\": [[0.0, \"#0d0887\"], [0.1111111111111111, \"#46039f\"], [0.2222222222222222, \"#7201a8\"], [0.3333333333333333, \"#9c179e\"], [0.4444444444444444, \"#bd3786\"], [0.5555555555555556, \"#d8576b\"], [0.6666666666666666, \"#ed7953\"], [0.7777777777777778, \"#fb9f3a\"], [0.8888888888888888, \"#fdca26\"], [1.0, \"#f0f921\"]], \"sequentialminus\": [[0.0, \"#0d0887\"], [0.1111111111111111, \"#46039f\"], [0.2222222222222222, \"#7201a8\"], [0.3333333333333333, \"#9c179e\"], [0.4444444444444444, \"#bd3786\"], [0.5555555555555556, \"#d8576b\"], [0.6666666666666666, \"#ed7953\"], [0.7777777777777778, \"#fb9f3a\"], [0.8888888888888888, \"#fdca26\"], [1.0, \"#f0f921\"]]}, \"colorway\": [\"#636efa\", \"#EF553B\", \"#00cc96\", \"#ab63fa\", \"#FFA15A\", \"#19d3f3\", \"#FF6692\", \"#B6E880\", \"#FF97FF\", \"#FECB52\"], \"font\": {\"color\": \"#2a3f5f\"}, \"geo\": {\"bgcolor\": \"white\", \"lakecolor\": \"white\", \"landcolor\": \"#E5ECF6\", \"showlakes\": true, \"showland\": true, \"subunitcolor\": \"white\"}, \"hoverlabel\": {\"align\": \"left\"}, \"hovermode\": \"closest\", \"mapbox\": {\"style\": \"light\"}, \"paper_bgcolor\": \"white\", \"plot_bgcolor\": \"#E5ECF6\", \"polar\": {\"angularaxis\": {\"gridcolor\": \"white\", \"linecolor\": \"white\", \"ticks\": \"\"}, \"bgcolor\": \"#E5ECF6\", \"radialaxis\": {\"gridcolor\": \"white\", \"linecolor\": \"white\", \"ticks\": \"\"}}, \"scene\": {\"xaxis\": {\"backgroundcolor\": \"#E5ECF6\", \"gridcolor\": \"white\", \"gridwidth\": 2, \"linecolor\": \"white\", \"showbackground\": true, \"ticks\": \"\", \"zerolinecolor\": \"white\"}, \"yaxis\": {\"backgroundcolor\": \"#E5ECF6\", \"gridcolor\": \"white\", \"gridwidth\": 2, \"linecolor\": \"white\", \"showbackground\": true, \"ticks\": \"\", \"zerolinecolor\": \"white\"}, \"zaxis\": {\"backgroundcolor\": \"#E5ECF6\", \"gridcolor\": \"white\", \"gridwidth\": 2, \"linecolor\": \"white\", \"showbackground\": true, \"ticks\": \"\", \"zerolinecolor\": \"white\"}}, \"shapedefaults\": {\"line\": {\"color\": \"#2a3f5f\"}}, \"ternary\": {\"aaxis\": {\"gridcolor\": \"white\", \"linecolor\": \"white\", \"ticks\": \"\"}, \"baxis\": {\"gridcolor\": \"white\", \"linecolor\": \"white\", \"ticks\": \"\"}, \"bgcolor\": \"#E5ECF6\", \"caxis\": {\"gridcolor\": \"white\", \"linecolor\": \"white\", \"ticks\": \"\"}}, \"title\": {\"x\": 0.05}, \"xaxis\": {\"automargin\": true, \"gridcolor\": \"white\", \"linecolor\": \"white\", \"ticks\": \"\", \"title\": {\"standoff\": 15}, \"zerolinecolor\": \"white\", \"zerolinewidth\": 2}, \"yaxis\": {\"automargin\": true, \"gridcolor\": \"white\", \"linecolor\": \"white\", \"ticks\": \"\", \"title\": {\"standoff\": 15}, \"zerolinecolor\": \"white\", \"zerolinewidth\": 2}}}, \"width\": 900, \"xaxis\": {\"rangeselector\": {\"buttons\": [{\"count\": 7, \"label\": \"1w\", \"step\": \"day\", \"stepmode\": \"backward\"}, {\"count\": 1, \"label\": \"1m\", \"step\": \"month\", \"stepmode\": \"backward\"}, {\"count\": 6, \"label\": \"6m\", \"step\": \"month\", \"stepmode\": \"backward\"}, {\"count\": 1, \"label\": \"1y\", \"step\": \"year\", \"stepmode\": \"backward\"}, {\"step\": \"all\"}]}, \"rangeslider\": {\"visible\": true}, \"title\": {\"text\": \"ds\"}, \"type\": \"date\"}, \"yaxis\": {\"title\": {\"text\": \"y\"}}},\n",
              "                        {\"responsive\": true}\n",
              "                    ).then(function(){\n",
              "                            \n",
              "var gd = document.getElementById('e95a681d-39de-4ea4-acc4-7faf0b3b5f67');\n",
              "var x = new MutationObserver(function (mutations, observer) {{\n",
              "        var display = window.getComputedStyle(gd).display;\n",
              "        if (!display || display === 'none') {{\n",
              "            console.log([gd, 'removed!']);\n",
              "            Plotly.purge(gd);\n",
              "            observer.disconnect();\n",
              "        }}\n",
              "}});\n",
              "\n",
              "// Listen for the removal of the full notebook cells\n",
              "var notebookContainer = gd.closest('#notebook-container');\n",
              "if (notebookContainer) {{\n",
              "    x.observe(notebookContainer, {childList: true});\n",
              "}}\n",
              "\n",
              "// Listen for the clearing of the current output cell\n",
              "var outputEl = gd.closest('.output');\n",
              "if (outputEl) {{\n",
              "    x.observe(outputEl, {childList: true});\n",
              "}}\n",
              "\n",
              "                        })\n",
              "                };\n",
              "                \n",
              "            </script>\n",
              "        </div>\n",
              "</body>\n",
              "</html>"
            ]
          },
          "metadata": {}
        }
      ]
    },
    {
      "cell_type": "code",
      "source": [
        "plot_plotly(mw, forecastw)"
      ],
      "metadata": {
        "colab": {
          "base_uri": "https://localhost:8080/",
          "height": 617
        },
        "id": "WUJTB-yiMhxz",
        "outputId": "7d4582a9-1905-40f7-fd18-e5997e92e73c"
      },
      "execution_count": 440,
      "outputs": [
        {
          "output_type": "display_data",
          "data": {
            "text/html": [
              "<html>\n",
              "<head><meta charset=\"utf-8\" /></head>\n",
              "<body>\n",
              "    <div>\n",
              "            <script src=\"https://cdnjs.cloudflare.com/ajax/libs/mathjax/2.7.5/MathJax.js?config=TeX-AMS-MML_SVG\"></script><script type=\"text/javascript\">if (window.MathJax) {MathJax.Hub.Config({SVG: {font: \"STIX-Web\"}});}</script>\n",
              "                <script type=\"text/javascript\">window.PlotlyConfig = {MathJaxConfig: 'local'};</script>\n",
              "        <script src=\"https://cdn.plot.ly/plotly-latest.min.js\"></script>    \n",
              "            <div id=\"98e3e682-a805-4238-ab87-4cc2f4ef739b\" class=\"plotly-graph-div\" style=\"height:600px; width:900px;\"></div>\n",
              "            <script type=\"text/javascript\">\n",
              "                \n",
              "                    window.PLOTLYENV=window.PLOTLYENV || {};\n",
              "                    \n",
              "                if (document.getElementById(\"98e3e682-a805-4238-ab87-4cc2f4ef739b\")) {\n",
              "                    Plotly.newPlot(\n",
              "                        '98e3e682-a805-4238-ab87-4cc2f4ef739b',\n",
              "                        [{\"marker\": {\"color\": \"black\", \"size\": 4}, \"mode\": \"markers\", \"name\": \"Actual\", \"type\": \"scatter\", \"x\": [\"2016-09-05T00:00:00\", \"2016-09-12T00:00:00\", \"2016-09-19T00:00:00\", \"2016-09-26T00:00:00\", \"2016-10-03T00:00:00\", \"2016-10-10T00:00:00\", \"2016-10-17T00:00:00\", \"2016-10-24T00:00:00\", \"2016-10-31T00:00:00\", \"2016-11-07T00:00:00\", \"2016-11-14T00:00:00\", \"2016-11-21T00:00:00\", \"2016-11-28T00:00:00\", \"2016-12-05T00:00:00\", \"2016-12-12T00:00:00\", \"2016-12-19T00:00:00\", \"2016-12-26T00:00:00\", \"2017-01-02T00:00:00\", \"2017-01-09T00:00:00\", \"2017-01-16T00:00:00\", \"2017-01-23T00:00:00\", \"2017-01-30T00:00:00\", \"2017-02-06T00:00:00\", \"2017-02-13T00:00:00\", \"2017-02-20T00:00:00\", \"2017-02-27T00:00:00\", \"2017-03-06T00:00:00\", \"2017-03-13T00:00:00\", \"2017-03-20T00:00:00\", \"2017-03-27T00:00:00\", \"2017-04-03T00:00:00\", \"2017-04-10T00:00:00\", \"2017-04-17T00:00:00\", \"2017-04-24T00:00:00\", \"2017-05-01T00:00:00\", \"2017-05-08T00:00:00\", \"2017-05-15T00:00:00\", \"2017-05-22T00:00:00\", \"2017-05-29T00:00:00\", \"2017-06-05T00:00:00\", \"2017-06-12T00:00:00\", \"2017-06-19T00:00:00\", \"2017-06-26T00:00:00\", \"2017-07-03T00:00:00\", \"2017-07-10T00:00:00\", \"2017-07-17T00:00:00\", \"2017-07-24T00:00:00\", \"2017-07-31T00:00:00\", \"2017-08-07T00:00:00\", \"2017-08-14T00:00:00\", \"2017-08-21T00:00:00\", \"2017-08-28T00:00:00\", \"2017-09-04T00:00:00\", \"2017-09-11T00:00:00\", \"2017-09-18T00:00:00\", \"2017-09-25T00:00:00\", \"2017-10-02T00:00:00\", \"2017-10-09T00:00:00\", \"2017-10-16T00:00:00\", \"2017-10-23T00:00:00\", \"2017-10-30T00:00:00\", \"2017-11-06T00:00:00\", \"2017-11-13T00:00:00\", \"2017-11-20T00:00:00\", \"2017-11-27T00:00:00\", \"2017-12-04T00:00:00\", \"2017-12-11T00:00:00\", \"2017-12-18T00:00:00\", \"2017-12-25T00:00:00\", \"2018-01-01T00:00:00\", \"2018-01-08T00:00:00\", \"2018-01-15T00:00:00\", \"2018-01-22T00:00:00\", \"2018-01-29T00:00:00\"], \"y\": [132.39, 127443.746875, 134.97, 127443.746875, 563.48, 50378.750000000095, 127443.746875, 127443.746875, 127443.746875, 127443.746875, 127443.746875, 127443.746875, 127443.746875, 127443.746875, 127443.746875, 127443.746875, 127443.746875, 127443.746875, 6592.549999999999, 15571.369999999983, 29151.30000000003, 65740.70000000007, 72665.24000000006, 83326.12000000008, 54639.10000000012, 50484.7100000001, 80325.53000000001, 93245.91999999998, 103824.5699999999, 86228.40999999997, 81535.26999999999, 102458.11999999988, 59310.130000000114, 113903.26999999995, 91954.17000000004, 109950.27999999994, 122892.58999999972, 138652.9299999997, 124527.81999999961, 128277.43999999984, 106953.16999999991, 115557.09999999993, 79976.39000000012, 101187.25999999991, 115412.21999999977, 124402.6699999996, 129915.89999999962, 120953.95999999961, 133458.55999999965, 130824.36999999984, 138609.5299999995, 111340.70999999989, 193104.22999999882, 146497.92999999932, 170542.09999999893, 126064.27999999972, 155509.51999999932, 156296.7599999994, 163044.8599999991, 163666.26999999906, 144617.14999999953, 159225.19999999908, 161396.06999999884, 201039.30999999915, 424852.9000000028, 274776.9199999975, 217230.97999999794, 193238.2399999987, 114713.79999999999, 101715.76999999983, 222811.2099999978, 250947.88999999734, 228091.61999999743, 214391.38999999795]}, {\"hoverinfo\": \"skip\", \"line\": {\"width\": 0}, \"mode\": \"lines\", \"type\": \"scatter\", \"x\": [\"2016-09-05T00:00:00\", \"2016-09-12T00:00:00\", \"2016-09-19T00:00:00\", \"2016-09-26T00:00:00\", \"2016-10-03T00:00:00\", \"2016-10-10T00:00:00\", \"2016-10-17T00:00:00\", \"2016-10-24T00:00:00\", \"2016-10-31T00:00:00\", \"2016-11-07T00:00:00\", \"2016-11-14T00:00:00\", \"2016-11-21T00:00:00\", \"2016-11-28T00:00:00\", \"2016-12-05T00:00:00\", \"2016-12-12T00:00:00\", \"2016-12-19T00:00:00\", \"2016-12-26T00:00:00\", \"2017-01-02T00:00:00\", \"2017-01-09T00:00:00\", \"2017-01-16T00:00:00\", \"2017-01-23T00:00:00\", \"2017-01-30T00:00:00\", \"2017-02-06T00:00:00\", \"2017-02-13T00:00:00\", \"2017-02-20T00:00:00\", \"2017-02-27T00:00:00\", \"2017-03-06T00:00:00\", \"2017-03-13T00:00:00\", \"2017-03-20T00:00:00\", \"2017-03-27T00:00:00\", \"2017-04-03T00:00:00\", \"2017-04-10T00:00:00\", \"2017-04-17T00:00:00\", \"2017-04-24T00:00:00\", \"2017-05-01T00:00:00\", \"2017-05-08T00:00:00\", \"2017-05-15T00:00:00\", \"2017-05-22T00:00:00\", \"2017-05-29T00:00:00\", \"2017-06-05T00:00:00\", \"2017-06-12T00:00:00\", \"2017-06-19T00:00:00\", \"2017-06-26T00:00:00\", \"2017-07-03T00:00:00\", \"2017-07-10T00:00:00\", \"2017-07-17T00:00:00\", \"2017-07-24T00:00:00\", \"2017-07-31T00:00:00\", \"2017-08-07T00:00:00\", \"2017-08-14T00:00:00\", \"2017-08-21T00:00:00\", \"2017-08-28T00:00:00\", \"2017-09-04T00:00:00\", \"2017-09-11T00:00:00\", \"2017-09-18T00:00:00\", \"2017-09-25T00:00:00\", \"2017-10-02T00:00:00\", \"2017-10-09T00:00:00\", \"2017-10-16T00:00:00\", \"2017-10-23T00:00:00\", \"2017-10-30T00:00:00\", \"2017-11-06T00:00:00\", \"2017-11-13T00:00:00\", \"2017-11-20T00:00:00\", \"2017-11-27T00:00:00\", \"2017-12-04T00:00:00\", \"2017-12-11T00:00:00\", \"2017-12-18T00:00:00\", \"2017-12-25T00:00:00\", \"2018-01-01T00:00:00\", \"2018-01-08T00:00:00\", \"2018-01-15T00:00:00\", \"2018-01-22T00:00:00\", \"2018-01-29T00:00:00\", \"2018-02-04T00:00:00\", \"2018-02-11T00:00:00\", \"2018-02-18T00:00:00\", \"2018-02-25T00:00:00\", \"2018-03-04T00:00:00\", \"2018-03-11T00:00:00\", \"2018-03-18T00:00:00\", \"2018-03-25T00:00:00\", \"2018-04-01T00:00:00\", \"2018-04-08T00:00:00\", \"2018-04-15T00:00:00\", \"2018-04-22T00:00:00\", \"2018-04-29T00:00:00\", \"2018-05-06T00:00:00\", \"2018-05-13T00:00:00\", \"2018-05-20T00:00:00\", \"2018-05-27T00:00:00\", \"2018-06-03T00:00:00\", \"2018-06-10T00:00:00\", \"2018-06-17T00:00:00\", \"2018-06-24T00:00:00\", \"2018-07-01T00:00:00\", \"2018-07-08T00:00:00\", \"2018-07-15T00:00:00\", \"2018-07-22T00:00:00\", \"2018-07-29T00:00:00\", \"2018-08-05T00:00:00\", \"2018-08-12T00:00:00\", \"2018-08-19T00:00:00\", \"2018-08-26T00:00:00\", \"2018-09-02T00:00:00\", \"2018-09-09T00:00:00\", \"2018-09-16T00:00:00\", \"2018-09-23T00:00:00\", \"2018-09-30T00:00:00\", \"2018-10-07T00:00:00\", \"2018-10-14T00:00:00\", \"2018-10-21T00:00:00\", \"2018-10-28T00:00:00\", \"2018-11-04T00:00:00\", \"2018-11-11T00:00:00\", \"2018-11-18T00:00:00\", \"2018-11-25T00:00:00\", \"2018-12-02T00:00:00\", \"2018-12-09T00:00:00\", \"2018-12-16T00:00:00\", \"2018-12-23T00:00:00\", \"2018-12-30T00:00:00\", \"2019-01-06T00:00:00\", \"2019-01-13T00:00:00\", \"2019-01-20T00:00:00\", \"2019-01-27T00:00:00\", \"2019-02-03T00:00:00\", \"2019-02-10T00:00:00\", \"2019-02-17T00:00:00\", \"2019-02-24T00:00:00\", \"2019-03-03T00:00:00\", \"2019-03-10T00:00:00\", \"2019-03-17T00:00:00\", \"2019-03-24T00:00:00\", \"2019-03-31T00:00:00\", \"2019-04-07T00:00:00\", \"2019-04-14T00:00:00\", \"2019-04-21T00:00:00\", \"2019-04-28T00:00:00\", \"2019-05-05T00:00:00\", \"2019-05-12T00:00:00\", \"2019-05-19T00:00:00\", \"2019-05-26T00:00:00\", \"2019-06-02T00:00:00\", \"2019-06-09T00:00:00\", \"2019-06-16T00:00:00\", \"2019-06-23T00:00:00\", \"2019-06-30T00:00:00\", \"2019-07-07T00:00:00\", \"2019-07-14T00:00:00\", \"2019-07-21T00:00:00\", \"2019-07-28T00:00:00\", \"2019-08-04T00:00:00\", \"2019-08-11T00:00:00\", \"2019-08-18T00:00:00\", \"2019-08-25T00:00:00\", \"2019-09-01T00:00:00\", \"2019-09-08T00:00:00\", \"2019-09-15T00:00:00\", \"2019-09-22T00:00:00\", \"2019-09-29T00:00:00\", \"2019-10-06T00:00:00\", \"2019-10-13T00:00:00\", \"2019-10-20T00:00:00\", \"2019-10-27T00:00:00\", \"2019-11-03T00:00:00\", \"2019-11-10T00:00:00\", \"2019-11-17T00:00:00\", \"2019-11-24T00:00:00\", \"2019-12-01T00:00:00\", \"2019-12-08T00:00:00\", \"2019-12-15T00:00:00\", \"2019-12-22T00:00:00\", \"2019-12-29T00:00:00\", \"2020-01-05T00:00:00\", \"2020-01-12T00:00:00\", \"2020-01-19T00:00:00\", \"2020-01-26T00:00:00\", \"2020-02-02T00:00:00\"], \"y\": [-9639.567071144755, -3755.9703651156683, -9222.881161723297, -4580.841938956968, -3596.1178001917856, -6024.704783497396, -2450.782818418021, 5810.956732240817, 3798.5715938530884, 4878.509540654727, 10185.985743897802, 9054.071079814383, 16214.690611621756, 15714.379590545712, 22876.90497984763, 17377.03841903786, 22928.612584617294, 25517.678858185544, 20700.62070268683, 22927.70459000652, 29967.34103202135, 31003.11936859434, 33100.888196625885, 35807.5815113684, 34718.98964036038, 38706.38523817991, 36315.82479939029, 41862.180817008324, 45119.24303782065, 46709.748898763486, 49511.86377246167, 54962.17843726276, 53741.63146234643, 58244.80671473123, 54800.606403715225, 58121.74213812663, 59151.79041945676, 63839.7125928758, 65077.13574098816, 65877.76740978789, 70515.19171474568, 75201.63289869131, 71308.61158154544, 74066.00339787397, 73361.15717416091, 75959.1769854716, 84932.41742284043, 80138.0703452332, 84295.78098094267, 87343.69344186851, 84091.81920844529, 91263.78616338008, 92590.12261327503, 95110.7365036573, 93637.80249256498, 98915.48598988184, 105048.30200530365, 101707.41571015016, 100511.99993178411, 106461.74520517938, 112426.95756614988, 106099.08351107304, 107477.24207000327, 111280.17141568189, 112576.27829945192, 121458.33997404842, 117482.63097918591, 117337.73675823114, 125330.46818646045, 126127.55364092384, 127703.35106001874, 129739.24225060604, 130909.36466636183, 130526.03865774623, 75703.4558221638, 75186.9368870463, 79267.93256625018, 85065.86825179374, 83511.7071669556, 88000.28499074909, 88548.05266503667, 90111.63084619356, 93202.83457969768, 97099.19498246111, 97732.98199215742, 100841.59949305732, 100969.60663706434, 104296.30133486568, 101657.80663928026, 107827.58681536131, 106717.37443429446, 113348.47828024755, 114413.40658041462, 114976.87654174234, 116882.37660717845, 114065.59731584691, 114436.34341265964, 125150.02436117255, 121168.76858847216, 126389.08614229293, 129793.6444522317, 128822.40140261187, 133815.10672114498, 128593.20714981166, 136918.59296364407, 137138.99395399875, 141616.30038353434, 136262.05825086258, 144652.8300630171, 144716.2130081522, 147640.9150799515, 148122.6030282914, 149069.3304087288, 149657.17228212714, 156347.98924198703, 155422.49214081286, 157312.9335545302, 157945.42992412415, 164120.86492560356, 159471.56384583464, 164631.21875120833, 169145.8586570277, 167496.8233824491, 174149.282263507, 174152.56888452513, 175729.03997519874, 172502.91188537213, 180912.2212181738, 176994.87159770925, 187147.1262274651, 188552.09528072912, 186311.3314906201, 187699.50668374848, 190646.1376034253, 191725.40622864358, 199281.01782205648, 198353.8181176878, 203914.8183452749, 199123.9424708484, 203683.255876396, 202465.27188906592, 208967.35551680275, 207171.7366720923, 209673.4318033686, 210713.8094421845, 213480.07410977918, 216505.7718770181, 224380.29465336446, 219605.33399545334, 223320.4194152979, 223726.6223637748, 227139.100224724, 230200.4810161022, 227642.4717145919, 232675.18502279403, 230941.7858783315, 235365.9763171851, 233945.83434525714, 238469.2054113047, 242718.18273714336, 242912.05273790003, 245000.10943615463, 245127.63078008252, 255063.1262724953, 253518.21245060387, 251838.37372222135, 253851.69361057473, 256676.0150678843, 259146.67600191128, 264176.66364212317, 269595.659766456, 267308.06758101535, 272779.35159925174, 266645.4039368718, 272765.0777757187, 273247.6938470313, 274812.37292733626, 279500.8377514553, 275125.68874304893]}, {\"fill\": \"tonexty\", \"fillcolor\": \"rgba(0, 114, 178, 0.2)\", \"line\": {\"color\": \"#0072B2\", \"width\": 2}, \"mode\": \"lines\", \"name\": \"Predicted\", \"type\": \"scatter\", \"x\": [\"2016-09-05T00:00:00\", \"2016-09-12T00:00:00\", \"2016-09-19T00:00:00\", \"2016-09-26T00:00:00\", \"2016-10-03T00:00:00\", \"2016-10-10T00:00:00\", \"2016-10-17T00:00:00\", \"2016-10-24T00:00:00\", \"2016-10-31T00:00:00\", \"2016-11-07T00:00:00\", \"2016-11-14T00:00:00\", \"2016-11-21T00:00:00\", \"2016-11-28T00:00:00\", \"2016-12-05T00:00:00\", \"2016-12-12T00:00:00\", \"2016-12-19T00:00:00\", \"2016-12-26T00:00:00\", \"2017-01-02T00:00:00\", \"2017-01-09T00:00:00\", \"2017-01-16T00:00:00\", \"2017-01-23T00:00:00\", \"2017-01-30T00:00:00\", \"2017-02-06T00:00:00\", \"2017-02-13T00:00:00\", \"2017-02-20T00:00:00\", \"2017-02-27T00:00:00\", \"2017-03-06T00:00:00\", \"2017-03-13T00:00:00\", \"2017-03-20T00:00:00\", \"2017-03-27T00:00:00\", \"2017-04-03T00:00:00\", \"2017-04-10T00:00:00\", \"2017-04-17T00:00:00\", \"2017-04-24T00:00:00\", \"2017-05-01T00:00:00\", \"2017-05-08T00:00:00\", \"2017-05-15T00:00:00\", \"2017-05-22T00:00:00\", \"2017-05-29T00:00:00\", \"2017-06-05T00:00:00\", \"2017-06-12T00:00:00\", \"2017-06-19T00:00:00\", \"2017-06-26T00:00:00\", \"2017-07-03T00:00:00\", \"2017-07-10T00:00:00\", \"2017-07-17T00:00:00\", \"2017-07-24T00:00:00\", \"2017-07-31T00:00:00\", \"2017-08-07T00:00:00\", \"2017-08-14T00:00:00\", \"2017-08-21T00:00:00\", \"2017-08-28T00:00:00\", \"2017-09-04T00:00:00\", \"2017-09-11T00:00:00\", \"2017-09-18T00:00:00\", \"2017-09-25T00:00:00\", \"2017-10-02T00:00:00\", \"2017-10-09T00:00:00\", \"2017-10-16T00:00:00\", \"2017-10-23T00:00:00\", \"2017-10-30T00:00:00\", \"2017-11-06T00:00:00\", \"2017-11-13T00:00:00\", \"2017-11-20T00:00:00\", \"2017-11-27T00:00:00\", \"2017-12-04T00:00:00\", \"2017-12-11T00:00:00\", \"2017-12-18T00:00:00\", \"2017-12-25T00:00:00\", \"2018-01-01T00:00:00\", \"2018-01-08T00:00:00\", \"2018-01-15T00:00:00\", \"2018-01-22T00:00:00\", \"2018-01-29T00:00:00\", \"2018-02-04T00:00:00\", \"2018-02-11T00:00:00\", \"2018-02-18T00:00:00\", \"2018-02-25T00:00:00\", \"2018-03-04T00:00:00\", \"2018-03-11T00:00:00\", \"2018-03-18T00:00:00\", \"2018-03-25T00:00:00\", \"2018-04-01T00:00:00\", \"2018-04-08T00:00:00\", \"2018-04-15T00:00:00\", \"2018-04-22T00:00:00\", \"2018-04-29T00:00:00\", \"2018-05-06T00:00:00\", \"2018-05-13T00:00:00\", \"2018-05-20T00:00:00\", \"2018-05-27T00:00:00\", \"2018-06-03T00:00:00\", \"2018-06-10T00:00:00\", \"2018-06-17T00:00:00\", \"2018-06-24T00:00:00\", \"2018-07-01T00:00:00\", \"2018-07-08T00:00:00\", \"2018-07-15T00:00:00\", \"2018-07-22T00:00:00\", \"2018-07-29T00:00:00\", \"2018-08-05T00:00:00\", \"2018-08-12T00:00:00\", \"2018-08-19T00:00:00\", \"2018-08-26T00:00:00\", \"2018-09-02T00:00:00\", \"2018-09-09T00:00:00\", \"2018-09-16T00:00:00\", \"2018-09-23T00:00:00\", \"2018-09-30T00:00:00\", \"2018-10-07T00:00:00\", \"2018-10-14T00:00:00\", \"2018-10-21T00:00:00\", \"2018-10-28T00:00:00\", \"2018-11-04T00:00:00\", \"2018-11-11T00:00:00\", \"2018-11-18T00:00:00\", \"2018-11-25T00:00:00\", \"2018-12-02T00:00:00\", \"2018-12-09T00:00:00\", \"2018-12-16T00:00:00\", \"2018-12-23T00:00:00\", \"2018-12-30T00:00:00\", \"2019-01-06T00:00:00\", \"2019-01-13T00:00:00\", \"2019-01-20T00:00:00\", \"2019-01-27T00:00:00\", \"2019-02-03T00:00:00\", \"2019-02-10T00:00:00\", \"2019-02-17T00:00:00\", \"2019-02-24T00:00:00\", \"2019-03-03T00:00:00\", \"2019-03-10T00:00:00\", \"2019-03-17T00:00:00\", \"2019-03-24T00:00:00\", \"2019-03-31T00:00:00\", \"2019-04-07T00:00:00\", \"2019-04-14T00:00:00\", \"2019-04-21T00:00:00\", \"2019-04-28T00:00:00\", \"2019-05-05T00:00:00\", \"2019-05-12T00:00:00\", \"2019-05-19T00:00:00\", \"2019-05-26T00:00:00\", \"2019-06-02T00:00:00\", \"2019-06-09T00:00:00\", \"2019-06-16T00:00:00\", \"2019-06-23T00:00:00\", \"2019-06-30T00:00:00\", \"2019-07-07T00:00:00\", \"2019-07-14T00:00:00\", \"2019-07-21T00:00:00\", \"2019-07-28T00:00:00\", \"2019-08-04T00:00:00\", \"2019-08-11T00:00:00\", \"2019-08-18T00:00:00\", \"2019-08-25T00:00:00\", \"2019-09-01T00:00:00\", \"2019-09-08T00:00:00\", \"2019-09-15T00:00:00\", \"2019-09-22T00:00:00\", \"2019-09-29T00:00:00\", \"2019-10-06T00:00:00\", \"2019-10-13T00:00:00\", \"2019-10-20T00:00:00\", \"2019-10-27T00:00:00\", \"2019-11-03T00:00:00\", \"2019-11-10T00:00:00\", \"2019-11-17T00:00:00\", \"2019-11-24T00:00:00\", \"2019-12-01T00:00:00\", \"2019-12-08T00:00:00\", \"2019-12-15T00:00:00\", \"2019-12-22T00:00:00\", \"2019-12-29T00:00:00\", \"2020-01-05T00:00:00\", \"2020-01-12T00:00:00\", \"2020-01-19T00:00:00\", \"2020-01-26T00:00:00\", \"2020-02-02T00:00:00\"], \"y\": [53825.073934378845, 55769.55637463642, 57714.038814894, 59658.521252845676, 61603.003690797355, 63547.486128749035, 65491.96856296757, 67436.45099718613, 69380.93342961998, 71325.41586205384, 73269.8982967565, 75214.38073145917, 77158.86316616184, 79103.34560299851, 81047.82803983518, 82992.31048141443, 84936.79292299367, 86881.2753639011, 88825.75780480854, 90770.24024571598, 92714.72268512793, 94659.20512453988, 96603.70853274027, 98548.21194094066, 100492.7153629373, 102437.21878493397, 104381.72220693062, 106327.50130453816, 108273.28040214573, 110219.45055681412, 112165.62071148251, 114113.9618686201, 116062.30302575769, 118012.20118612074, 119962.0993464838, 121911.99750684682, 123862.22955182681, 125812.46159680684, 127763.04251231879, 129713.62342783075, 131666.3220465631, 133619.02066529542, 135571.71928402776, 137525.44882991252, 139479.17837579732, 141433.29215891004, 143387.4059420228, 145341.82092537612, 147296.2359087294, 149250.65089208272, 151205.06592952381, 153159.4809669649, 155113.89628482683, 157068.3116026888, 159022.72692013026, 160977.14223757168, 162931.55755501313, 164885.97287603805, 166840.3881970629, 168794.80351682336, 170749.21883658384, 172703.63415634434, 174658.0494761048, 176612.4647958653, 178566.88011562574, 180521.29543538622, 182475.71075514672, 184430.1260749072, 186384.54139466764, 188338.95671442815, 190293.3720341886, 192247.78735394907, 194202.20267370954, 196156.61799347002, 139852.52255135012, 141806.93787107628, 143761.35319090704, 145715.7685106555, 147670.18383038166, 149624.5991501301, 151579.01446982624, 153533.429789657, 155487.8451093832, 157442.26042921396, 159396.6757489101, 161351.09106868855, 163305.506388467, 165259.92170821544, 167214.33702794163, 169168.7523477724, 171123.16766755085, 173077.58298729928, 175031.99830702547, 176986.41362685623, 178940.82894652235, 180895.24426624848, 182849.65958607927, 184804.07490577543, 186758.4902255539, 188712.90554533232, 190667.32086516308, 192621.73618480694, 194576.15150463773, 196530.56682441616, 198484.98214416465, 200439.3974638908, 202393.81278372157, 204348.22810350003, 206302.64342319616, 208257.05874289232, 210211.47406272308, 212165.8893823669, 214120.30470219767, 216074.72002202843, 218029.13534172456, 219983.55066150305, 221937.9659812815, 223892.38130111224, 225846.7966207561, 227801.21194058683, 229755.62726036535, 231710.0425800615, 233664.45789983997, 235618.87321958836, 237573.28853928452, 239527.703859063, 241482.11917884147, 243436.53449867223, 245390.9498183161, 247345.36513814682, 249299.78045797758, 251254.19577762144, 253208.6110974522, 255163.02641723066, 257117.44173706145, 259071.85705670528, 261026.272376536, 262980.6876963145, 264935.10301592835, 266889.5183357068, 268843.93365553755, 270798.3489751814, 272752.76429501217, 274707.17961479066, 276661.5949346214, 278616.0102542652, 280570.42557409604, 282524.84089392674, 284479.25621357065, 286433.67153340136, 288388.0868531798, 290342.5021729583, 292296.9174926544, 294251.3328124029, 296205.74813218135, 298160.1634518775, 300114.5787716559, 302068.9940914868, 304023.40941113053, 305977.8247309613, 307932.2400507398, 309886.6553705183, 311841.07069021446, 313795.48601004516, 315749.901329876, 317704.3166495198, 319658.73196935054, 321613.14728912903, 323567.5626087428, 325521.9779285213, 327476.39324835205, 329430.8085680782, 331385.22388782667, 333339.63920760516, 335294.05452743586, 337248.469847162, 339202.8851669928, 341157.3004866066, 343111.7158063851]}, {\"fill\": \"tonexty\", \"fillcolor\": \"rgba(0, 114, 178, 0.2)\", \"hoverinfo\": \"skip\", \"line\": {\"width\": 0}, \"mode\": \"lines\", \"type\": \"scatter\", \"x\": [\"2016-09-05T00:00:00\", \"2016-09-12T00:00:00\", \"2016-09-19T00:00:00\", \"2016-09-26T00:00:00\", \"2016-10-03T00:00:00\", \"2016-10-10T00:00:00\", \"2016-10-17T00:00:00\", \"2016-10-24T00:00:00\", \"2016-10-31T00:00:00\", \"2016-11-07T00:00:00\", \"2016-11-14T00:00:00\", \"2016-11-21T00:00:00\", \"2016-11-28T00:00:00\", \"2016-12-05T00:00:00\", \"2016-12-12T00:00:00\", \"2016-12-19T00:00:00\", \"2016-12-26T00:00:00\", \"2017-01-02T00:00:00\", \"2017-01-09T00:00:00\", \"2017-01-16T00:00:00\", \"2017-01-23T00:00:00\", \"2017-01-30T00:00:00\", \"2017-02-06T00:00:00\", \"2017-02-13T00:00:00\", \"2017-02-20T00:00:00\", \"2017-02-27T00:00:00\", \"2017-03-06T00:00:00\", \"2017-03-13T00:00:00\", \"2017-03-20T00:00:00\", \"2017-03-27T00:00:00\", \"2017-04-03T00:00:00\", \"2017-04-10T00:00:00\", \"2017-04-17T00:00:00\", \"2017-04-24T00:00:00\", \"2017-05-01T00:00:00\", \"2017-05-08T00:00:00\", \"2017-05-15T00:00:00\", \"2017-05-22T00:00:00\", \"2017-05-29T00:00:00\", \"2017-06-05T00:00:00\", \"2017-06-12T00:00:00\", \"2017-06-19T00:00:00\", \"2017-06-26T00:00:00\", \"2017-07-03T00:00:00\", \"2017-07-10T00:00:00\", \"2017-07-17T00:00:00\", \"2017-07-24T00:00:00\", \"2017-07-31T00:00:00\", \"2017-08-07T00:00:00\", \"2017-08-14T00:00:00\", \"2017-08-21T00:00:00\", \"2017-08-28T00:00:00\", \"2017-09-04T00:00:00\", \"2017-09-11T00:00:00\", \"2017-09-18T00:00:00\", \"2017-09-25T00:00:00\", \"2017-10-02T00:00:00\", \"2017-10-09T00:00:00\", \"2017-10-16T00:00:00\", \"2017-10-23T00:00:00\", \"2017-10-30T00:00:00\", \"2017-11-06T00:00:00\", \"2017-11-13T00:00:00\", \"2017-11-20T00:00:00\", \"2017-11-27T00:00:00\", \"2017-12-04T00:00:00\", \"2017-12-11T00:00:00\", \"2017-12-18T00:00:00\", \"2017-12-25T00:00:00\", \"2018-01-01T00:00:00\", \"2018-01-08T00:00:00\", \"2018-01-15T00:00:00\", \"2018-01-22T00:00:00\", \"2018-01-29T00:00:00\", \"2018-02-04T00:00:00\", \"2018-02-11T00:00:00\", \"2018-02-18T00:00:00\", \"2018-02-25T00:00:00\", \"2018-03-04T00:00:00\", \"2018-03-11T00:00:00\", \"2018-03-18T00:00:00\", \"2018-03-25T00:00:00\", \"2018-04-01T00:00:00\", \"2018-04-08T00:00:00\", \"2018-04-15T00:00:00\", \"2018-04-22T00:00:00\", \"2018-04-29T00:00:00\", \"2018-05-06T00:00:00\", \"2018-05-13T00:00:00\", \"2018-05-20T00:00:00\", \"2018-05-27T00:00:00\", \"2018-06-03T00:00:00\", \"2018-06-10T00:00:00\", \"2018-06-17T00:00:00\", \"2018-06-24T00:00:00\", \"2018-07-01T00:00:00\", \"2018-07-08T00:00:00\", \"2018-07-15T00:00:00\", \"2018-07-22T00:00:00\", \"2018-07-29T00:00:00\", \"2018-08-05T00:00:00\", \"2018-08-12T00:00:00\", \"2018-08-19T00:00:00\", \"2018-08-26T00:00:00\", \"2018-09-02T00:00:00\", \"2018-09-09T00:00:00\", \"2018-09-16T00:00:00\", \"2018-09-23T00:00:00\", \"2018-09-30T00:00:00\", \"2018-10-07T00:00:00\", \"2018-10-14T00:00:00\", \"2018-10-21T00:00:00\", \"2018-10-28T00:00:00\", \"2018-11-04T00:00:00\", \"2018-11-11T00:00:00\", \"2018-11-18T00:00:00\", \"2018-11-25T00:00:00\", \"2018-12-02T00:00:00\", \"2018-12-09T00:00:00\", \"2018-12-16T00:00:00\", \"2018-12-23T00:00:00\", \"2018-12-30T00:00:00\", \"2019-01-06T00:00:00\", \"2019-01-13T00:00:00\", \"2019-01-20T00:00:00\", \"2019-01-27T00:00:00\", \"2019-02-03T00:00:00\", \"2019-02-10T00:00:00\", \"2019-02-17T00:00:00\", \"2019-02-24T00:00:00\", \"2019-03-03T00:00:00\", \"2019-03-10T00:00:00\", \"2019-03-17T00:00:00\", \"2019-03-24T00:00:00\", \"2019-03-31T00:00:00\", \"2019-04-07T00:00:00\", \"2019-04-14T00:00:00\", \"2019-04-21T00:00:00\", \"2019-04-28T00:00:00\", \"2019-05-05T00:00:00\", \"2019-05-12T00:00:00\", \"2019-05-19T00:00:00\", \"2019-05-26T00:00:00\", \"2019-06-02T00:00:00\", \"2019-06-09T00:00:00\", \"2019-06-16T00:00:00\", \"2019-06-23T00:00:00\", \"2019-06-30T00:00:00\", \"2019-07-07T00:00:00\", \"2019-07-14T00:00:00\", \"2019-07-21T00:00:00\", \"2019-07-28T00:00:00\", \"2019-08-04T00:00:00\", \"2019-08-11T00:00:00\", \"2019-08-18T00:00:00\", \"2019-08-25T00:00:00\", \"2019-09-01T00:00:00\", \"2019-09-08T00:00:00\", \"2019-09-15T00:00:00\", \"2019-09-22T00:00:00\", \"2019-09-29T00:00:00\", \"2019-10-06T00:00:00\", \"2019-10-13T00:00:00\", \"2019-10-20T00:00:00\", \"2019-10-27T00:00:00\", \"2019-11-03T00:00:00\", \"2019-11-10T00:00:00\", \"2019-11-17T00:00:00\", \"2019-11-24T00:00:00\", \"2019-12-01T00:00:00\", \"2019-12-08T00:00:00\", \"2019-12-15T00:00:00\", \"2019-12-22T00:00:00\", \"2019-12-29T00:00:00\", \"2020-01-05T00:00:00\", \"2020-01-12T00:00:00\", \"2020-01-19T00:00:00\", \"2020-01-26T00:00:00\", \"2020-02-02T00:00:00\"], \"y\": [116401.84210245463, 121728.75126945681, 120064.4756973947, 123566.11635446915, 124304.55957855792, 124770.16485992256, 130171.39884661441, 126206.78777414304, 137982.931646807, 135886.09142344826, 136878.88289850735, 140779.07759694263, 138220.4409622041, 138861.97287585252, 143470.34383320235, 146711.04618633556, 148074.45039230652, 150364.97181077246, 149808.81408653254, 153296.32332096584, 154491.71640805854, 156342.6314663093, 155353.41376608005, 165276.53404651402, 165166.48632810716, 162008.458202328, 165447.9224580623, 171978.2549276311, 171019.07357293472, 168797.89783148142, 177461.37260778813, 180893.93494183914, 176201.91464392186, 185081.36813136906, 185077.8670256805, 185670.0817811288, 191856.51979942643, 189081.8752657369, 194813.1993269052, 196962.41226846346, 198125.44202349568, 197161.78983600723, 197199.55005832599, 205437.34558281265, 202401.37454661203, 206205.28625913378, 203513.07504581215, 210473.61471349068, 208962.9475756529, 213794.83010952128, 215715.88579408775, 212122.87498949008, 218483.5448261915, 219350.88996408155, 218855.86145719068, 230315.67272612953, 228418.2462090911, 229195.72300284923, 228523.14995152448, 228353.92575894133, 238029.0386062284, 240427.68711053426, 236037.27192042692, 237373.51111118274, 237646.4314559015, 240337.18598136047, 249419.10344595835, 252956.07471207794, 252302.2790102801, 250846.59159628683, 257929.94376936308, 261266.9199431222, 262661.75888168724, 258692.48931388414, 207127.32982443058, 206789.48617337094, 205675.56759562367, 209839.625640759, 215858.70040941876, 210603.70811126527, 218556.5908886796, 219853.82464981556, 224270.0439237547, 221218.35663795553, 224291.60713832948, 227449.99251398334, 227623.15529745718, 231567.0543979353, 231775.46212786174, 232961.74928264506, 230506.37567033127, 236264.29607777955, 238107.31490231483, 245821.03083080682, 244662.9312253049, 248538.0152078141, 244659.93780418445, 249699.65710716232, 248539.71956397875, 256895.5229312832, 254004.88760956255, 258358.68003397848, 261562.37731600384, 262330.7480910365, 259676.09572303915, 264583.6415147843, 269414.55510151887, 263992.45948371664, 269445.3932011292, 270944.57692487276, 276449.169582964, 277519.0329756835, 281318.6526596455, 280941.0524136799, 280573.94074057287, 287651.84612964373, 288497.29035810847, 291353.86376824963, 293878.6319997833, 286966.6633486091, 298723.4455118378, 298595.8542943402, 299679.2077253303, 300704.1507360561, 303395.45504983276, 299248.3754388597, 302726.21217649215, 308027.3647273912, 307735.39130170847, 311327.3607756556, 320150.13887061574, 311864.812791153, 317235.63195514795, 321401.71229506074, 320481.84156129346, 325293.593199868, 321742.88615981134, 329860.7574413484, 327703.1584034734, 335828.0616994504, 334629.6191662987, 334684.96020632505, 338540.1143030773, 337994.23700313695, 340298.6771848613, 340797.44476053846, 342268.3766970423, 348390.40583380545, 350995.1176767844, 348477.65097033756, 353241.4052248883, 356778.31161021144, 356771.6452093416, 356066.6827658934, 359720.71638124774, 360791.9629406042, 364641.8906887946, 367300.0583506571, 373082.9581523255, 368638.4220001925, 376413.5339259729, 368929.3758405248, 377949.9929012604, 379736.95543657755, 384664.80527627247, 382561.9381854815, 381829.33236824785, 388798.67314991006, 387142.59282645246, 385414.94102153636, 392464.4637055704, 393281.02408026153, 398400.9493777417, 397211.67531340674, 394858.24954394123, 399146.0666822828, 401025.62652555155, 405427.7308047649, 408663.99315898796]}],\n",
              "                        {\"height\": 600, \"showlegend\": false, \"template\": {\"data\": {\"bar\": [{\"error_x\": {\"color\": \"#2a3f5f\"}, \"error_y\": {\"color\": \"#2a3f5f\"}, \"marker\": {\"line\": {\"color\": \"#E5ECF6\", \"width\": 0.5}}, \"type\": \"bar\"}], \"barpolar\": [{\"marker\": {\"line\": {\"color\": \"#E5ECF6\", \"width\": 0.5}}, \"type\": \"barpolar\"}], \"carpet\": [{\"aaxis\": {\"endlinecolor\": \"#2a3f5f\", \"gridcolor\": \"white\", \"linecolor\": \"white\", \"minorgridcolor\": \"white\", \"startlinecolor\": \"#2a3f5f\"}, \"baxis\": {\"endlinecolor\": \"#2a3f5f\", \"gridcolor\": \"white\", \"linecolor\": \"white\", \"minorgridcolor\": \"white\", \"startlinecolor\": \"#2a3f5f\"}, \"type\": \"carpet\"}], \"choropleth\": [{\"colorbar\": {\"outlinewidth\": 0, \"ticks\": \"\"}, \"type\": \"choropleth\"}], \"contour\": [{\"colorbar\": {\"outlinewidth\": 0, \"ticks\": \"\"}, \"colorscale\": [[0.0, \"#0d0887\"], [0.1111111111111111, \"#46039f\"], [0.2222222222222222, \"#7201a8\"], [0.3333333333333333, \"#9c179e\"], [0.4444444444444444, \"#bd3786\"], [0.5555555555555556, \"#d8576b\"], [0.6666666666666666, \"#ed7953\"], [0.7777777777777778, \"#fb9f3a\"], [0.8888888888888888, \"#fdca26\"], [1.0, \"#f0f921\"]], \"type\": \"contour\"}], \"contourcarpet\": [{\"colorbar\": {\"outlinewidth\": 0, \"ticks\": \"\"}, \"type\": \"contourcarpet\"}], \"heatmap\": [{\"colorbar\": {\"outlinewidth\": 0, \"ticks\": \"\"}, \"colorscale\": [[0.0, \"#0d0887\"], [0.1111111111111111, \"#46039f\"], [0.2222222222222222, \"#7201a8\"], [0.3333333333333333, \"#9c179e\"], [0.4444444444444444, \"#bd3786\"], [0.5555555555555556, \"#d8576b\"], [0.6666666666666666, \"#ed7953\"], [0.7777777777777778, \"#fb9f3a\"], [0.8888888888888888, \"#fdca26\"], [1.0, \"#f0f921\"]], \"type\": \"heatmap\"}], \"heatmapgl\": [{\"colorbar\": {\"outlinewidth\": 0, \"ticks\": \"\"}, \"colorscale\": [[0.0, \"#0d0887\"], [0.1111111111111111, \"#46039f\"], [0.2222222222222222, \"#7201a8\"], [0.3333333333333333, \"#9c179e\"], [0.4444444444444444, \"#bd3786\"], [0.5555555555555556, \"#d8576b\"], [0.6666666666666666, \"#ed7953\"], [0.7777777777777778, \"#fb9f3a\"], [0.8888888888888888, \"#fdca26\"], [1.0, \"#f0f921\"]], \"type\": \"heatmapgl\"}], \"histogram\": [{\"marker\": {\"colorbar\": {\"outlinewidth\": 0, \"ticks\": \"\"}}, \"type\": \"histogram\"}], \"histogram2d\": [{\"colorbar\": {\"outlinewidth\": 0, \"ticks\": \"\"}, \"colorscale\": [[0.0, \"#0d0887\"], [0.1111111111111111, \"#46039f\"], [0.2222222222222222, \"#7201a8\"], [0.3333333333333333, \"#9c179e\"], [0.4444444444444444, \"#bd3786\"], [0.5555555555555556, \"#d8576b\"], [0.6666666666666666, \"#ed7953\"], [0.7777777777777778, \"#fb9f3a\"], [0.8888888888888888, \"#fdca26\"], [1.0, \"#f0f921\"]], \"type\": \"histogram2d\"}], \"histogram2dcontour\": [{\"colorbar\": {\"outlinewidth\": 0, \"ticks\": \"\"}, \"colorscale\": [[0.0, \"#0d0887\"], [0.1111111111111111, \"#46039f\"], [0.2222222222222222, \"#7201a8\"], [0.3333333333333333, \"#9c179e\"], [0.4444444444444444, \"#bd3786\"], [0.5555555555555556, \"#d8576b\"], [0.6666666666666666, \"#ed7953\"], [0.7777777777777778, \"#fb9f3a\"], [0.8888888888888888, \"#fdca26\"], [1.0, \"#f0f921\"]], \"type\": \"histogram2dcontour\"}], \"mesh3d\": [{\"colorbar\": {\"outlinewidth\": 0, \"ticks\": \"\"}, \"type\": \"mesh3d\"}], \"parcoords\": [{\"line\": {\"colorbar\": {\"outlinewidth\": 0, \"ticks\": \"\"}}, \"type\": \"parcoords\"}], \"pie\": [{\"automargin\": true, \"type\": \"pie\"}], \"scatter\": [{\"marker\": {\"colorbar\": {\"outlinewidth\": 0, \"ticks\": \"\"}}, \"type\": \"scatter\"}], \"scatter3d\": [{\"line\": {\"colorbar\": {\"outlinewidth\": 0, \"ticks\": \"\"}}, \"marker\": {\"colorbar\": {\"outlinewidth\": 0, \"ticks\": \"\"}}, \"type\": \"scatter3d\"}], \"scattercarpet\": [{\"marker\": {\"colorbar\": {\"outlinewidth\": 0, \"ticks\": \"\"}}, \"type\": \"scattercarpet\"}], \"scattergeo\": [{\"marker\": {\"colorbar\": {\"outlinewidth\": 0, \"ticks\": \"\"}}, \"type\": \"scattergeo\"}], \"scattergl\": [{\"marker\": {\"colorbar\": {\"outlinewidth\": 0, \"ticks\": \"\"}}, \"type\": \"scattergl\"}], \"scattermapbox\": [{\"marker\": {\"colorbar\": {\"outlinewidth\": 0, \"ticks\": \"\"}}, \"type\": \"scattermapbox\"}], \"scatterpolar\": [{\"marker\": {\"colorbar\": {\"outlinewidth\": 0, \"ticks\": \"\"}}, \"type\": \"scatterpolar\"}], \"scatterpolargl\": [{\"marker\": {\"colorbar\": {\"outlinewidth\": 0, \"ticks\": \"\"}}, \"type\": \"scatterpolargl\"}], \"scatterternary\": [{\"marker\": {\"colorbar\": {\"outlinewidth\": 0, \"ticks\": \"\"}}, \"type\": \"scatterternary\"}], \"surface\": [{\"colorbar\": {\"outlinewidth\": 0, \"ticks\": \"\"}, \"colorscale\": [[0.0, \"#0d0887\"], [0.1111111111111111, \"#46039f\"], [0.2222222222222222, \"#7201a8\"], [0.3333333333333333, \"#9c179e\"], [0.4444444444444444, \"#bd3786\"], [0.5555555555555556, \"#d8576b\"], [0.6666666666666666, \"#ed7953\"], [0.7777777777777778, \"#fb9f3a\"], [0.8888888888888888, \"#fdca26\"], [1.0, \"#f0f921\"]], \"type\": \"surface\"}], \"table\": [{\"cells\": {\"fill\": {\"color\": \"#EBF0F8\"}, \"line\": {\"color\": \"white\"}}, \"header\": {\"fill\": {\"color\": \"#C8D4E3\"}, \"line\": {\"color\": \"white\"}}, \"type\": \"table\"}]}, \"layout\": {\"annotationdefaults\": {\"arrowcolor\": \"#2a3f5f\", \"arrowhead\": 0, \"arrowwidth\": 1}, \"coloraxis\": {\"colorbar\": {\"outlinewidth\": 0, \"ticks\": \"\"}}, \"colorscale\": {\"diverging\": [[0, \"#8e0152\"], [0.1, \"#c51b7d\"], [0.2, \"#de77ae\"], [0.3, \"#f1b6da\"], [0.4, \"#fde0ef\"], [0.5, \"#f7f7f7\"], [0.6, \"#e6f5d0\"], [0.7, \"#b8e186\"], [0.8, \"#7fbc41\"], [0.9, \"#4d9221\"], [1, \"#276419\"]], \"sequential\": [[0.0, \"#0d0887\"], [0.1111111111111111, \"#46039f\"], [0.2222222222222222, \"#7201a8\"], [0.3333333333333333, \"#9c179e\"], [0.4444444444444444, \"#bd3786\"], [0.5555555555555556, \"#d8576b\"], [0.6666666666666666, \"#ed7953\"], [0.7777777777777778, \"#fb9f3a\"], [0.8888888888888888, \"#fdca26\"], [1.0, \"#f0f921\"]], \"sequentialminus\": [[0.0, \"#0d0887\"], [0.1111111111111111, \"#46039f\"], [0.2222222222222222, \"#7201a8\"], [0.3333333333333333, \"#9c179e\"], [0.4444444444444444, \"#bd3786\"], [0.5555555555555556, \"#d8576b\"], [0.6666666666666666, \"#ed7953\"], [0.7777777777777778, \"#fb9f3a\"], [0.8888888888888888, \"#fdca26\"], [1.0, \"#f0f921\"]]}, \"colorway\": [\"#636efa\", \"#EF553B\", \"#00cc96\", \"#ab63fa\", \"#FFA15A\", \"#19d3f3\", \"#FF6692\", \"#B6E880\", \"#FF97FF\", \"#FECB52\"], \"font\": {\"color\": \"#2a3f5f\"}, \"geo\": {\"bgcolor\": \"white\", \"lakecolor\": \"white\", \"landcolor\": \"#E5ECF6\", \"showlakes\": true, \"showland\": true, \"subunitcolor\": \"white\"}, \"hoverlabel\": {\"align\": \"left\"}, \"hovermode\": \"closest\", \"mapbox\": {\"style\": \"light\"}, \"paper_bgcolor\": \"white\", \"plot_bgcolor\": \"#E5ECF6\", \"polar\": {\"angularaxis\": {\"gridcolor\": \"white\", \"linecolor\": \"white\", \"ticks\": \"\"}, \"bgcolor\": \"#E5ECF6\", \"radialaxis\": {\"gridcolor\": \"white\", \"linecolor\": \"white\", \"ticks\": \"\"}}, \"scene\": {\"xaxis\": {\"backgroundcolor\": \"#E5ECF6\", \"gridcolor\": \"white\", \"gridwidth\": 2, \"linecolor\": \"white\", \"showbackground\": true, \"ticks\": \"\", \"zerolinecolor\": \"white\"}, \"yaxis\": {\"backgroundcolor\": \"#E5ECF6\", \"gridcolor\": \"white\", \"gridwidth\": 2, \"linecolor\": \"white\", \"showbackground\": true, \"ticks\": \"\", \"zerolinecolor\": \"white\"}, \"zaxis\": {\"backgroundcolor\": \"#E5ECF6\", \"gridcolor\": \"white\", \"gridwidth\": 2, \"linecolor\": \"white\", \"showbackground\": true, \"ticks\": \"\", \"zerolinecolor\": \"white\"}}, \"shapedefaults\": {\"line\": {\"color\": \"#2a3f5f\"}}, \"ternary\": {\"aaxis\": {\"gridcolor\": \"white\", \"linecolor\": \"white\", \"ticks\": \"\"}, \"baxis\": {\"gridcolor\": \"white\", \"linecolor\": \"white\", \"ticks\": \"\"}, \"bgcolor\": \"#E5ECF6\", \"caxis\": {\"gridcolor\": \"white\", \"linecolor\": \"white\", \"ticks\": \"\"}}, \"title\": {\"x\": 0.05}, \"xaxis\": {\"automargin\": true, \"gridcolor\": \"white\", \"linecolor\": \"white\", \"ticks\": \"\", \"title\": {\"standoff\": 15}, \"zerolinecolor\": \"white\", \"zerolinewidth\": 2}, \"yaxis\": {\"automargin\": true, \"gridcolor\": \"white\", \"linecolor\": \"white\", \"ticks\": \"\", \"title\": {\"standoff\": 15}, \"zerolinecolor\": \"white\", \"zerolinewidth\": 2}}}, \"width\": 900, \"xaxis\": {\"rangeselector\": {\"buttons\": [{\"count\": 7, \"label\": \"1w\", \"step\": \"day\", \"stepmode\": \"backward\"}, {\"count\": 1, \"label\": \"1m\", \"step\": \"month\", \"stepmode\": \"backward\"}, {\"count\": 6, \"label\": \"6m\", \"step\": \"month\", \"stepmode\": \"backward\"}, {\"count\": 1, \"label\": \"1y\", \"step\": \"year\", \"stepmode\": \"backward\"}, {\"step\": \"all\"}]}, \"rangeslider\": {\"visible\": true}, \"title\": {\"text\": \"ds\"}, \"type\": \"date\"}, \"yaxis\": {\"title\": {\"text\": \"y\"}}},\n",
              "                        {\"responsive\": true}\n",
              "                    ).then(function(){\n",
              "                            \n",
              "var gd = document.getElementById('98e3e682-a805-4238-ab87-4cc2f4ef739b');\n",
              "var x = new MutationObserver(function (mutations, observer) {{\n",
              "        var display = window.getComputedStyle(gd).display;\n",
              "        if (!display || display === 'none') {{\n",
              "            console.log([gd, 'removed!']);\n",
              "            Plotly.purge(gd);\n",
              "            observer.disconnect();\n",
              "        }}\n",
              "}});\n",
              "\n",
              "// Listen for the removal of the full notebook cells\n",
              "var notebookContainer = gd.closest('#notebook-container');\n",
              "if (notebookContainer) {{\n",
              "    x.observe(notebookContainer, {childList: true});\n",
              "}}\n",
              "\n",
              "// Listen for the clearing of the current output cell\n",
              "var outputEl = gd.closest('.output');\n",
              "if (outputEl) {{\n",
              "    x.observe(outputEl, {childList: true});\n",
              "}}\n",
              "\n",
              "                        })\n",
              "                };\n",
              "                \n",
              "            </script>\n",
              "        </div>\n",
              "</body>\n",
              "</html>"
            ]
          },
          "metadata": {}
        }
      ]
    },
    {
      "cell_type": "markdown",
      "source": [
        "**Cross validation - Year-Month**"
      ],
      "metadata": {
        "id": "jP5x5-XMR_9i"
      }
    },
    {
      "cell_type": "code",
      "source": [
        "df_cv = cross_validation(m, initial='10 days', period='360 days', horizon = '180 days').round(2)\n",
        "df_cv.head()"
      ],
      "metadata": {
        "colab": {
          "base_uri": "https://localhost:8080/",
          "height": 275,
          "referenced_widgets": [
            "78a7318347d940089a2fbe0eeb5495d2",
            "09b74814a22f4a59bccdd6676b5fac13",
            "2ccf718930fa43d9bf334f78c4349f95",
            "66279c84e8ca46d5870bb51455c508d4",
            "0d77bae103aa4b169bbbdb5a20fbd500",
            "9eb85b3faba142ee93658642f7b29f5d",
            "94ffed7124ec4c0385c9a2cb2f5a3fae",
            "b344f0c55f4a4af7938392f7eaae555f",
            "b47403fce57843329544a3f54129e8b6",
            "f90c6206335a421aa0692c7a264f2849",
            "f4133785fcfe46859f50e73ffeef9863"
          ]
        },
        "id": "eNdxob-KOsfQ",
        "outputId": "7ff97a1a-f735-4aea-91c5-cc88ba98af77"
      },
      "execution_count": 441,
      "outputs": [
        {
          "output_type": "stream",
          "name": "stderr",
          "text": [
            "INFO:fbprophet:Making 1 forecasts with cutoffs between 2017-08-05 00:00:00 and 2017-08-05 00:00:00\n"
          ]
        },
        {
          "output_type": "display_data",
          "data": {
            "application/vnd.jupyter.widget-view+json": {
              "model_id": "78a7318347d940089a2fbe0eeb5495d2",
              "version_minor": 0,
              "version_major": 2
            },
            "text/plain": [
              "  0%|          | 0/1 [00:00<?, ?it/s]"
            ]
          },
          "metadata": {}
        },
        {
          "output_type": "stream",
          "name": "stderr",
          "text": [
            "INFO:fbprophet:n_changepoints greater than number of observations. Using 8.\n"
          ]
        },
        {
          "output_type": "execute_result",
          "data": {
            "text/html": [
              "\n",
              "  <div id=\"df-2ccfe07f-6650-4087-a04a-6e5d5728d420\">\n",
              "    <div class=\"colab-df-container\">\n",
              "      <div>\n",
              "<style scoped>\n",
              "    .dataframe tbody tr th:only-of-type {\n",
              "        vertical-align: middle;\n",
              "    }\n",
              "\n",
              "    .dataframe tbody tr th {\n",
              "        vertical-align: top;\n",
              "    }\n",
              "\n",
              "    .dataframe thead th {\n",
              "        text-align: right;\n",
              "    }\n",
              "</style>\n",
              "<table border=\"1\" class=\"dataframe\">\n",
              "  <thead>\n",
              "    <tr style=\"text-align: right;\">\n",
              "      <th></th>\n",
              "      <th>ds</th>\n",
              "      <th>yhat</th>\n",
              "      <th>yhat_lower</th>\n",
              "      <th>yhat_upper</th>\n",
              "      <th>y</th>\n",
              "      <th>cutoff</th>\n",
              "    </tr>\n",
              "  </thead>\n",
              "  <tbody>\n",
              "    <tr>\n",
              "      <th>0</th>\n",
              "      <td>2017-09-01</td>\n",
              "      <td>324244.77</td>\n",
              "      <td>238727.97</td>\n",
              "      <td>403950.64</td>\n",
              "      <td>662276.39</td>\n",
              "      <td>2017-08-05</td>\n",
              "    </tr>\n",
              "    <tr>\n",
              "      <th>1</th>\n",
              "      <td>2017-10-01</td>\n",
              "      <td>327584.46</td>\n",
              "      <td>243430.63</td>\n",
              "      <td>417528.23</td>\n",
              "      <td>693807.60</td>\n",
              "      <td>2017-08-05</td>\n",
              "    </tr>\n",
              "    <tr>\n",
              "      <th>2</th>\n",
              "      <td>2017-11-01</td>\n",
              "      <td>457266.31</td>\n",
              "      <td>364418.27</td>\n",
              "      <td>548255.07</td>\n",
              "      <td>1046127.84</td>\n",
              "      <td>2017-08-05</td>\n",
              "    </tr>\n",
              "    <tr>\n",
              "      <th>3</th>\n",
              "      <td>2017-12-01</td>\n",
              "      <td>328696.05</td>\n",
              "      <td>231953.01</td>\n",
              "      <td>423215.57</td>\n",
              "      <td>770656.15</td>\n",
              "      <td>2017-08-05</td>\n",
              "    </tr>\n",
              "    <tr>\n",
              "      <th>4</th>\n",
              "      <td>2018-01-01</td>\n",
              "      <td>557310.99</td>\n",
              "      <td>447881.17</td>\n",
              "      <td>660350.71</td>\n",
              "      <td>987151.41</td>\n",
              "      <td>2017-08-05</td>\n",
              "    </tr>\n",
              "  </tbody>\n",
              "</table>\n",
              "</div>\n",
              "      <button class=\"colab-df-convert\" onclick=\"convertToInteractive('df-2ccfe07f-6650-4087-a04a-6e5d5728d420')\"\n",
              "              title=\"Convert this dataframe to an interactive table.\"\n",
              "              style=\"display:none;\">\n",
              "        \n",
              "  <svg xmlns=\"http://www.w3.org/2000/svg\" height=\"24px\"viewBox=\"0 0 24 24\"\n",
              "       width=\"24px\">\n",
              "    <path d=\"M0 0h24v24H0V0z\" fill=\"none\"/>\n",
              "    <path d=\"M18.56 5.44l.94 2.06.94-2.06 2.06-.94-2.06-.94-.94-2.06-.94 2.06-2.06.94zm-11 1L8.5 8.5l.94-2.06 2.06-.94-2.06-.94L8.5 2.5l-.94 2.06-2.06.94zm10 10l.94 2.06.94-2.06 2.06-.94-2.06-.94-.94-2.06-.94 2.06-2.06.94z\"/><path d=\"M17.41 7.96l-1.37-1.37c-.4-.4-.92-.59-1.43-.59-.52 0-1.04.2-1.43.59L10.3 9.45l-7.72 7.72c-.78.78-.78 2.05 0 2.83L4 21.41c.39.39.9.59 1.41.59.51 0 1.02-.2 1.41-.59l7.78-7.78 2.81-2.81c.8-.78.8-2.07 0-2.86zM5.41 20L4 18.59l7.72-7.72 1.47 1.35L5.41 20z\"/>\n",
              "  </svg>\n",
              "      </button>\n",
              "      \n",
              "  <style>\n",
              "    .colab-df-container {\n",
              "      display:flex;\n",
              "      flex-wrap:wrap;\n",
              "      gap: 12px;\n",
              "    }\n",
              "\n",
              "    .colab-df-convert {\n",
              "      background-color: #E8F0FE;\n",
              "      border: none;\n",
              "      border-radius: 50%;\n",
              "      cursor: pointer;\n",
              "      display: none;\n",
              "      fill: #1967D2;\n",
              "      height: 32px;\n",
              "      padding: 0 0 0 0;\n",
              "      width: 32px;\n",
              "    }\n",
              "\n",
              "    .colab-df-convert:hover {\n",
              "      background-color: #E2EBFA;\n",
              "      box-shadow: 0px 1px 2px rgba(60, 64, 67, 0.3), 0px 1px 3px 1px rgba(60, 64, 67, 0.15);\n",
              "      fill: #174EA6;\n",
              "    }\n",
              "\n",
              "    [theme=dark] .colab-df-convert {\n",
              "      background-color: #3B4455;\n",
              "      fill: #D2E3FC;\n",
              "    }\n",
              "\n",
              "    [theme=dark] .colab-df-convert:hover {\n",
              "      background-color: #434B5C;\n",
              "      box-shadow: 0px 1px 3px 1px rgba(0, 0, 0, 0.15);\n",
              "      filter: drop-shadow(0px 1px 2px rgba(0, 0, 0, 0.3));\n",
              "      fill: #FFFFFF;\n",
              "    }\n",
              "  </style>\n",
              "\n",
              "      <script>\n",
              "        const buttonEl =\n",
              "          document.querySelector('#df-2ccfe07f-6650-4087-a04a-6e5d5728d420 button.colab-df-convert');\n",
              "        buttonEl.style.display =\n",
              "          google.colab.kernel.accessAllowed ? 'block' : 'none';\n",
              "\n",
              "        async function convertToInteractive(key) {\n",
              "          const element = document.querySelector('#df-2ccfe07f-6650-4087-a04a-6e5d5728d420');\n",
              "          const dataTable =\n",
              "            await google.colab.kernel.invokeFunction('convertToInteractive',\n",
              "                                                     [key], {});\n",
              "          if (!dataTable) return;\n",
              "\n",
              "          const docLinkHtml = 'Like what you see? Visit the ' +\n",
              "            '<a target=\"_blank\" href=https://colab.research.google.com/notebooks/data_table.ipynb>data table notebook</a>'\n",
              "            + ' to learn more about interactive tables.';\n",
              "          element.innerHTML = '';\n",
              "          dataTable['output_type'] = 'display_data';\n",
              "          await google.colab.output.renderOutput(dataTable, element);\n",
              "          const docLink = document.createElement('div');\n",
              "          docLink.innerHTML = docLinkHtml;\n",
              "          element.appendChild(docLink);\n",
              "        }\n",
              "      </script>\n",
              "    </div>\n",
              "  </div>\n",
              "  "
            ],
            "text/plain": [
              "          ds       yhat  yhat_lower  yhat_upper           y     cutoff\n",
              "0 2017-09-01  324244.77   238727.97   403950.64   662276.39 2017-08-05\n",
              "1 2017-10-01  327584.46   243430.63   417528.23   693807.60 2017-08-05\n",
              "2 2017-11-01  457266.31   364418.27   548255.07  1046127.84 2017-08-05\n",
              "3 2017-12-01  328696.05   231953.01   423215.57   770656.15 2017-08-05\n",
              "4 2018-01-01  557310.99   447881.17   660350.71   987151.41 2017-08-05"
            ]
          },
          "metadata": {},
          "execution_count": 441
        }
      ]
    },
    {
      "cell_type": "markdown",
      "source": [
        "The performance_metrics utility can be used to compute some useful statistics of the prediction performance (yhat, yhat_lower, and yhat_upper compared to y), as a function of the distance from the cutoff (how far into the future the prediction was). The statistics computed are mean squared error (MSE), root mean squared error (RMSE), mean absolute error (MAE), mean absolute percent error (MAPE), median absolute percent error (MDAPE) and coverage of the yhat_lower and yhat_upper estimates. These are computed on a rolling window of the predictions in df_cv after sorting by horizon (ds minus cutoff). By default 10% of the predictions will be included in each window, but this can be changed with the rolling_window argument."
      ],
      "metadata": {
        "id": "I-IP7hrRnt9d"
      }
    },
    {
      "cell_type": "code",
      "source": [
        "df_p = performance_metrics(df_cv).round(2)\n",
        "df_p"
      ],
      "metadata": {
        "colab": {
          "base_uri": "https://localhost:8080/",
          "height": 237
        },
        "id": "fxyniD8wO2L9",
        "outputId": "a2a908c0-e863-4971-bafb-6371885cf5dd"
      },
      "execution_count": 442,
      "outputs": [
        {
          "output_type": "execute_result",
          "data": {
            "text/html": [
              "\n",
              "  <div id=\"df-7b0ba807-9caf-4827-8a9e-408df00ed2d9\">\n",
              "    <div class=\"colab-df-container\">\n",
              "      <div>\n",
              "<style scoped>\n",
              "    .dataframe tbody tr th:only-of-type {\n",
              "        vertical-align: middle;\n",
              "    }\n",
              "\n",
              "    .dataframe tbody tr th {\n",
              "        vertical-align: top;\n",
              "    }\n",
              "\n",
              "    .dataframe thead th {\n",
              "        text-align: right;\n",
              "    }\n",
              "</style>\n",
              "<table border=\"1\" class=\"dataframe\">\n",
              "  <thead>\n",
              "    <tr style=\"text-align: right;\">\n",
              "      <th></th>\n",
              "      <th>horizon</th>\n",
              "      <th>mse</th>\n",
              "      <th>rmse</th>\n",
              "      <th>mae</th>\n",
              "      <th>mape</th>\n",
              "      <th>mdape</th>\n",
              "      <th>coverage</th>\n",
              "    </tr>\n",
              "  </thead>\n",
              "  <tbody>\n",
              "    <tr>\n",
              "      <th>0</th>\n",
              "      <td>27 days</td>\n",
              "      <td>1.142654e+11</td>\n",
              "      <td>338031.62</td>\n",
              "      <td>338031.62</td>\n",
              "      <td>0.51</td>\n",
              "      <td>0.51</td>\n",
              "      <td>0.0</td>\n",
              "    </tr>\n",
              "    <tr>\n",
              "      <th>1</th>\n",
              "      <td>57 days</td>\n",
              "      <td>1.341194e+11</td>\n",
              "      <td>366223.14</td>\n",
              "      <td>366223.14</td>\n",
              "      <td>0.53</td>\n",
              "      <td>0.53</td>\n",
              "      <td>0.0</td>\n",
              "    </tr>\n",
              "    <tr>\n",
              "      <th>2</th>\n",
              "      <td>88 days</td>\n",
              "      <td>3.467579e+11</td>\n",
              "      <td>588861.53</td>\n",
              "      <td>588861.53</td>\n",
              "      <td>0.56</td>\n",
              "      <td>0.56</td>\n",
              "      <td>0.0</td>\n",
              "    </tr>\n",
              "    <tr>\n",
              "      <th>3</th>\n",
              "      <td>118 days</td>\n",
              "      <td>1.953287e+11</td>\n",
              "      <td>441960.10</td>\n",
              "      <td>441960.10</td>\n",
              "      <td>0.57</td>\n",
              "      <td>0.57</td>\n",
              "      <td>0.0</td>\n",
              "    </tr>\n",
              "    <tr>\n",
              "      <th>4</th>\n",
              "      <td>149 days</td>\n",
              "      <td>1.847628e+11</td>\n",
              "      <td>429840.42</td>\n",
              "      <td>429840.42</td>\n",
              "      <td>0.44</td>\n",
              "      <td>0.44</td>\n",
              "      <td>0.0</td>\n",
              "    </tr>\n",
              "    <tr>\n",
              "      <th>5</th>\n",
              "      <td>180 days</td>\n",
              "      <td>2.401404e+11</td>\n",
              "      <td>490041.18</td>\n",
              "      <td>490041.18</td>\n",
              "      <td>0.56</td>\n",
              "      <td>0.56</td>\n",
              "      <td>0.0</td>\n",
              "    </tr>\n",
              "  </tbody>\n",
              "</table>\n",
              "</div>\n",
              "      <button class=\"colab-df-convert\" onclick=\"convertToInteractive('df-7b0ba807-9caf-4827-8a9e-408df00ed2d9')\"\n",
              "              title=\"Convert this dataframe to an interactive table.\"\n",
              "              style=\"display:none;\">\n",
              "        \n",
              "  <svg xmlns=\"http://www.w3.org/2000/svg\" height=\"24px\"viewBox=\"0 0 24 24\"\n",
              "       width=\"24px\">\n",
              "    <path d=\"M0 0h24v24H0V0z\" fill=\"none\"/>\n",
              "    <path d=\"M18.56 5.44l.94 2.06.94-2.06 2.06-.94-2.06-.94-.94-2.06-.94 2.06-2.06.94zm-11 1L8.5 8.5l.94-2.06 2.06-.94-2.06-.94L8.5 2.5l-.94 2.06-2.06.94zm10 10l.94 2.06.94-2.06 2.06-.94-2.06-.94-.94-2.06-.94 2.06-2.06.94z\"/><path d=\"M17.41 7.96l-1.37-1.37c-.4-.4-.92-.59-1.43-.59-.52 0-1.04.2-1.43.59L10.3 9.45l-7.72 7.72c-.78.78-.78 2.05 0 2.83L4 21.41c.39.39.9.59 1.41.59.51 0 1.02-.2 1.41-.59l7.78-7.78 2.81-2.81c.8-.78.8-2.07 0-2.86zM5.41 20L4 18.59l7.72-7.72 1.47 1.35L5.41 20z\"/>\n",
              "  </svg>\n",
              "      </button>\n",
              "      \n",
              "  <style>\n",
              "    .colab-df-container {\n",
              "      display:flex;\n",
              "      flex-wrap:wrap;\n",
              "      gap: 12px;\n",
              "    }\n",
              "\n",
              "    .colab-df-convert {\n",
              "      background-color: #E8F0FE;\n",
              "      border: none;\n",
              "      border-radius: 50%;\n",
              "      cursor: pointer;\n",
              "      display: none;\n",
              "      fill: #1967D2;\n",
              "      height: 32px;\n",
              "      padding: 0 0 0 0;\n",
              "      width: 32px;\n",
              "    }\n",
              "\n",
              "    .colab-df-convert:hover {\n",
              "      background-color: #E2EBFA;\n",
              "      box-shadow: 0px 1px 2px rgba(60, 64, 67, 0.3), 0px 1px 3px 1px rgba(60, 64, 67, 0.15);\n",
              "      fill: #174EA6;\n",
              "    }\n",
              "\n",
              "    [theme=dark] .colab-df-convert {\n",
              "      background-color: #3B4455;\n",
              "      fill: #D2E3FC;\n",
              "    }\n",
              "\n",
              "    [theme=dark] .colab-df-convert:hover {\n",
              "      background-color: #434B5C;\n",
              "      box-shadow: 0px 1px 3px 1px rgba(0, 0, 0, 0.15);\n",
              "      filter: drop-shadow(0px 1px 2px rgba(0, 0, 0, 0.3));\n",
              "      fill: #FFFFFF;\n",
              "    }\n",
              "  </style>\n",
              "\n",
              "      <script>\n",
              "        const buttonEl =\n",
              "          document.querySelector('#df-7b0ba807-9caf-4827-8a9e-408df00ed2d9 button.colab-df-convert');\n",
              "        buttonEl.style.display =\n",
              "          google.colab.kernel.accessAllowed ? 'block' : 'none';\n",
              "\n",
              "        async function convertToInteractive(key) {\n",
              "          const element = document.querySelector('#df-7b0ba807-9caf-4827-8a9e-408df00ed2d9');\n",
              "          const dataTable =\n",
              "            await google.colab.kernel.invokeFunction('convertToInteractive',\n",
              "                                                     [key], {});\n",
              "          if (!dataTable) return;\n",
              "\n",
              "          const docLinkHtml = 'Like what you see? Visit the ' +\n",
              "            '<a target=\"_blank\" href=https://colab.research.google.com/notebooks/data_table.ipynb>data table notebook</a>'\n",
              "            + ' to learn more about interactive tables.';\n",
              "          element.innerHTML = '';\n",
              "          dataTable['output_type'] = 'display_data';\n",
              "          await google.colab.output.renderOutput(dataTable, element);\n",
              "          const docLink = document.createElement('div');\n",
              "          docLink.innerHTML = docLinkHtml;\n",
              "          element.appendChild(docLink);\n",
              "        }\n",
              "      </script>\n",
              "    </div>\n",
              "  </div>\n",
              "  "
            ],
            "text/plain": [
              "   horizon           mse       rmse        mae  mape  mdape  coverage\n",
              "0  27 days  1.142654e+11  338031.62  338031.62  0.51   0.51       0.0\n",
              "1  57 days  1.341194e+11  366223.14  366223.14  0.53   0.53       0.0\n",
              "2  88 days  3.467579e+11  588861.53  588861.53  0.56   0.56       0.0\n",
              "3 118 days  1.953287e+11  441960.10  441960.10  0.57   0.57       0.0\n",
              "4 149 days  1.847628e+11  429840.42  429840.42  0.44   0.44       0.0\n",
              "5 180 days  2.401404e+11  490041.18  490041.18  0.56   0.56       0.0"
            ]
          },
          "metadata": {},
          "execution_count": 442
        }
      ]
    },
    {
      "cell_type": "markdown",
      "source": [
        "Cross validation performance metrics can be visualized with plot_cross_validation_metric, here shown for MAPE. Dots show the absolute percent error for each prediction in df_cv. The blue line shows the MAPE, where the mean is taken over a rolling window of the dots. We see for this forecast that errors around 5% are typical for predictions one month into the future, and that errors increase up to around 11% for predictions that are a year out."
      ],
      "metadata": {
        "id": "8AKq7Ow0n49k"
      }
    },
    {
      "cell_type": "code",
      "source": [
        "fig = plot_cross_validation_metric(df_cv, metric='mape')"
      ],
      "metadata": {
        "colab": {
          "base_uri": "https://localhost:8080/",
          "height": 391
        },
        "id": "d57uRX4DRPYB",
        "outputId": "18e5c731-76c2-42b5-b3ec-18b7e7a1c9d4"
      },
      "execution_count": 443,
      "outputs": [
        {
          "output_type": "display_data",
          "data": {
            "image/png": "[encoded data removed]",
            "text/plain": [
              "<Figure size 720x432 with 1 Axes>"
            ]
          },
          "metadata": {}
        }
      ]
    },
    {
      "cell_type": "markdown",
      "source": [
        "**Cross validation - Year-Week**"
      ],
      "metadata": {
        "id": "0zSxYmnfSLC8"
      }
    },
    {
      "cell_type": "code",
      "source": [
        "df_cvw = cross_validation(mw, initial='10 days', period='360 days', horizon = '180 days').round(2)\n",
        "df_cvw.head()"
      ],
      "metadata": {
        "colab": {
          "base_uri": "https://localhost:8080/",
          "height": 256,
          "referenced_widgets": [
            "c1b5076fe50f49d68c7f4ca91a1fd8c2",
            "a5fd068989b0443787412d388c04ad59",
            "b402007168514c78994576c01c9db5fe",
            "c4f986b018e64f7bbfc2532539bc6253",
            "e25f060627a74fc386af343d37dcbd3c",
            "fe7aa29f52d9450a9ebcbdbb3bd2b857",
            "fa248e5a05494d0fbdd7633abd7c78b3",
            "b0886215cfb841c49c49eba71d543dd5",
            "cba1a67cbf914855852906677f0c628c",
            "6999e3e127fe478ca2f5944184de21a1",
            "6457a4fabbe54e409067d1d310f589ca"
          ]
        },
        "id": "7WJzCQE2SPmQ",
        "outputId": "fab30c8e-b039-45dc-ae6f-f8603e9f43d7"
      },
      "execution_count": 444,
      "outputs": [
        {
          "output_type": "stream",
          "name": "stderr",
          "text": [
            "INFO:fbprophet:Making 1 forecasts with cutoffs between 2017-08-02 00:00:00 and 2017-08-02 00:00:00\n"
          ]
        },
        {
          "output_type": "display_data",
          "data": {
            "application/vnd.jupyter.widget-view+json": {
              "model_id": "c1b5076fe50f49d68c7f4ca91a1fd8c2",
              "version_minor": 0,
              "version_major": 2
            },
            "text/plain": [
              "  0%|          | 0/1 [00:00<?, ?it/s]"
            ]
          },
          "metadata": {}
        },
        {
          "output_type": "execute_result",
          "data": {
            "text/html": [
              "\n",
              "  <div id=\"df-79b9bb53-9f4e-4581-a85c-9efc5c7260d3\">\n",
              "    <div class=\"colab-df-container\">\n",
              "      <div>\n",
              "<style scoped>\n",
              "    .dataframe tbody tr th:only-of-type {\n",
              "        vertical-align: middle;\n",
              "    }\n",
              "\n",
              "    .dataframe tbody tr th {\n",
              "        vertical-align: top;\n",
              "    }\n",
              "\n",
              "    .dataframe thead th {\n",
              "        text-align: right;\n",
              "    }\n",
              "</style>\n",
              "<table border=\"1\" class=\"dataframe\">\n",
              "  <thead>\n",
              "    <tr style=\"text-align: right;\">\n",
              "      <th></th>\n",
              "      <th>ds</th>\n",
              "      <th>yhat</th>\n",
              "      <th>yhat_lower</th>\n",
              "      <th>yhat_upper</th>\n",
              "      <th>y</th>\n",
              "      <th>cutoff</th>\n",
              "    </tr>\n",
              "  </thead>\n",
              "  <tbody>\n",
              "    <tr>\n",
              "      <th>0</th>\n",
              "      <td>2017-08-07</td>\n",
              "      <td>112358.59</td>\n",
              "      <td>65832.39</td>\n",
              "      <td>161385.78</td>\n",
              "      <td>133458.56</td>\n",
              "      <td>2017-08-02</td>\n",
              "    </tr>\n",
              "    <tr>\n",
              "      <th>1</th>\n",
              "      <td>2017-08-14</td>\n",
              "      <td>113081.16</td>\n",
              "      <td>63912.53</td>\n",
              "      <td>161155.36</td>\n",
              "      <td>130824.37</td>\n",
              "      <td>2017-08-02</td>\n",
              "    </tr>\n",
              "    <tr>\n",
              "      <th>2</th>\n",
              "      <td>2017-08-21</td>\n",
              "      <td>113803.73</td>\n",
              "      <td>65937.63</td>\n",
              "      <td>162858.91</td>\n",
              "      <td>138609.53</td>\n",
              "      <td>2017-08-02</td>\n",
              "    </tr>\n",
              "    <tr>\n",
              "      <th>3</th>\n",
              "      <td>2017-08-28</td>\n",
              "      <td>114526.30</td>\n",
              "      <td>65479.12</td>\n",
              "      <td>166662.63</td>\n",
              "      <td>111340.71</td>\n",
              "      <td>2017-08-02</td>\n",
              "    </tr>\n",
              "    <tr>\n",
              "      <th>4</th>\n",
              "      <td>2017-09-04</td>\n",
              "      <td>115248.87</td>\n",
              "      <td>63218.95</td>\n",
              "      <td>163930.86</td>\n",
              "      <td>193104.23</td>\n",
              "      <td>2017-08-02</td>\n",
              "    </tr>\n",
              "  </tbody>\n",
              "</table>\n",
              "</div>\n",
              "      <button class=\"colab-df-convert\" onclick=\"convertToInteractive('df-79b9bb53-9f4e-4581-a85c-9efc5c7260d3')\"\n",
              "              title=\"Convert this dataframe to an interactive table.\"\n",
              "              style=\"display:none;\">\n",
              "        \n",
              "  <svg xmlns=\"http://www.w3.org/2000/svg\" height=\"24px\"viewBox=\"0 0 24 24\"\n",
              "       width=\"24px\">\n",
              "    <path d=\"M0 0h24v24H0V0z\" fill=\"none\"/>\n",
              "    <path d=\"M18.56 5.44l.94 2.06.94-2.06 2.06-.94-2.06-.94-.94-2.06-.94 2.06-2.06.94zm-11 1L8.5 8.5l.94-2.06 2.06-.94-2.06-.94L8.5 2.5l-.94 2.06-2.06.94zm10 10l.94 2.06.94-2.06 2.06-.94-2.06-.94-.94-2.06-.94 2.06-2.06.94z\"/><path d=\"M17.41 7.96l-1.37-1.37c-.4-.4-.92-.59-1.43-.59-.52 0-1.04.2-1.43.59L10.3 9.45l-7.72 7.72c-.78.78-.78 2.05 0 2.83L4 21.41c.39.39.9.59 1.41.59.51 0 1.02-.2 1.41-.59l7.78-7.78 2.81-2.81c.8-.78.8-2.07 0-2.86zM5.41 20L4 18.59l7.72-7.72 1.47 1.35L5.41 20z\"/>\n",
              "  </svg>\n",
              "      </button>\n",
              "      \n",
              "  <style>\n",
              "    .colab-df-container {\n",
              "      display:flex;\n",
              "      flex-wrap:wrap;\n",
              "      gap: 12px;\n",
              "    }\n",
              "\n",
              "    .colab-df-convert {\n",
              "      background-color: #E8F0FE;\n",
              "      border: none;\n",
              "      border-radius: 50%;\n",
              "      cursor: pointer;\n",
              "      display: none;\n",
              "      fill: #1967D2;\n",
              "      height: 32px;\n",
              "      padding: 0 0 0 0;\n",
              "      width: 32px;\n",
              "    }\n",
              "\n",
              "    .colab-df-convert:hover {\n",
              "      background-color: #E2EBFA;\n",
              "      box-shadow: 0px 1px 2px rgba(60, 64, 67, 0.3), 0px 1px 3px 1px rgba(60, 64, 67, 0.15);\n",
              "      fill: #174EA6;\n",
              "    }\n",
              "\n",
              "    [theme=dark] .colab-df-convert {\n",
              "      background-color: #3B4455;\n",
              "      fill: #D2E3FC;\n",
              "    }\n",
              "\n",
              "    [theme=dark] .colab-df-convert:hover {\n",
              "      background-color: #434B5C;\n",
              "      box-shadow: 0px 1px 3px 1px rgba(0, 0, 0, 0.15);\n",
              "      filter: drop-shadow(0px 1px 2px rgba(0, 0, 0, 0.3));\n",
              "      fill: #FFFFFF;\n",
              "    }\n",
              "  </style>\n",
              "\n",
              "      <script>\n",
              "        const buttonEl =\n",
              "          document.querySelector('#df-79b9bb53-9f4e-4581-a85c-9efc5c7260d3 button.colab-df-convert');\n",
              "        buttonEl.style.display =\n",
              "          google.colab.kernel.accessAllowed ? 'block' : 'none';\n",
              "\n",
              "        async function convertToInteractive(key) {\n",
              "          const element = document.querySelector('#df-79b9bb53-9f4e-4581-a85c-9efc5c7260d3');\n",
              "          const dataTable =\n",
              "            await google.colab.kernel.invokeFunction('convertToInteractive',\n",
              "                                                     [key], {});\n",
              "          if (!dataTable) return;\n",
              "\n",
              "          const docLinkHtml = 'Like what you see? Visit the ' +\n",
              "            '<a target=\"_blank\" href=https://colab.research.google.com/notebooks/data_table.ipynb>data table notebook</a>'\n",
              "            + ' to learn more about interactive tables.';\n",
              "          element.innerHTML = '';\n",
              "          dataTable['output_type'] = 'display_data';\n",
              "          await google.colab.output.renderOutput(dataTable, element);\n",
              "          const docLink = document.createElement('div');\n",
              "          docLink.innerHTML = docLinkHtml;\n",
              "          element.appendChild(docLink);\n",
              "        }\n",
              "      </script>\n",
              "    </div>\n",
              "  </div>\n",
              "  "
            ],
            "text/plain": [
              "          ds       yhat  yhat_lower  yhat_upper          y     cutoff\n",
              "0 2017-08-07  112358.59    65832.39   161385.78  133458.56 2017-08-02\n",
              "1 2017-08-14  113081.16    63912.53   161155.36  130824.37 2017-08-02\n",
              "2 2017-08-21  113803.73    65937.63   162858.91  138609.53 2017-08-02\n",
              "3 2017-08-28  114526.30    65479.12   166662.63  111340.71 2017-08-02\n",
              "4 2017-09-04  115248.87    63218.95   163930.86  193104.23 2017-08-02"
            ]
          },
          "metadata": {},
          "execution_count": 444
        }
      ]
    },
    {
      "cell_type": "code",
      "source": [
        "df_pw = performance_metrics(df_cvw).round(2)\n",
        "df_pw.head()"
      ],
      "metadata": {
        "colab": {
          "base_uri": "https://localhost:8080/",
          "height": 206
        },
        "id": "l8twPJTrSPu5",
        "outputId": "4e356392-54ac-46b0-b267-280cb33eed22"
      },
      "execution_count": 445,
      "outputs": [
        {
          "output_type": "execute_result",
          "data": {
            "text/html": [
              "\n",
              "  <div id=\"df-87c53007-7dd4-413f-a518-a869d864cf35\">\n",
              "    <div class=\"colab-df-container\">\n",
              "      <div>\n",
              "<style scoped>\n",
              "    .dataframe tbody tr th:only-of-type {\n",
              "        vertical-align: middle;\n",
              "    }\n",
              "\n",
              "    .dataframe tbody tr th {\n",
              "        vertical-align: top;\n",
              "    }\n",
              "\n",
              "    .dataframe thead th {\n",
              "        text-align: right;\n",
              "    }\n",
              "</style>\n",
              "<table border=\"1\" class=\"dataframe\">\n",
              "  <thead>\n",
              "    <tr style=\"text-align: right;\">\n",
              "      <th></th>\n",
              "      <th>horizon</th>\n",
              "      <th>mse</th>\n",
              "      <th>rmse</th>\n",
              "      <th>mae</th>\n",
              "      <th>mape</th>\n",
              "      <th>mdape</th>\n",
              "      <th>coverage</th>\n",
              "    </tr>\n",
              "  </thead>\n",
              "  <tbody>\n",
              "    <tr>\n",
              "      <th>0</th>\n",
              "      <td>12 days</td>\n",
              "      <td>3.800151e+08</td>\n",
              "      <td>19493.98</td>\n",
              "      <td>19421.59</td>\n",
              "      <td>0.15</td>\n",
              "      <td>0.15</td>\n",
              "      <td>1.0</td>\n",
              "    </tr>\n",
              "    <tr>\n",
              "      <th>1</th>\n",
              "      <td>19 days</td>\n",
              "      <td>4.650746e+08</td>\n",
              "      <td>21565.59</td>\n",
              "      <td>21274.50</td>\n",
              "      <td>0.16</td>\n",
              "      <td>0.16</td>\n",
              "      <td>1.0</td>\n",
              "    </tr>\n",
              "    <tr>\n",
              "      <th>2</th>\n",
              "      <td>26 days</td>\n",
              "      <td>3.127378e+08</td>\n",
              "      <td>17684.40</td>\n",
              "      <td>13995.70</td>\n",
              "      <td>0.10</td>\n",
              "      <td>0.10</td>\n",
              "      <td>1.0</td>\n",
              "    </tr>\n",
              "    <tr>\n",
              "      <th>3</th>\n",
              "      <td>33 days</td>\n",
              "      <td>3.035803e+09</td>\n",
              "      <td>55098.12</td>\n",
              "      <td>40520.48</td>\n",
              "      <td>0.22</td>\n",
              "      <td>0.22</td>\n",
              "      <td>0.5</td>\n",
              "    </tr>\n",
              "    <tr>\n",
              "      <th>4</th>\n",
              "      <td>40 days</td>\n",
              "      <td>3.496662e+09</td>\n",
              "      <td>59132.58</td>\n",
              "      <td>54190.92</td>\n",
              "      <td>0.31</td>\n",
              "      <td>0.31</td>\n",
              "      <td>0.5</td>\n",
              "    </tr>\n",
              "  </tbody>\n",
              "</table>\n",
              "</div>\n",
              "      <button class=\"colab-df-convert\" onclick=\"convertToInteractive('df-87c53007-7dd4-413f-a518-a869d864cf35')\"\n",
              "              title=\"Convert this dataframe to an interactive table.\"\n",
              "              style=\"display:none;\">\n",
              "        \n",
              "  <svg xmlns=\"http://www.w3.org/2000/svg\" height=\"24px\"viewBox=\"0 0 24 24\"\n",
              "       width=\"24px\">\n",
              "    <path d=\"M0 0h24v24H0V0z\" fill=\"none\"/>\n",
              "    <path d=\"M18.56 5.44l.94 2.06.94-2.06 2.06-.94-2.06-.94-.94-2.06-.94 2.06-2.06.94zm-11 1L8.5 8.5l.94-2.06 2.06-.94-2.06-.94L8.5 2.5l-.94 2.06-2.06.94zm10 10l.94 2.06.94-2.06 2.06-.94-2.06-.94-.94-2.06-.94 2.06-2.06.94z\"/><path d=\"M17.41 7.96l-1.37-1.37c-.4-.4-.92-.59-1.43-.59-.52 0-1.04.2-1.43.59L10.3 9.45l-7.72 7.72c-.78.78-.78 2.05 0 2.83L4 21.41c.39.39.9.59 1.41.59.51 0 1.02-.2 1.41-.59l7.78-7.78 2.81-2.81c.8-.78.8-2.07 0-2.86zM5.41 20L4 18.59l7.72-7.72 1.47 1.35L5.41 20z\"/>\n",
              "  </svg>\n",
              "      </button>\n",
              "      \n",
              "  <style>\n",
              "    .colab-df-container {\n",
              "      display:flex;\n",
              "      flex-wrap:wrap;\n",
              "      gap: 12px;\n",
              "    }\n",
              "\n",
              "    .colab-df-convert {\n",
              "      background-color: #E8F0FE;\n",
              "      border: none;\n",
              "      border-radius: 50%;\n",
              "      cursor: pointer;\n",
              "      display: none;\n",
              "      fill: #1967D2;\n",
              "      height: 32px;\n",
              "      padding: 0 0 0 0;\n",
              "      width: 32px;\n",
              "    }\n",
              "\n",
              "    .colab-df-convert:hover {\n",
              "      background-color: #E2EBFA;\n",
              "      box-shadow: 0px 1px 2px rgba(60, 64, 67, 0.3), 0px 1px 3px 1px rgba(60, 64, 67, 0.15);\n",
              "      fill: #174EA6;\n",
              "    }\n",
              "\n",
              "    [theme=dark] .colab-df-convert {\n",
              "      background-color: #3B4455;\n",
              "      fill: #D2E3FC;\n",
              "    }\n",
              "\n",
              "    [theme=dark] .colab-df-convert:hover {\n",
              "      background-color: #434B5C;\n",
              "      box-shadow: 0px 1px 3px 1px rgba(0, 0, 0, 0.15);\n",
              "      filter: drop-shadow(0px 1px 2px rgba(0, 0, 0, 0.3));\n",
              "      fill: #FFFFFF;\n",
              "    }\n",
              "  </style>\n",
              "\n",
              "      <script>\n",
              "        const buttonEl =\n",
              "          document.querySelector('#df-87c53007-7dd4-413f-a518-a869d864cf35 button.colab-df-convert');\n",
              "        buttonEl.style.display =\n",
              "          google.colab.kernel.accessAllowed ? 'block' : 'none';\n",
              "\n",
              "        async function convertToInteractive(key) {\n",
              "          const element = document.querySelector('#df-87c53007-7dd4-413f-a518-a869d864cf35');\n",
              "          const dataTable =\n",
              "            await google.colab.kernel.invokeFunction('convertToInteractive',\n",
              "                                                     [key], {});\n",
              "          if (!dataTable) return;\n",
              "\n",
              "          const docLinkHtml = 'Like what you see? Visit the ' +\n",
              "            '<a target=\"_blank\" href=https://colab.research.google.com/notebooks/data_table.ipynb>data table notebook</a>'\n",
              "            + ' to learn more about interactive tables.';\n",
              "          element.innerHTML = '';\n",
              "          dataTable['output_type'] = 'display_data';\n",
              "          await google.colab.output.renderOutput(dataTable, element);\n",
              "          const docLink = document.createElement('div');\n",
              "          docLink.innerHTML = docLinkHtml;\n",
              "          element.appendChild(docLink);\n",
              "        }\n",
              "      </script>\n",
              "    </div>\n",
              "  </div>\n",
              "  "
            ],
            "text/plain": [
              "  horizon           mse      rmse       mae  mape  mdape  coverage\n",
              "0 12 days  3.800151e+08  19493.98  19421.59  0.15   0.15       1.0\n",
              "1 19 days  4.650746e+08  21565.59  21274.50  0.16   0.16       1.0\n",
              "2 26 days  3.127378e+08  17684.40  13995.70  0.10   0.10       1.0\n",
              "3 33 days  3.035803e+09  55098.12  40520.48  0.22   0.22       0.5\n",
              "4 40 days  3.496662e+09  59132.58  54190.92  0.31   0.31       0.5"
            ]
          },
          "metadata": {},
          "execution_count": 445
        }
      ]
    },
    {
      "cell_type": "code",
      "source": [
        "fig = plot_cross_validation_metric(df_cvw, metric='mape')"
      ],
      "metadata": {
        "colab": {
          "base_uri": "https://localhost:8080/",
          "height": 388
        },
        "id": "Y1WjUmKcSWEe",
        "outputId": "9942973b-f75a-48cd-a61f-51c0e60a218d"
      },
      "execution_count": 446,
      "outputs": [
        {
          "output_type": "display_data",
          "data": {
            "image/png": "[encoded data removed]",
            "text/plain": [
              "<Figure size 720x432 with 1 Axes>"
            ]
          },
          "metadata": {}
        }
      ]
    },
    {
      "cell_type": "markdown",
      "source": [
        "# **Reference**\n",
        "\n",
        "\n",
        "https://facebook.github.io/prophet/"
      ],
      "metadata": {
        "id": "lGUQABUHrobG"
      }
    }
  ]
}